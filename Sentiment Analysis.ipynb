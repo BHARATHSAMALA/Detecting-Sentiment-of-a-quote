{
 "cells": [
  {
   "cell_type": "markdown",
   "metadata": {
    "_uuid": "92b885dd147dac19bd0a33db3cd0da100bd5bc23"
   },
   "source": [
    "# Sentiment Analysis"
   ]
  },
  {
   "cell_type": "code",
   "execution_count": 1,
   "metadata": {
    "_uuid": "70282bce8b42a51e4d44f2c7d85c4ca9567b0fd4"
   },
   "outputs": [
    {
     "name": "stdout",
     "output_type": "stream",
     "text": [
      "Collecting gensim\n",
      "\u001b[?25l  Downloading https://files.pythonhosted.org/packages/2b/e0/fa6326251692056dc880a64eb22117e03269906ba55a6864864d24ec8b4e/gensim-3.8.3-cp36-cp36m-manylinux1_x86_64.whl (24.2MB)\n",
      "\u001b[K    100% |████████████████████████████████| 24.2MB 2.0MB/s eta 0:00:01\n",
      "\u001b[?25hCollecting smart-open>=1.8.1 (from gensim)\n",
      "\u001b[?25l  Downloading https://files.pythonhosted.org/packages/0b/8e/464b06f5efd26f2dc16ce7bd1662c2f31cadf9104fdbcbf5994674cc3a51/smart_open-2.1.0.tar.gz (116kB)\n",
      "\u001b[K    100% |████████████████████████████████| 122kB 30.2MB/s ta 0:00:01\n",
      "\u001b[?25hRequirement already satisfied, skipping upgrade: numpy>=1.11.3 in /opt/conda/lib/python3.6/site-packages (from gensim) (1.15.4)\n",
      "Requirement already satisfied, skipping upgrade: six>=1.5.0 in /opt/conda/lib/python3.6/site-packages (from gensim) (1.11.0)\n",
      "Requirement already satisfied, skipping upgrade: scipy>=0.18.1 in /opt/conda/lib/python3.6/site-packages (from gensim) (1.1.0)\n",
      "Requirement already satisfied, skipping upgrade: requests in /opt/conda/lib/python3.6/site-packages (from smart-open>=1.8.1->gensim) (2.21.0)\n",
      "Requirement already satisfied, skipping upgrade: boto in /opt/conda/lib/python3.6/site-packages (from smart-open>=1.8.1->gensim) (2.48.0)\n",
      "Requirement already satisfied, skipping upgrade: boto3 in /opt/conda/lib/python3.6/site-packages (from smart-open>=1.8.1->gensim) (1.9.63)\n",
      "Requirement already satisfied, skipping upgrade: chardet<3.1.0,>=3.0.2 in /opt/conda/lib/python3.6/site-packages (from requests->smart-open>=1.8.1->gensim) (3.0.4)\n",
      "Requirement already satisfied, skipping upgrade: certifi>=2017.4.17 in /opt/conda/lib/python3.6/site-packages (from requests->smart-open>=1.8.1->gensim) (2018.11.29)\n",
      "Requirement already satisfied, skipping upgrade: urllib3<1.25,>=1.21.1 in /opt/conda/lib/python3.6/site-packages (from requests->smart-open>=1.8.1->gensim) (1.22)\n",
      "Requirement already satisfied, skipping upgrade: idna<2.9,>=2.5 in /opt/conda/lib/python3.6/site-packages (from requests->smart-open>=1.8.1->gensim) (2.6)\n",
      "Requirement already satisfied, skipping upgrade: s3transfer<0.2.0,>=0.1.10 in /opt/conda/lib/python3.6/site-packages (from boto3->smart-open>=1.8.1->gensim) (0.1.13)\n",
      "Requirement already satisfied, skipping upgrade: jmespath<1.0.0,>=0.7.1 in /opt/conda/lib/python3.6/site-packages (from boto3->smart-open>=1.8.1->gensim) (0.9.3)\n",
      "Requirement already satisfied, skipping upgrade: botocore<1.13.0,>=1.12.63 in /opt/conda/lib/python3.6/site-packages (from boto3->smart-open>=1.8.1->gensim) (1.12.63)\n",
      "Requirement already satisfied, skipping upgrade: docutils>=0.10 in /opt/conda/lib/python3.6/site-packages (from botocore<1.13.0,>=1.12.63->boto3->smart-open>=1.8.1->gensim) (0.14)\n",
      "Requirement already satisfied, skipping upgrade: python-dateutil<3.0.0,>=2.1; python_version >= \"2.7\" in /opt/conda/lib/python3.6/site-packages (from botocore<1.13.0,>=1.12.63->boto3->smart-open>=1.8.1->gensim) (2.6.0)\n",
      "Building wheels for collected packages: smart-open\n",
      "  Running setup.py bdist_wheel for smart-open ... \u001b[?25ldone\n",
      "\u001b[?25h  Stored in directory: /root/.cache/pip/wheels/25/6c/db/7dcb26f19fb260c5629af85ed1c8ef9641143444fc7ec1fa08\n",
      "Successfully built smart-open\n",
      "Installing collected packages: smart-open, gensim\n",
      "  Found existing installation: smart-open 1.7.1\n",
      "    Uninstalling smart-open-1.7.1:\n",
      "      Successfully uninstalled smart-open-1.7.1\n",
      "  Found existing installation: gensim 3.6.0\n",
      "    Uninstalling gensim-3.6.0:\n",
      "      Successfully uninstalled gensim-3.6.0\n",
      "Successfully installed gensim-3.8.3 smart-open-2.1.0\n",
      "\u001b[33mYou are using pip version 18.1, however version 20.2b1 is available.\n",
      "You should consider upgrading via the 'pip install --upgrade pip' command.\u001b[0m\n",
      "Collecting keras\n",
      "  Downloading https://files.pythonhosted.org/packages/44/e1/dc0757b20b56c980b5553c1b5c4c32d378c7055ab7bfa92006801ad359ab/Keras-2.4.3-py2.py3-none-any.whl\n",
      "Requirement already satisfied, skipping upgrade: scipy>=0.14 in /opt/conda/lib/python3.6/site-packages (from keras) (1.1.0)\n",
      "Requirement already satisfied, skipping upgrade: pyyaml in /opt/conda/lib/python3.6/site-packages (from keras) (3.12)\n",
      "Requirement already satisfied, skipping upgrade: numpy>=1.9.1 in /opt/conda/lib/python3.6/site-packages (from keras) (1.15.4)\n",
      "Requirement already satisfied, skipping upgrade: h5py in /opt/conda/lib/python3.6/site-packages (from keras) (2.8.0)\n",
      "Requirement already satisfied, skipping upgrade: six in /opt/conda/lib/python3.6/site-packages (from h5py->keras) (1.11.0)\n",
      "Installing collected packages: keras\n",
      "  Found existing installation: Keras 2.2.4\n",
      "    Uninstalling Keras-2.2.4:\n",
      "      Successfully uninstalled Keras-2.2.4\n",
      "Successfully installed keras-2.4.3\n",
      "\u001b[33mYou are using pip version 18.1, however version 20.2b1 is available.\n",
      "You should consider upgrading via the 'pip install --upgrade pip' command.\u001b[0m\n",
      "Collecting pandas\n",
      "\u001b[?25l  Downloading https://files.pythonhosted.org/packages/c0/95/cb9820560a2713384ef49060b0087dfa2591c6db6f240215c2bce1f4211c/pandas-1.0.5-cp36-cp36m-manylinux1_x86_64.whl (10.1MB)\n",
      "\u001b[K    100% |████████████████████████████████| 10.1MB 4.5MB/s eta 0:00:01\n",
      "\u001b[?25hRequirement already satisfied, skipping upgrade: pytz>=2017.2 in /opt/conda/lib/python3.6/site-packages (from pandas) (2018.4)\n",
      "Collecting python-dateutil>=2.6.1 (from pandas)\n",
      "\u001b[?25l  Downloading https://files.pythonhosted.org/packages/d4/70/d60450c3dd48ef87586924207ae8907090de0b306af2bce5d134d78615cb/python_dateutil-2.8.1-py2.py3-none-any.whl (227kB)\n",
      "\u001b[K    100% |████████████████████████████████| 235kB 30.4MB/s ta 0:00:01\n",
      "\u001b[?25hRequirement already satisfied, skipping upgrade: numpy>=1.13.3 in /opt/conda/lib/python3.6/site-packages (from pandas) (1.15.4)\n",
      "Requirement already satisfied, skipping upgrade: six>=1.5 in /opt/conda/lib/python3.6/site-packages (from python-dateutil>=2.6.1->pandas) (1.11.0)\n",
      "Installing collected packages: python-dateutil, pandas\n",
      "  Found existing installation: python-dateutil 2.6.0\n",
      "    Uninstalling python-dateutil-2.6.0:\n",
      "      Successfully uninstalled python-dateutil-2.6.0\n",
      "  Found existing installation: pandas 0.23.4\n",
      "    Uninstalling pandas-0.23.4:\n",
      "      Successfully uninstalled pandas-0.23.4\n",
      "Successfully installed pandas-1.0.5 python-dateutil-2.8.1\n",
      "\u001b[33mYou are using pip version 18.1, however version 20.2b1 is available.\n",
      "You should consider upgrading via the 'pip install --upgrade pip' command.\u001b[0m\n"
     ]
    }
   ],
   "source": [
    "!pip install gensim --upgrade\n",
    "!pip install keras --upgrade\n",
    "!pip install pandas --upgrade"
   ]
  },
  {
   "cell_type": "code",
   "execution_count": 4,
   "metadata": {},
   "outputs": [
    {
     "name": "stdout",
     "output_type": "stream",
     "text": [
      "Collecting tensorflow==1.6.0\n",
      "\u001b[?25l  Downloading https://files.pythonhosted.org/packages/d9/0f/fbd8bb92459c75db93040f80702ebe4ba83a52cdb6ad930654c31dc0b711/tensorflow-1.6.0-cp36-cp36m-manylinux1_x86_64.whl (45.8MB)\n",
      "\u001b[K    100% |████████████████████████████████| 45.9MB 1.1MB/s eta 0:00:01\n",
      "\u001b[?25hCollecting gast>=0.2.0 (from tensorflow==1.6.0)\n",
      "  Downloading https://files.pythonhosted.org/packages/d6/84/759f5dd23fec8ba71952d97bcc7e2c9d7d63bdc582421f3cd4be845f0c98/gast-0.3.3-py2.py3-none-any.whl\n",
      "Collecting grpcio>=1.8.6 (from tensorflow==1.6.0)\n",
      "\u001b[?25l  Downloading https://files.pythonhosted.org/packages/5e/29/1bd649737e427a6bb850174293b4f2b72ab80dd49462142db9b81e1e5c7b/grpcio-1.30.0.tar.gz (19.7MB)\n",
      "\u001b[K    100% |████████████████████████████████| 19.7MB 2.4MB/s eta 0:00:01\n",
      "\u001b[?25hCollecting protobuf>=3.4.0 (from tensorflow==1.6.0)\n",
      "\u001b[?25l  Downloading https://files.pythonhosted.org/packages/28/05/9867ef8eafd12265267bee138fa2c46ebf34a276ea4cbe184cba4c606e8b/protobuf-3.12.2-cp36-cp36m-manylinux1_x86_64.whl (1.3MB)\n",
      "\u001b[K    100% |████████████████████████████████| 1.3MB 19.7MB/s ta 0:00:01\n",
      "\u001b[?25hCollecting numpy>=1.13.3 (from tensorflow==1.6.0)\n",
      "\u001b[?25l  Downloading https://files.pythonhosted.org/packages/00/16/476826a84d545424084499763248abbbdc73d065168efed9aa71cdf2a7dc/numpy-1.19.0-cp36-cp36m-manylinux1_x86_64.whl (13.5MB)\n",
      "\u001b[K    100% |████████████████████████████████| 13.5MB 3.9MB/s eta 0:00:01\n",
      "\u001b[?25hCollecting wheel>=0.26 (from tensorflow==1.6.0)\n",
      "  Downloading https://files.pythonhosted.org/packages/8c/23/848298cccf8e40f5bbb59009b32848a4c38f4e7f3364297ab3c3e2e2cd14/wheel-0.34.2-py2.py3-none-any.whl\n",
      "Collecting six>=1.10.0 (from tensorflow==1.6.0)\n",
      "  Downloading https://files.pythonhosted.org/packages/ee/ff/48bde5c0f013094d729fe4b0316ba2a24774b3ff1c52d924a8a4cb04078a/six-1.15.0-py2.py3-none-any.whl\n",
      "Collecting tensorboard<1.7.0,>=1.6.0 (from tensorflow==1.6.0)\n",
      "\u001b[?25l  Downloading https://files.pythonhosted.org/packages/b0/67/a8c91665987d359211dcdca5c8b2a7c1e0876eb0702a4383c1e4ff76228d/tensorboard-1.6.0-py3-none-any.whl (3.0MB)\n",
      "\u001b[K    100% |████████████████████████████████| 3.1MB 13.5MB/s ta 0:00:01\n",
      "\u001b[?25hCollecting termcolor>=1.1.0 (from tensorflow==1.6.0)\n",
      "  Downloading https://files.pythonhosted.org/packages/8a/48/a76be51647d0eb9f10e2a4511bf3ffb8cc1e6b14e9e4fab46173aa79f981/termcolor-1.1.0.tar.gz\n",
      "Collecting absl-py>=0.1.6 (from tensorflow==1.6.0)\n",
      "\u001b[?25l  Downloading https://files.pythonhosted.org/packages/1a/53/9243c600e047bd4c3df9e69cfabc1e8004a82cac2e0c484580a78a94ba2a/absl-py-0.9.0.tar.gz (104kB)\n",
      "\u001b[K    100% |████████████████████████████████| 112kB 5.3MB/s ta 0:00:01\n",
      "\u001b[?25hCollecting astor>=0.6.0 (from tensorflow==1.6.0)\n",
      "  Downloading https://files.pythonhosted.org/packages/c3/88/97eef84f48fa04fbd6750e62dcceafba6c63c81b7ac1420856c8dcc0a3f9/astor-0.8.1-py2.py3-none-any.whl\n",
      "Collecting setuptools (from protobuf>=3.4.0->tensorflow==1.6.0)\n",
      "\u001b[?25l  Downloading https://files.pythonhosted.org/packages/8e/11/9e10f1cad4518cb307b484c255cae61e97f05b82f6d536932b1714e01b47/setuptools-49.2.0-py3-none-any.whl (789kB)\n",
      "\u001b[K    100% |████████████████████████████████| 798kB 23.6MB/s ta 0:00:01\n",
      "\u001b[?25hCollecting bleach==1.5.0 (from tensorboard<1.7.0,>=1.6.0->tensorflow==1.6.0)\n",
      "  Downloading https://files.pythonhosted.org/packages/33/70/86c5fec937ea4964184d4d6c4f0b9551564f821e1c3575907639036d9b90/bleach-1.5.0-py2.py3-none-any.whl\n",
      "Collecting markdown>=2.6.8 (from tensorboard<1.7.0,>=1.6.0->tensorflow==1.6.0)\n",
      "\u001b[?25l  Downloading https://files.pythonhosted.org/packages/a4/63/eaec2bd025ab48c754b55e8819af0f6a69e2b1e187611dd40cbbe101ee7f/Markdown-3.2.2-py3-none-any.whl (88kB)\n",
      "\u001b[K    100% |████████████████████████████████| 92kB 27.0MB/s ta 0:00:01\n",
      "\u001b[?25hCollecting werkzeug>=0.11.10 (from tensorboard<1.7.0,>=1.6.0->tensorflow==1.6.0)\n",
      "\u001b[?25l  Downloading https://files.pythonhosted.org/packages/cc/94/5f7079a0e00bd6863ef8f1da638721e9da21e5bacee597595b318f71d62e/Werkzeug-1.0.1-py2.py3-none-any.whl (298kB)\n",
      "\u001b[K    100% |████████████████████████████████| 307kB 28.8MB/s ta 0:00:01\n",
      "\u001b[?25hCollecting html5lib==0.9999999 (from tensorboard<1.7.0,>=1.6.0->tensorflow==1.6.0)\n",
      "\u001b[?25l  Downloading https://files.pythonhosted.org/packages/ae/ae/bcb60402c60932b32dfaf19bb53870b29eda2cd17551ba5639219fb5ebf9/html5lib-0.9999999.tar.gz (889kB)\n",
      "\u001b[K    100% |████████████████████████████████| 890kB 23.5MB/s ta 0:00:01\n",
      "\u001b[?25hCollecting importlib-metadata; python_version < \"3.8\" (from markdown>=2.6.8->tensorboard<1.7.0,>=1.6.0->tensorflow==1.6.0)\n",
      "  Downloading https://files.pythonhosted.org/packages/8e/58/cdea07eb51fc2b906db0968a94700866fc46249bdc75cac23f9d13168929/importlib_metadata-1.7.0-py2.py3-none-any.whl\n",
      "Collecting zipp>=0.5 (from importlib-metadata; python_version < \"3.8\"->markdown>=2.6.8->tensorboard<1.7.0,>=1.6.0->tensorflow==1.6.0)\n",
      "  Downloading https://files.pythonhosted.org/packages/b2/34/bfcb43cc0ba81f527bc4f40ef41ba2ff4080e047acb0586b56b3d017ace4/zipp-3.1.0-py3-none-any.whl\n",
      "Building wheels for collected packages: grpcio, termcolor, absl-py, html5lib\n",
      "  Running setup.py bdist_wheel for grpcio ... \u001b[?25ldone\n",
      "\u001b[?25h  Stored in directory: /root/.cache/pip/wheels/1e/e9/13/2ce6c99171a977bad2f9a4bccfa596a6e7ea060b9fbff51bc3\n",
      "  Running setup.py bdist_wheel for termcolor ... \u001b[?25ldone\n",
      "\u001b[?25h  Stored in directory: /root/.cache/pip/wheels/7c/06/54/bc84598ba1daf8f970247f550b175aaaee85f68b4b0c5ab2c6\n",
      "  Running setup.py bdist_wheel for absl-py ... \u001b[?25ldone\n",
      "\u001b[?25h  Stored in directory: /root/.cache/pip/wheels/8e/28/49/fad4e7f0b9a1227708cbbee4487ac8558a7334849cb81c813d\n",
      "  Running setup.py bdist_wheel for html5lib ... \u001b[?25ldone\n",
      "\u001b[?25h  Stored in directory: /root/.cache/pip/wheels/50/ae/f9/d2b189788efcf61d1ee0e36045476735c838898eef1cad6e29\n",
      "Successfully built grpcio termcolor absl-py html5lib\n",
      "\u001b[31mmxnet 1.3.1 has requirement numpy<1.15.0,>=1.8.2, but you'll have numpy 1.19.0 which is incompatible.\u001b[0m\n",
      "\u001b[31mkmodes 0.9 has requirement scikit-learn<0.20.0,>=0.19.0, but you'll have scikit-learn 0.20.1 which is incompatible.\u001b[0m\n",
      "\u001b[31mkmeans-smote 0.1.0 has requirement imbalanced-learn<0.4,>=0.3.1, but you'll have imbalanced-learn 0.5.0.dev0 which is incompatible.\u001b[0m\n",
      "\u001b[31mkmeans-smote 0.1.0 has requirement numpy<1.15,>=1.13, but you'll have numpy 1.19.0 which is incompatible.\u001b[0m\n",
      "\u001b[31mkmeans-smote 0.1.0 has requirement scikit-learn<0.20,>=0.19.0, but you'll have scikit-learn 0.20.1 which is incompatible.\u001b[0m\n",
      "Installing collected packages: gast, six, grpcio, setuptools, protobuf, numpy, wheel, html5lib, bleach, zipp, importlib-metadata, markdown, werkzeug, tensorboard, termcolor, absl-py, astor, tensorflow\n",
      "Successfully installed absl-py-0.9.0 astor-0.8.1 bleach-2.1.3 gast-0.3.3 grpcio-1.30.0 html5lib-1.0.1 importlib-metadata-1.7.0 markdown-3.2.2 numpy-1.19.0 protobuf-3.12.2 setuptools-49.2.0 six-1.15.0 tensorboard-1.10.0 tensorflow-1.11.0rc1 termcolor-1.1.0 werkzeug-1.0.1 wheel-0.34.2 zipp-3.1.0\n",
      "\u001b[33mYou are using pip version 18.1, however version 20.2b1 is available.\n",
      "You should consider upgrading via the 'pip install --upgrade pip' command.\u001b[0m\n",
      "Error in sitecustomize; set PYTHONVERBOSE for traceback:\n",
      "ImportError: Something is wrong with the numpy installation. While importing we detected an older version of numpy in ['/opt/conda/lib/python3.6/site-packages/numpy']. One method of fixing this is to repeatedly uninstall numpy until none is found, then reinstall this version.\n",
      "Collecting keras==2.1.5\n",
      "\u001b[?25l  Downloading https://files.pythonhosted.org/packages/ba/65/e4aff762b8696ec0626a6654b1e73b396fcc8b7cc6b98d78a1bc53b85b48/Keras-2.1.5-py2.py3-none-any.whl (334kB)\n",
      "\u001b[K    100% |████████████████████████████████| 337kB 13.2MB/s ta 0:00:01\n",
      "\u001b[?25hRequirement already satisfied: numpy>=1.9.1 in /opt/conda/lib/python3.6/site-packages (from keras==2.1.5) (1.19.0)\n",
      "Requirement already satisfied: six>=1.9.0 in /opt/conda/lib/python3.6/site-packages (from keras==2.1.5) (1.15.0)\n",
      "Requirement already satisfied: pyyaml in /opt/conda/lib/python3.6/site-packages (from keras==2.1.5) (3.12)\n",
      "Requirement already satisfied: scipy>=0.14 in /opt/conda/lib/python3.6/site-packages (from keras==2.1.5) (1.1.0)\n",
      "Installing collected packages: keras\n",
      "  Found existing installation: Keras 2.4.3\n",
      "    Uninstalling Keras-2.4.3:\n",
      "      Successfully uninstalled Keras-2.4.3\n"
     ]
    },
    {
     "name": "stdout",
     "output_type": "stream",
     "text": [
      "Successfully installed keras-2.1.5\n",
      "\u001b[33mYou are using pip version 18.1, however version 20.2b1 is available.\n",
      "You should consider upgrading via the 'pip install --upgrade pip' command.\u001b[0m\n"
     ]
    }
   ],
   "source": [
    "!pip install --ignore-installed --upgrade tensorflow==1.6.0\n",
    "!pip install keras==2.1.5"
   ]
  },
  {
   "cell_type": "code",
   "execution_count": 10,
   "metadata": {
    "_uuid": "303e72966af732ddef0bd8108a321095314e44af"
   },
   "outputs": [
    {
     "name": "stderr",
     "output_type": "stream",
     "text": [
      "Using TensorFlow backend.\n"
     ]
    }
   ],
   "source": [
    "# DataFrame\n",
    "import pandas as pd\n",
    "\n",
    "# Matplot\n",
    "import matplotlib.pyplot as plt\n",
    "%matplotlib inline\n",
    "\n",
    "# Scikit-learn\n",
    "from sklearn.model_selection import train_test_split\n",
    "from sklearn.preprocessing import LabelEncoder\n",
    "from sklearn.metrics import confusion_matrix, classification_report, accuracy_score\n",
    "from sklearn.manifold import TSNE\n",
    "from sklearn.feature_extraction.text import TfidfVectorizer\n",
    "\n",
    "\n",
    "\n",
    "import tensorflow as tf\n",
    "import keras\n",
    "\n",
    "\n",
    "# Keras\n",
    "from keras.preprocessing.text import Tokenizer\n",
    "from keras.preprocessing.sequence import pad_sequences\n",
    "from keras.models import Sequential\n",
    "from keras.layers import Activation, Dense, Dropout, Embedding, Flatten, Conv1D, MaxPooling1D, LSTM\n",
    "from keras import utils\n",
    "from keras.callbacks import ReduceLROnPlateau, EarlyStopping\n",
    "\n",
    "# nltk\n",
    "import nltk\n",
    "from nltk.corpus import stopwords\n",
    "from  nltk.stem import SnowballStemmer\n",
    "\n",
    "# Word2vec\n",
    "import gensim\n",
    "\n",
    "# Utility\n",
    "import re\n",
    "import numpy as np\n",
    "import os\n",
    "from collections import Counter\n",
    "import logging\n",
    "import time\n",
    "import pickle\n",
    "import itertools\n",
    "\n",
    "# Set log\n",
    "logging.basicConfig(format='%(asctime)s : %(levelname)s : %(message)s', level=logging.INFO)"
   ]
  },
  {
   "cell_type": "code",
   "execution_count": 11,
   "metadata": {
    "_uuid": "35e1a89dead5fd160e4c9a024a21d2e569fc89ff"
   },
   "outputs": [
    {
     "name": "stdout",
     "output_type": "stream",
     "text": [
      "[nltk_data] Downloading package stopwords to /usr/share/nltk_data...\n",
      "[nltk_data]   Unzipping corpora/stopwords.zip.\n"
     ]
    },
    {
     "data": {
      "text/plain": [
       "True"
      ]
     },
     "execution_count": 11,
     "metadata": {},
     "output_type": "execute_result"
    }
   ],
   "source": [
    "nltk.download('stopwords')"
   ]
  },
  {
   "cell_type": "markdown",
   "metadata": {
    "_uuid": "e8b01a07df001e4abcc745900336c4db06e455f3"
   },
   "source": [
    "### Settings"
   ]
  },
  {
   "cell_type": "code",
   "execution_count": 12,
   "metadata": {
    "_uuid": "180f0dd2a95419e4602b5c0229822b0111c826f6"
   },
   "outputs": [],
   "source": [
    "# DATASET\n",
    "DATASET_COLUMNS = [\"target\", \"ids\", \"date\", \"flag\", \"user\", \"text\"]\n",
    "DATASET_ENCODING = \"ISO-8859-1\"\n",
    "TRAIN_SIZE = 0.8\n",
    "\n",
    "# TEXT CLENAING\n",
    "TEXT_CLEANING_RE = \"@\\S+|https?:\\S+|http?:\\S|[^A-Za-z0-9]+\"\n",
    "\n",
    "# WORD2VEC \n",
    "W2V_SIZE = 300\n",
    "W2V_WINDOW = 7\n",
    "W2V_EPOCH = 32\n",
    "W2V_MIN_COUNT = 10\n",
    "\n",
    "# KERAS\n",
    "SEQUENCE_LENGTH = 300\n",
    "EPOCHS = 8\n",
    "BATCH_SIZE = 1024\n",
    "\n",
    "# SENTIMENT\n",
    "POSITIVE = \"POSITIVE\"\n",
    "NEGATIVE = \"NEGATIVE\"\n",
    "NEUTRAL = \"NEUTRAL\"\n",
    "SENTIMENT_THRESHOLDS = (0.4, 0.7)\n",
    "\n",
    "# EXPORT\n",
    "KERAS_MODEL = \"model.h5\"\n",
    "WORD2VEC_MODEL = \"model.w2v\"\n",
    "TOKENIZER_MODEL = \"tokenizer.pkl\"\n",
    "ENCODER_MODEL = \"encoder.pkl\""
   ]
  },
  {
   "cell_type": "markdown",
   "metadata": {
    "_uuid": "1c3beecc618be68480b3d4f0de08d9d863da1dc1"
   },
   "source": [
    "### Read Dataset"
   ]
  },
  {
   "cell_type": "markdown",
   "metadata": {
    "_uuid": "563b3c44f1092dba0b853747b098e00509098cca"
   },
   "source": [
    "### Dataset details\n",
    "* **target**: the polarity of the tweet (0 = negative, 2 = neutral, 4 = positive)\n",
    "* **ids**: The id of the tweet ( 2087)\n",
    "* **date**: the date of the tweet (Sat May 16 23:58:44 UTC 2009)\n",
    "* **flag**: The query (lyx). If there is no query, then this value is NO_QUERY.\n",
    "* **user**: the user that tweeted (robotickilldozr)\n",
    "* **text**: the text of the tweet (Lyx is cool)"
   ]
  },
  {
   "cell_type": "code",
   "execution_count": 53,
   "metadata": {},
   "outputs": [
    {
     "name": "stdout",
     "output_type": "stream",
     "text": [
      "/kaggle/input/sentiment140/training.1600000.processed.noemoticon.csv\n",
      "/kaggle/input/allfiles/names.pkl\n",
      "/kaggle/input/allfiles/texts.pkl\n"
     ]
    }
   ],
   "source": [
    "import numpy as np # linear algebra\n",
    "import pandas as pd # data processing, CSV file I/O (e.g. pd.read_csv)\n",
    "\n",
    "# Input data files are available in the read-only \"../input/\" directory\n",
    "# For example, running this (by clicking run or pressing Shift+Enter) will list all files under the input directory\n",
    "\n",
    "import os\n",
    "\n",
    "image_paths = []\n",
    "for dirname, _, filenames in os.walk('/kaggle/input/'):\n",
    "    for filename in filenames:\n",
    "        print(os.path.join(dirname, filename))"
   ]
  },
  {
   "cell_type": "code",
   "execution_count": 48,
   "metadata": {},
   "outputs": [
    {
     "name": "stdout",
     "output_type": "stream",
     "text": [
      "Open file: ../input/finalone\n"
     ]
    }
   ],
   "source": [
    "dataset_filename = os.listdir(\"/kaggle/input\")[0]\n",
    "dataset_path = os.path.join(\"..\",\"input\",dataset_filename)\n",
    "print(\"Open file:\", dataset_path)\n",
    "df = pd.read_csv('/kaggle/input/sentiment140/training.1600000.processed.noemoticon.csv', encoding =DATASET_ENCODING , names=DATASET_COLUMNS)"
   ]
  },
  {
   "cell_type": "code",
   "execution_count": 49,
   "metadata": {},
   "outputs": [
    {
     "data": {
      "text/plain": [
       "(1600000, 6)"
      ]
     },
     "execution_count": 49,
     "metadata": {},
     "output_type": "execute_result"
    }
   ],
   "source": [
    "df.shape"
   ]
  },
  {
   "cell_type": "code",
   "execution_count": 56,
   "metadata": {},
   "outputs": [],
   "source": [
    "with open('/kaggle/input/allfiles/texts.pkl', 'rb') as f:\n",
    "    texts = pickle.load(f)"
   ]
  },
  {
   "cell_type": "code",
   "execution_count": 57,
   "metadata": {},
   "outputs": [],
   "source": [
    "with open('/kaggle/input/allfiles/names.pkl', 'rb') as f:\n",
    "    ids = pickle.load(f)"
   ]
  },
  {
   "cell_type": "code",
   "execution_count": 64,
   "metadata": {},
   "outputs": [],
   "source": [
    "data = {'id':ids, 'text':texts}\n",
    "\n",
    "main = pd.DataFrame (data, columns = ['id','text'])\n"
   ]
  },
  {
   "cell_type": "markdown",
   "metadata": {},
   "source": [
    "main = pd.DataFrame()\n",
    "main"
   ]
  },
  {
   "cell_type": "code",
   "execution_count": 9,
   "metadata": {
    "_uuid": "936d499c00c4f1648bc16ca9d283c3b39be7fb10"
   },
   "outputs": [
    {
     "name": "stdout",
     "output_type": "stream",
     "text": [
      "Dataset size: 1600000\n"
     ]
    }
   ],
   "source": [
    "print(\"Dataset size:\", len(df))"
   ]
  },
  {
   "cell_type": "markdown",
   "metadata": {
    "_uuid": "3f9a7bb129e184967b13261fb5d253af451c75c5"
   },
   "source": [
    "### Map target label to String\n",
    "* **0** -> **NEGATIVE**\n",
    "* **2** -> **NEUTRAL**\n",
    "* **4** -> **POSITIVE**"
   ]
  },
  {
   "cell_type": "code",
   "execution_count": 68,
   "metadata": {
    "_uuid": "14074b59106cb9550440839e48b832223fc9502f"
   },
   "outputs": [],
   "source": [
    "decode_map = {0: \"NEGATIVE\", 2: \"NEUTRAL\", 4: \"POSITIVE\"}\n",
    "def decode_sentiment(label):\n",
    "    return decode_map[int(label)]"
   ]
  },
  {
   "cell_type": "code",
   "execution_count": 69,
   "metadata": {
    "_uuid": "4449d473187f647a195a6ac6986b009da32a7f4b"
   },
   "outputs": [
    {
     "name": "stdout",
     "output_type": "stream",
     "text": [
      "CPU times: user 1.02 s, sys: 4.04 ms, total: 1.03 s\n",
      "Wall time: 1.03 s\n"
     ]
    }
   ],
   "source": [
    "%%time\n",
    "df.target = df.target.apply(lambda x: decode_sentiment(x))"
   ]
  },
  {
   "cell_type": "code",
   "execution_count": 70,
   "metadata": {
    "_uuid": "19eb327803192f31cce3512aacb232f4d6b38715"
   },
   "outputs": [
    {
     "data": {
      "text/plain": [
       "Text(0.5,1,'Dataset labels distribuition')"
      ]
     },
     "execution_count": 70,
     "metadata": {},
     "output_type": "execute_result"
    },
    {
     "data": {
      "image/png": "[encoded data removed]",
      "text/plain": [
       "<Figure size 1152x576 with 1 Axes>"
      ]
     },
     "metadata": {},
     "output_type": "display_data"
    }
   ],
   "source": [
    "target_cnt = Counter(df.target)\n",
    "\n",
    "plt.figure(figsize=(16,8))\n",
    "plt.bar(target_cnt.keys(), target_cnt.values())\n",
    "plt.title(\"Dataset labels distribuition\")"
   ]
  },
  {
   "cell_type": "markdown",
   "metadata": {
    "_uuid": "4329b1573518b03e497213efa7676220734ebb4b"
   },
   "source": [
    "### Pre-Process dataset"
   ]
  },
  {
   "cell_type": "code",
   "execution_count": 71,
   "metadata": {
    "_uuid": "8aeee8b7b9ea11b749c7f91cd4787a7b50ed1a91"
   },
   "outputs": [],
   "source": [
    "stop_words = stopwords.words(\"english\")\n",
    "stemmer = SnowballStemmer(\"english\")"
   ]
  },
  {
   "cell_type": "code",
   "execution_count": 74,
   "metadata": {
    "_uuid": "649ebcb97969b9ac4301138783704bb3d7846a49"
   },
   "outputs": [],
   "source": [
    "def preprocess(text, stem=False):\n",
    "    # Remove link,user and special characters\n",
    "    text = re.sub(TEXT_CLEANING_RE, ' ', str(text).lower()).strip()\n",
    "    tokens = []\n",
    "    for token in text.split():\n",
    "        if token not in stop_words:\n",
    "            if stem:\n",
    "                tokens.append(stemmer.stem(token))\n",
    "            else:\n",
    "                tokens.append(token)\n",
    "    return \" \".join(tokens)"
   ]
  },
  {
   "cell_type": "code",
   "execution_count": 75,
   "metadata": {
    "_uuid": "f7f3e77ab9291d14687c49e71ba9b2b1e3323432"
   },
   "outputs": [
    {
     "name": "stdout",
     "output_type": "stream",
     "text": [
      "CPU times: user 1min 8s, sys: 161 ms, total: 1min 9s\n",
      "Wall time: 1min 9s\n"
     ]
    }
   ],
   "source": [
    "%%time\n",
    "df.text = df.text.apply(lambda x: preprocess(x))\n",
    "\n"
   ]
  },
  {
   "cell_type": "code",
   "execution_count": 77,
   "metadata": {},
   "outputs": [],
   "source": [
    "main.text =  main.text.apply(lambda x:preprocess(x))"
   ]
  },
  {
   "cell_type": "markdown",
   "metadata": {
    "_uuid": "f5f9714a8507409bbe780eebf2855a33e8e6ba37"
   },
   "source": [
    "### Split train and test"
   ]
  },
  {
   "cell_type": "code",
   "execution_count": 78,
   "metadata": {
    "_uuid": "d2b1179c968e3f3910c790ecf0c5b2cbb34b0e68"
   },
   "outputs": [
    {
     "name": "stdout",
     "output_type": "stream",
     "text": [
      "TRAIN size: 1280000\n",
      "TEST size: 320000\n"
     ]
    }
   ],
   "source": [
    "df_train, df_test = train_test_split(df, test_size=1-TRAIN_SIZE, random_state=42)\n",
    "print(\"TRAIN size:\", len(df_train))\n",
    "print(\"TEST size:\", len(df_test))"
   ]
  },
  {
   "cell_type": "code",
   "execution_count": null,
   "metadata": {},
   "outputs": [],
   "source": []
  },
  {
   "cell_type": "markdown",
   "metadata": {
    "_uuid": "f08a28aab2c3d16d8b9681a7d5d07587153a1cd6"
   },
   "source": [
    "### Word2Vec "
   ]
  },
  {
   "cell_type": "code",
   "execution_count": 79,
   "metadata": {
    "_uuid": "2461bf564de1b4414841933d0c1d1bee5f5cc5a6"
   },
   "outputs": [
    {
     "name": "stdout",
     "output_type": "stream",
     "text": [
      "CPU times: user 3.68 s, sys: 364 ms, total: 4.05 s\n",
      "Wall time: 4.15 s\n"
     ]
    }
   ],
   "source": [
    "%%time\n",
    "documents = [_text.split() for _text in df_train.text] "
   ]
  },
  {
   "cell_type": "code",
   "execution_count": null,
   "metadata": {},
   "outputs": [],
   "source": []
  },
  {
   "cell_type": "code",
   "execution_count": 81,
   "metadata": {
    "_uuid": "8e19b9f25801ba86420decc266d2b3e6fb44f1ea"
   },
   "outputs": [],
   "source": [
    "w2v_model = gensim.models.word2vec.Word2Vec(size=W2V_SIZE, \n",
    "                                            window=W2V_WINDOW, \n",
    "                                            min_count=W2V_MIN_COUNT, \n",
    "                                            workers=8)"
   ]
  },
  {
   "cell_type": "code",
   "execution_count": 82,
   "metadata": {
    "_uuid": "58d655af07653c594bec6bebcfb302a973b0ad9c"
   },
   "outputs": [
    {
     "name": "stderr",
     "output_type": "stream",
     "text": [
      "2020-07-20 18:11:38,906 : INFO : collecting all words and their counts\n",
      "2020-07-20 18:11:38,908 : INFO : PROGRESS: at sentence #0, processed 0 words, keeping 0 word types\n",
      "2020-07-20 18:11:38,938 : INFO : PROGRESS: at sentence #10000, processed 72565 words, keeping 14005 word types\n",
      "2020-07-20 18:11:38,965 : INFO : PROGRESS: at sentence #20000, processed 144393 words, keeping 21587 word types\n",
      "2020-07-20 18:11:38,991 : INFO : PROGRESS: at sentence #30000, processed 215826 words, keeping 27541 word types\n",
      "2020-07-20 18:11:39,020 : INFO : PROGRESS: at sentence #40000, processed 288271 words, keeping 32764 word types\n",
      "2020-07-20 18:11:39,048 : INFO : PROGRESS: at sentence #50000, processed 359772 words, keeping 37587 word types\n",
      "2020-07-20 18:11:39,077 : INFO : PROGRESS: at sentence #60000, processed 431431 words, keeping 42198 word types\n",
      "2020-07-20 18:11:39,106 : INFO : PROGRESS: at sentence #70000, processed 503103 words, keeping 46458 word types\n",
      "2020-07-20 18:11:39,135 : INFO : PROGRESS: at sentence #80000, processed 575709 words, keeping 50476 word types\n",
      "2020-07-20 18:11:39,162 : INFO : PROGRESS: at sentence #90000, processed 647100 words, keeping 54140 word types\n",
      "2020-07-20 18:11:39,189 : INFO : PROGRESS: at sentence #100000, processed 718681 words, keeping 57777 word types\n",
      "2020-07-20 18:11:39,218 : INFO : PROGRESS: at sentence #110000, processed 790696 words, keeping 61207 word types\n",
      "2020-07-20 18:11:39,245 : INFO : PROGRESS: at sentence #120000, processed 863134 words, keeping 64583 word types\n",
      "2020-07-20 18:11:39,275 : INFO : PROGRESS: at sentence #130000, processed 935111 words, keeping 67865 word types\n",
      "2020-07-20 18:11:39,303 : INFO : PROGRESS: at sentence #140000, processed 1006668 words, keeping 70966 word types\n",
      "2020-07-20 18:11:39,330 : INFO : PROGRESS: at sentence #150000, processed 1078512 words, keeping 74119 word types\n",
      "2020-07-20 18:11:39,356 : INFO : PROGRESS: at sentence #160000, processed 1149914 words, keeping 77187 word types\n",
      "2020-07-20 18:11:39,385 : INFO : PROGRESS: at sentence #170000, processed 1222145 words, keeping 80267 word types\n",
      "2020-07-20 18:11:39,413 : INFO : PROGRESS: at sentence #180000, processed 1294708 words, keeping 83393 word types\n",
      "2020-07-20 18:11:39,441 : INFO : PROGRESS: at sentence #190000, processed 1367608 words, keeping 86329 word types\n",
      "2020-07-20 18:11:39,470 : INFO : PROGRESS: at sentence #200000, processed 1439469 words, keeping 89103 word types\n",
      "2020-07-20 18:11:39,498 : INFO : PROGRESS: at sentence #210000, processed 1512099 words, keeping 91840 word types\n",
      "2020-07-20 18:11:39,526 : INFO : PROGRESS: at sentence #220000, processed 1584149 words, keeping 94636 word types\n",
      "2020-07-20 18:11:39,555 : INFO : PROGRESS: at sentence #230000, processed 1656354 words, keeping 97353 word types\n",
      "2020-07-20 18:11:39,591 : INFO : PROGRESS: at sentence #240000, processed 1728573 words, keeping 99975 word types\n",
      "2020-07-20 18:11:39,620 : INFO : PROGRESS: at sentence #250000, processed 1801102 words, keeping 102594 word types\n",
      "2020-07-20 18:11:39,647 : INFO : PROGRESS: at sentence #260000, processed 1873103 words, keeping 105162 word types\n",
      "2020-07-20 18:11:39,675 : INFO : PROGRESS: at sentence #270000, processed 1945245 words, keeping 107626 word types\n",
      "2020-07-20 18:11:39,703 : INFO : PROGRESS: at sentence #280000, processed 2017163 words, keeping 110141 word types\n",
      "2020-07-20 18:11:39,731 : INFO : PROGRESS: at sentence #290000, processed 2089574 words, keeping 112539 word types\n",
      "2020-07-20 18:11:39,759 : INFO : PROGRESS: at sentence #300000, processed 2160996 words, keeping 114893 word types\n",
      "2020-07-20 18:11:39,788 : INFO : PROGRESS: at sentence #310000, processed 2232913 words, keeping 117298 word types\n",
      "2020-07-20 18:11:39,813 : INFO : PROGRESS: at sentence #320000, processed 2305039 words, keeping 119693 word types\n",
      "2020-07-20 18:11:39,842 : INFO : PROGRESS: at sentence #330000, processed 2377119 words, keeping 122131 word types\n",
      "2020-07-20 18:11:39,871 : INFO : PROGRESS: at sentence #340000, processed 2449370 words, keeping 124416 word types\n",
      "2020-07-20 18:11:39,898 : INFO : PROGRESS: at sentence #350000, processed 2521564 words, keeping 126669 word types\n",
      "2020-07-20 18:11:39,927 : INFO : PROGRESS: at sentence #360000, processed 2593681 words, keeping 128912 word types\n",
      "2020-07-20 18:11:39,955 : INFO : PROGRESS: at sentence #370000, processed 2665692 words, keeping 131135 word types\n",
      "2020-07-20 18:11:39,985 : INFO : PROGRESS: at sentence #380000, processed 2737859 words, keeping 133403 word types\n",
      "2020-07-20 18:11:40,014 : INFO : PROGRESS: at sentence #390000, processed 2809848 words, keeping 135551 word types\n",
      "2020-07-20 18:11:40,044 : INFO : PROGRESS: at sentence #400000, processed 2882438 words, keeping 137742 word types\n",
      "2020-07-20 18:11:40,079 : INFO : PROGRESS: at sentence #410000, processed 2954075 words, keeping 139909 word types\n",
      "2020-07-20 18:11:40,110 : INFO : PROGRESS: at sentence #420000, processed 3026247 words, keeping 142144 word types\n",
      "2020-07-20 18:11:40,139 : INFO : PROGRESS: at sentence #430000, processed 3098659 words, keeping 144364 word types\n",
      "2020-07-20 18:11:40,169 : INFO : PROGRESS: at sentence #440000, processed 3170663 words, keeping 146439 word types\n",
      "2020-07-20 18:11:40,198 : INFO : PROGRESS: at sentence #450000, processed 3243344 words, keeping 148526 word types\n",
      "2020-07-20 18:11:40,228 : INFO : PROGRESS: at sentence #460000, processed 3315466 words, keeping 150610 word types\n",
      "2020-07-20 18:11:40,257 : INFO : PROGRESS: at sentence #470000, processed 3388295 words, keeping 152737 word types\n",
      "2020-07-20 18:11:40,286 : INFO : PROGRESS: at sentence #480000, processed 3460120 words, keeping 154757 word types\n",
      "2020-07-20 18:11:40,315 : INFO : PROGRESS: at sentence #490000, processed 3531883 words, keeping 156825 word types\n",
      "2020-07-20 18:11:40,344 : INFO : PROGRESS: at sentence #500000, processed 3604217 words, keeping 158859 word types\n",
      "2020-07-20 18:11:40,375 : INFO : PROGRESS: at sentence #510000, processed 3676427 words, keeping 160852 word types\n",
      "2020-07-20 18:11:40,404 : INFO : PROGRESS: at sentence #520000, processed 3749045 words, keeping 162863 word types\n",
      "2020-07-20 18:11:40,432 : INFO : PROGRESS: at sentence #530000, processed 3821622 words, keeping 164929 word types\n",
      "2020-07-20 18:11:40,462 : INFO : PROGRESS: at sentence #540000, processed 3893627 words, keeping 166840 word types\n",
      "2020-07-20 18:11:40,493 : INFO : PROGRESS: at sentence #550000, processed 3965477 words, keeping 168799 word types\n",
      "2020-07-20 18:11:40,522 : INFO : PROGRESS: at sentence #560000, processed 4038050 words, keeping 170802 word types\n",
      "2020-07-20 18:11:40,551 : INFO : PROGRESS: at sentence #570000, processed 4110296 words, keeping 172760 word types\n",
      "2020-07-20 18:11:40,585 : INFO : PROGRESS: at sentence #580000, processed 4182385 words, keeping 174635 word types\n",
      "2020-07-20 18:11:40,623 : INFO : PROGRESS: at sentence #590000, processed 4254632 words, keeping 176470 word types\n",
      "2020-07-20 18:11:40,652 : INFO : PROGRESS: at sentence #600000, processed 4326859 words, keeping 178350 word types\n",
      "2020-07-20 18:11:40,682 : INFO : PROGRESS: at sentence #610000, processed 4399183 words, keeping 180290 word types\n",
      "2020-07-20 18:11:40,713 : INFO : PROGRESS: at sentence #620000, processed 4471343 words, keeping 182129 word types\n",
      "2020-07-20 18:11:40,742 : INFO : PROGRESS: at sentence #630000, processed 4543286 words, keeping 184005 word types\n",
      "2020-07-20 18:11:40,772 : INFO : PROGRESS: at sentence #640000, processed 4615780 words, keeping 185835 word types\n",
      "2020-07-20 18:11:40,802 : INFO : PROGRESS: at sentence #650000, processed 4688481 words, keeping 187705 word types\n",
      "2020-07-20 18:11:40,831 : INFO : PROGRESS: at sentence #660000, processed 4760481 words, keeping 189439 word types\n",
      "2020-07-20 18:11:40,863 : INFO : PROGRESS: at sentence #670000, processed 4833024 words, keeping 191232 word types\n",
      "2020-07-20 18:11:40,894 : INFO : PROGRESS: at sentence #680000, processed 4904516 words, keeping 193177 word types\n",
      "2020-07-20 18:11:40,923 : INFO : PROGRESS: at sentence #690000, processed 4976968 words, keeping 194960 word types\n",
      "2020-07-20 18:11:40,954 : INFO : PROGRESS: at sentence #700000, processed 5049412 words, keeping 196725 word types\n",
      "2020-07-20 18:11:40,985 : INFO : PROGRESS: at sentence #710000, processed 5121976 words, keeping 198516 word types\n"
     ]
    },
    {
     "name": "stderr",
     "output_type": "stream",
     "text": [
      "2020-07-20 18:11:41,015 : INFO : PROGRESS: at sentence #720000, processed 5193881 words, keeping 200325 word types\n",
      "2020-07-20 18:11:41,045 : INFO : PROGRESS: at sentence #730000, processed 5265467 words, keeping 202133 word types\n",
      "2020-07-20 18:11:41,074 : INFO : PROGRESS: at sentence #740000, processed 5337518 words, keeping 203818 word types\n",
      "2020-07-20 18:11:41,105 : INFO : PROGRESS: at sentence #750000, processed 5409321 words, keeping 205535 word types\n",
      "2020-07-20 18:11:41,135 : INFO : PROGRESS: at sentence #760000, processed 5481512 words, keeping 207282 word types\n",
      "2020-07-20 18:11:41,164 : INFO : PROGRESS: at sentence #770000, processed 5554093 words, keeping 209076 word types\n",
      "2020-07-20 18:11:41,195 : INFO : PROGRESS: at sentence #780000, processed 5625382 words, keeping 210805 word types\n",
      "2020-07-20 18:11:41,226 : INFO : PROGRESS: at sentence #790000, processed 5698066 words, keeping 212618 word types\n",
      "2020-07-20 18:11:41,256 : INFO : PROGRESS: at sentence #800000, processed 5770880 words, keeping 214374 word types\n",
      "2020-07-20 18:11:41,287 : INFO : PROGRESS: at sentence #810000, processed 5843418 words, keeping 216009 word types\n",
      "2020-07-20 18:11:41,317 : INFO : PROGRESS: at sentence #820000, processed 5915628 words, keeping 217804 word types\n",
      "2020-07-20 18:11:41,347 : INFO : PROGRESS: at sentence #830000, processed 5987499 words, keeping 219585 word types\n",
      "2020-07-20 18:11:41,376 : INFO : PROGRESS: at sentence #840000, processed 6058973 words, keeping 221344 word types\n",
      "2020-07-20 18:11:41,406 : INFO : PROGRESS: at sentence #850000, processed 6131125 words, keeping 223002 word types\n",
      "2020-07-20 18:11:41,434 : INFO : PROGRESS: at sentence #860000, processed 6202951 words, keeping 224643 word types\n",
      "2020-07-20 18:11:41,464 : INFO : PROGRESS: at sentence #870000, processed 6275461 words, keeping 226362 word types\n",
      "2020-07-20 18:11:41,494 : INFO : PROGRESS: at sentence #880000, processed 6347661 words, keeping 227986 word types\n",
      "2020-07-20 18:11:41,523 : INFO : PROGRESS: at sentence #890000, processed 6419806 words, keeping 229634 word types\n",
      "2020-07-20 18:11:41,552 : INFO : PROGRESS: at sentence #900000, processed 6491644 words, keeping 231389 word types\n",
      "2020-07-20 18:11:41,581 : INFO : PROGRESS: at sentence #910000, processed 6564022 words, keeping 233050 word types\n",
      "2020-07-20 18:11:41,612 : INFO : PROGRESS: at sentence #920000, processed 6636228 words, keeping 234686 word types\n",
      "2020-07-20 18:11:41,642 : INFO : PROGRESS: at sentence #930000, processed 6708573 words, keeping 236393 word types\n",
      "2020-07-20 18:11:41,672 : INFO : PROGRESS: at sentence #940000, processed 6779956 words, keeping 238052 word types\n",
      "2020-07-20 18:11:41,702 : INFO : PROGRESS: at sentence #950000, processed 6852599 words, keeping 239716 word types\n",
      "2020-07-20 18:11:41,732 : INFO : PROGRESS: at sentence #960000, processed 6924717 words, keeping 241354 word types\n",
      "2020-07-20 18:11:41,762 : INFO : PROGRESS: at sentence #970000, processed 6996992 words, keeping 242980 word types\n",
      "2020-07-20 18:11:41,793 : INFO : PROGRESS: at sentence #980000, processed 7068402 words, keeping 244646 word types\n",
      "2020-07-20 18:11:41,822 : INFO : PROGRESS: at sentence #990000, processed 7140346 words, keeping 246186 word types\n",
      "2020-07-20 18:11:41,852 : INFO : PROGRESS: at sentence #1000000, processed 7211757 words, keeping 247726 word types\n",
      "2020-07-20 18:11:41,882 : INFO : PROGRESS: at sentence #1010000, processed 7283267 words, keeping 249288 word types\n",
      "2020-07-20 18:11:41,913 : INFO : PROGRESS: at sentence #1020000, processed 7355299 words, keeping 250860 word types\n",
      "2020-07-20 18:11:41,943 : INFO : PROGRESS: at sentence #1030000, processed 7426918 words, keeping 252366 word types\n",
      "2020-07-20 18:11:41,973 : INFO : PROGRESS: at sentence #1040000, processed 7498815 words, keeping 253930 word types\n",
      "2020-07-20 18:11:42,003 : INFO : PROGRESS: at sentence #1050000, processed 7570499 words, keeping 255471 word types\n",
      "2020-07-20 18:11:42,033 : INFO : PROGRESS: at sentence #1060000, processed 7643251 words, keeping 257035 word types\n",
      "2020-07-20 18:11:42,062 : INFO : PROGRESS: at sentence #1070000, processed 7714721 words, keeping 258509 word types\n",
      "2020-07-20 18:11:42,093 : INFO : PROGRESS: at sentence #1080000, processed 7787371 words, keeping 260071 word types\n",
      "2020-07-20 18:11:42,123 : INFO : PROGRESS: at sentence #1090000, processed 7859336 words, keeping 261683 word types\n",
      "2020-07-20 18:11:42,152 : INFO : PROGRESS: at sentence #1100000, processed 7932029 words, keeping 263278 word types\n",
      "2020-07-20 18:11:42,181 : INFO : PROGRESS: at sentence #1110000, processed 8004146 words, keeping 264800 word types\n",
      "2020-07-20 18:11:42,211 : INFO : PROGRESS: at sentence #1120000, processed 8075880 words, keeping 266309 word types\n",
      "2020-07-20 18:11:42,241 : INFO : PROGRESS: at sentence #1130000, processed 8148163 words, keeping 267826 word types\n",
      "2020-07-20 18:11:42,270 : INFO : PROGRESS: at sentence #1140000, processed 8220487 words, keeping 269391 word types\n",
      "2020-07-20 18:11:42,299 : INFO : PROGRESS: at sentence #1150000, processed 8292498 words, keeping 270894 word types\n",
      "2020-07-20 18:11:42,329 : INFO : PROGRESS: at sentence #1160000, processed 8363838 words, keeping 272400 word types\n",
      "2020-07-20 18:11:42,357 : INFO : PROGRESS: at sentence #1170000, processed 8435510 words, keeping 273970 word types\n",
      "2020-07-20 18:11:42,388 : INFO : PROGRESS: at sentence #1180000, processed 8507795 words, keeping 275521 word types\n",
      "2020-07-20 18:11:42,418 : INFO : PROGRESS: at sentence #1190000, processed 8579080 words, keeping 277007 word types\n",
      "2020-07-20 18:11:42,446 : INFO : PROGRESS: at sentence #1200000, processed 8650606 words, keeping 278457 word types\n",
      "2020-07-20 18:11:42,476 : INFO : PROGRESS: at sentence #1210000, processed 8721893 words, keeping 279959 word types\n",
      "2020-07-20 18:11:42,507 : INFO : PROGRESS: at sentence #1220000, processed 8793795 words, keeping 281427 word types\n",
      "2020-07-20 18:11:42,538 : INFO : PROGRESS: at sentence #1230000, processed 8865726 words, keeping 282981 word types\n",
      "2020-07-20 18:11:42,569 : INFO : PROGRESS: at sentence #1240000, processed 8938173 words, keeping 284542 word types\n",
      "2020-07-20 18:11:42,599 : INFO : PROGRESS: at sentence #1250000, processed 9010842 words, keeping 286064 word types\n",
      "2020-07-20 18:11:42,629 : INFO : PROGRESS: at sentence #1260000, processed 9083261 words, keeping 287521 word types\n",
      "2020-07-20 18:11:42,659 : INFO : PROGRESS: at sentence #1270000, processed 9155616 words, keeping 288987 word types\n",
      "2020-07-20 18:11:42,687 : INFO : collected 290418 word types from a corpus of 9227204 raw words and 1280000 sentences\n",
      "2020-07-20 18:11:42,688 : INFO : Loading a fresh vocabulary\n",
      "2020-07-20 18:11:42,969 : INFO : effective_min_count=10 retains 30369 unique words (10% of original 290418, drops 260049)\n",
      "2020-07-20 18:11:42,970 : INFO : effective_min_count=10 leaves 8780739 word corpus (95% of original 9227204, drops 446465)\n",
      "2020-07-20 18:11:43,132 : INFO : deleting the raw counts dictionary of 290418 items\n",
      "2020-07-20 18:11:43,139 : INFO : sample=0.001 downsamples 45 most-common words\n",
      "2020-07-20 18:11:43,140 : INFO : downsampling leaves estimated 8222658 word corpus (93.6% of prior 8780739)\n",
      "2020-07-20 18:11:43,267 : INFO : estimated required memory for 30369 words and 300 dimensions: 88070100 bytes\n",
      "2020-07-20 18:11:43,268 : INFO : resetting layer weights\n"
     ]
    }
   ],
   "source": [
    "w2v_model.build_vocab(documents)"
   ]
  },
  {
   "cell_type": "code",
   "execution_count": 83,
   "metadata": {
    "_uuid": "72a5628ca81fd4b8983c12d93ae0bf950b86b6ae"
   },
   "outputs": [
    {
     "name": "stdout",
     "output_type": "stream",
     "text": [
      "Vocab size 30369\n"
     ]
    }
   ],
   "source": [
    "words = w2v_model.wv.vocab.keys()\n",
    "vocab_size = len(words)\n",
    "print(\"Vocab size\", vocab_size)"
   ]
  },
  {
   "cell_type": "code",
   "execution_count": 84,
   "metadata": {
    "_uuid": "68c3e4a5ba07cac3dee67f78ecdd1404c7f83f14"
   },
   "outputs": [
    {
     "name": "stderr",
     "output_type": "stream",
     "text": [
      "2020-07-20 18:11:43,803 : INFO : training model with 8 workers on 30369 vocabulary and 300 features, using sg=0 hs=0 sample=0.001 negative=5 window=7\n",
      "2020-07-20 18:11:44,912 : INFO : EPOCH 1 - PROGRESS: at 3.14% examples, 236028 words/s, in_qsize 15, out_qsize 0\n",
      "2020-07-20 18:11:45,922 : INFO : EPOCH 1 - PROGRESS: at 6.40% examples, 249717 words/s, in_qsize 14, out_qsize 1\n",
      "2020-07-20 18:11:46,955 : INFO : EPOCH 1 - PROGRESS: at 9.45% examples, 247069 words/s, in_qsize 11, out_qsize 2\n",
      "2020-07-20 18:11:47,976 : INFO : EPOCH 1 - PROGRESS: at 12.82% examples, 252798 words/s, in_qsize 14, out_qsize 1\n",
      "2020-07-20 18:11:48,976 : INFO : EPOCH 1 - PROGRESS: at 15.51% examples, 246885 words/s, in_qsize 15, out_qsize 1\n",
      "2020-07-20 18:11:50,034 : INFO : EPOCH 1 - PROGRESS: at 19.84% examples, 262748 words/s, in_qsize 14, out_qsize 3\n",
      "2020-07-20 18:11:51,126 : INFO : EPOCH 1 - PROGRESS: at 23.20% examples, 260773 words/s, in_qsize 13, out_qsize 2\n",
      "2020-07-20 18:11:52,172 : INFO : EPOCH 1 - PROGRESS: at 26.99% examples, 265448 words/s, in_qsize 15, out_qsize 0\n",
      "2020-07-20 18:11:53,205 : INFO : EPOCH 1 - PROGRESS: at 30.99% examples, 271360 words/s, in_qsize 15, out_qsize 0\n",
      "2020-07-20 18:11:54,206 : INFO : EPOCH 1 - PROGRESS: at 35.42% examples, 280354 words/s, in_qsize 15, out_qsize 0\n",
      "2020-07-20 18:11:55,227 : INFO : EPOCH 1 - PROGRESS: at 39.22% examples, 282575 words/s, in_qsize 15, out_qsize 1\n",
      "2020-07-20 18:11:56,256 : INFO : EPOCH 1 - PROGRESS: at 42.13% examples, 278680 words/s, in_qsize 15, out_qsize 1\n",
      "2020-07-20 18:11:57,281 : INFO : EPOCH 1 - PROGRESS: at 45.48% examples, 277846 words/s, in_qsize 16, out_qsize 0\n",
      "2020-07-20 18:11:58,366 : INFO : EPOCH 1 - PROGRESS: at 47.54% examples, 268762 words/s, in_qsize 8, out_qsize 7\n",
      "2020-07-20 18:11:59,479 : INFO : EPOCH 1 - PROGRESS: at 51.64% examples, 271297 words/s, in_qsize 14, out_qsize 1\n",
      "2020-07-20 18:12:00,503 : INFO : EPOCH 1 - PROGRESS: at 55.97% examples, 276006 words/s, in_qsize 16, out_qsize 0\n",
      "2020-07-20 18:12:01,636 : INFO : EPOCH 1 - PROGRESS: at 60.19% examples, 277944 words/s, in_qsize 16, out_qsize 0\n",
      "2020-07-20 18:12:02,655 : INFO : EPOCH 1 - PROGRESS: at 64.30% examples, 280878 words/s, in_qsize 15, out_qsize 0\n",
      "2020-07-20 18:12:03,698 : INFO : EPOCH 1 - PROGRESS: at 68.64% examples, 284068 words/s, in_qsize 15, out_qsize 1\n",
      "2020-07-20 18:12:04,720 : INFO : EPOCH 1 - PROGRESS: at 72.53% examples, 285509 words/s, in_qsize 15, out_qsize 0\n",
      "2020-07-20 18:12:05,723 : INFO : EPOCH 1 - PROGRESS: at 76.98% examples, 289099 words/s, in_qsize 15, out_qsize 1\n",
      "2020-07-20 18:12:06,777 : INFO : EPOCH 1 - PROGRESS: at 80.68% examples, 289029 words/s, in_qsize 15, out_qsize 2\n",
      "2020-07-20 18:12:07,882 : INFO : EPOCH 1 - PROGRESS: at 84.37% examples, 288338 words/s, in_qsize 16, out_qsize 0\n",
      "2020-07-20 18:12:08,886 : INFO : EPOCH 1 - PROGRESS: at 87.94% examples, 288511 words/s, in_qsize 14, out_qsize 0\n",
      "2020-07-20 18:12:09,888 : INFO : EPOCH 1 - PROGRESS: at 90.65% examples, 285951 words/s, in_qsize 10, out_qsize 7\n",
      "2020-07-20 18:12:10,900 : INFO : EPOCH 1 - PROGRESS: at 95.01% examples, 288416 words/s, in_qsize 14, out_qsize 1\n",
      "2020-07-20 18:12:11,869 : INFO : worker thread finished; awaiting finish of 7 more threads\n",
      "2020-07-20 18:12:11,900 : INFO : EPOCH 1 - PROGRESS: at 99.35% examples, 290873 words/s, in_qsize 6, out_qsize 1\n",
      "2020-07-20 18:12:11,903 : INFO : worker thread finished; awaiting finish of 6 more threads\n",
      "2020-07-20 18:12:11,934 : INFO : worker thread finished; awaiting finish of 5 more threads\n",
      "2020-07-20 18:12:11,951 : INFO : worker thread finished; awaiting finish of 4 more threads\n",
      "2020-07-20 18:12:11,956 : INFO : worker thread finished; awaiting finish of 3 more threads\n",
      "2020-07-20 18:12:11,961 : INFO : worker thread finished; awaiting finish of 2 more threads\n",
      "2020-07-20 18:12:11,965 : INFO : worker thread finished; awaiting finish of 1 more threads\n",
      "2020-07-20 18:12:11,966 : INFO : worker thread finished; awaiting finish of 0 more threads\n",
      "2020-07-20 18:12:11,967 : INFO : EPOCH - 1 : training on 9227204 raw words (8221942 effective words) took 28.1s, 292085 effective words/s\n",
      "2020-07-20 18:12:13,003 : INFO : EPOCH 2 - PROGRESS: at 3.91% examples, 312555 words/s, in_qsize 15, out_qsize 0\n",
      "2020-07-20 18:12:14,053 : INFO : EPOCH 2 - PROGRESS: at 8.25% examples, 326115 words/s, in_qsize 16, out_qsize 0\n",
      "2020-07-20 18:12:15,064 : INFO : EPOCH 2 - PROGRESS: at 12.06% examples, 320371 words/s, in_qsize 15, out_qsize 2\n",
      "2020-07-20 18:12:16,149 : INFO : EPOCH 2 - PROGRESS: at 16.81% examples, 330940 words/s, in_qsize 15, out_qsize 0\n",
      "2020-07-20 18:12:17,172 : INFO : EPOCH 2 - PROGRESS: at 20.92% examples, 330960 words/s, in_qsize 15, out_qsize 0\n",
      "2020-07-20 18:12:18,198 : INFO : EPOCH 2 - PROGRESS: at 24.83% examples, 327947 words/s, in_qsize 11, out_qsize 4\n",
      "2020-07-20 18:12:19,264 : INFO : EPOCH 2 - PROGRESS: at 28.72% examples, 323936 words/s, in_qsize 15, out_qsize 0\n",
      "2020-07-20 18:12:20,273 : INFO : EPOCH 2 - PROGRESS: at 31.32% examples, 310301 words/s, in_qsize 13, out_qsize 2\n",
      "2020-07-20 18:12:21,290 : INFO : EPOCH 2 - PROGRESS: at 35.53% examples, 313698 words/s, in_qsize 14, out_qsize 1\n",
      "2020-07-20 18:12:22,416 : INFO : EPOCH 2 - PROGRESS: at 40.19% examples, 316563 words/s, in_qsize 14, out_qsize 1\n",
      "2020-07-20 18:12:23,478 : INFO : EPOCH 2 - PROGRESS: at 44.72% examples, 319846 words/s, in_qsize 14, out_qsize 1\n",
      "2020-07-20 18:12:24,494 : INFO : EPOCH 2 - PROGRESS: at 49.16% examples, 323091 words/s, in_qsize 15, out_qsize 1\n",
      "2020-07-20 18:12:25,527 : INFO : EPOCH 2 - PROGRESS: at 53.48% examples, 324771 words/s, in_qsize 16, out_qsize 1\n",
      "2020-07-20 18:12:26,619 : INFO : EPOCH 2 - PROGRESS: at 57.71% examples, 324285 words/s, in_qsize 15, out_qsize 0\n",
      "2020-07-20 18:12:27,639 : INFO : EPOCH 2 - PROGRESS: at 62.36% examples, 327610 words/s, in_qsize 16, out_qsize 0\n",
      "2020-07-20 18:12:28,660 : INFO : EPOCH 2 - PROGRESS: at 66.37% examples, 327293 words/s, in_qsize 14, out_qsize 1\n",
      "2020-07-20 18:12:29,765 : INFO : EPOCH 2 - PROGRESS: at 69.61% examples, 321985 words/s, in_qsize 14, out_qsize 0\n",
      "2020-07-20 18:12:30,818 : INFO : EPOCH 2 - PROGRESS: at 72.54% examples, 316764 words/s, in_qsize 16, out_qsize 2\n",
      "2020-07-20 18:12:31,820 : INFO : EPOCH 2 - PROGRESS: at 75.24% examples, 311985 words/s, in_qsize 15, out_qsize 0\n",
      "2020-07-20 18:12:32,841 : INFO : EPOCH 2 - PROGRESS: at 79.92% examples, 315063 words/s, in_qsize 16, out_qsize 0\n",
      "2020-07-20 18:12:33,868 : INFO : EPOCH 2 - PROGRESS: at 84.37% examples, 316979 words/s, in_qsize 15, out_qsize 0\n",
      "2020-07-20 18:12:34,896 : INFO : EPOCH 2 - PROGRESS: at 87.94% examples, 315582 words/s, in_qsize 11, out_qsize 4\n",
      "2020-07-20 18:12:35,907 : INFO : EPOCH 2 - PROGRESS: at 92.50% examples, 317871 words/s, in_qsize 15, out_qsize 0\n",
      "2020-07-20 18:12:36,980 : INFO : EPOCH 2 - PROGRESS: at 96.75% examples, 318116 words/s, in_qsize 16, out_qsize 0\n",
      "2020-07-20 18:12:37,583 : INFO : worker thread finished; awaiting finish of 7 more threads\n",
      "2020-07-20 18:12:37,604 : INFO : worker thread finished; awaiting finish of 6 more threads\n",
      "2020-07-20 18:12:37,607 : INFO : worker thread finished; awaiting finish of 5 more threads\n",
      "2020-07-20 18:12:37,619 : INFO : worker thread finished; awaiting finish of 4 more threads\n",
      "2020-07-20 18:12:37,625 : INFO : worker thread finished; awaiting finish of 3 more threads\n",
      "2020-07-20 18:12:37,645 : INFO : worker thread finished; awaiting finish of 2 more threads\n",
      "2020-07-20 18:12:37,650 : INFO : worker thread finished; awaiting finish of 1 more threads\n",
      "2020-07-20 18:12:37,651 : INFO : worker thread finished; awaiting finish of 0 more threads\n",
      "2020-07-20 18:12:37,652 : INFO : EPOCH - 2 : training on 9227204 raw words (8222233 effective words) took 25.7s, 320244 effective words/s\n",
      "2020-07-20 18:12:38,672 : INFO : EPOCH 3 - PROGRESS: at 3.80% examples, 308716 words/s, in_qsize 12, out_qsize 1\n",
      "2020-07-20 18:12:39,741 : INFO : EPOCH 3 - PROGRESS: at 7.71% examples, 304256 words/s, in_qsize 15, out_qsize 0\n",
      "2020-07-20 18:12:40,852 : INFO : EPOCH 3 - PROGRESS: at 11.30% examples, 290507 words/s, in_qsize 16, out_qsize 0\n",
      "2020-07-20 18:12:41,976 : INFO : EPOCH 3 - PROGRESS: at 14.54% examples, 276684 words/s, in_qsize 15, out_qsize 0\n",
      "2020-07-20 18:12:42,981 : INFO : EPOCH 3 - PROGRESS: at 18.65% examples, 288004 words/s, in_qsize 13, out_qsize 3\n"
     ]
    },
    {
     "name": "stderr",
     "output_type": "stream",
     "text": [
      "2020-07-20 18:12:44,055 : INFO : EPOCH 3 - PROGRESS: at 22.87% examples, 294024 words/s, in_qsize 16, out_qsize 0\n",
      "2020-07-20 18:12:45,061 : INFO : EPOCH 3 - PROGRESS: at 27.42% examples, 304583 words/s, in_qsize 15, out_qsize 0\n",
      "2020-07-20 18:12:46,088 : INFO : EPOCH 3 - PROGRESS: at 31.43% examples, 306590 words/s, in_qsize 15, out_qsize 0\n",
      "2020-07-20 18:12:47,136 : INFO : EPOCH 3 - PROGRESS: at 35.54% examples, 308362 words/s, in_qsize 14, out_qsize 2\n",
      "2020-07-20 18:12:48,154 : INFO : EPOCH 3 - PROGRESS: at 38.46% examples, 301331 words/s, in_qsize 15, out_qsize 0\n",
      "2020-07-20 18:12:49,166 : INFO : EPOCH 3 - PROGRESS: at 41.70% examples, 298085 words/s, in_qsize 13, out_qsize 1\n",
      "2020-07-20 18:12:50,190 : INFO : EPOCH 3 - PROGRESS: at 45.37% examples, 297893 words/s, in_qsize 13, out_qsize 2\n",
      "2020-07-20 18:12:51,229 : INFO : EPOCH 3 - PROGRESS: at 49.16% examples, 298046 words/s, in_qsize 13, out_qsize 2\n",
      "2020-07-20 18:12:52,281 : INFO : EPOCH 3 - PROGRESS: at 52.73% examples, 296735 words/s, in_qsize 15, out_qsize 0\n",
      "2020-07-20 18:12:53,303 : INFO : EPOCH 3 - PROGRESS: at 55.21% examples, 290445 words/s, in_qsize 14, out_qsize 1\n",
      "2020-07-20 18:12:54,345 : INFO : EPOCH 3 - PROGRESS: at 57.81% examples, 285561 words/s, in_qsize 15, out_qsize 0\n",
      "2020-07-20 18:12:55,368 : INFO : EPOCH 3 - PROGRESS: at 61.28% examples, 284729 words/s, in_qsize 15, out_qsize 0\n",
      "2020-07-20 18:12:56,410 : INFO : EPOCH 3 - PROGRESS: at 65.72% examples, 288377 words/s, in_qsize 16, out_qsize 0\n",
      "2020-07-20 18:12:57,448 : INFO : EPOCH 3 - PROGRESS: at 69.61% examples, 289474 words/s, in_qsize 15, out_qsize 0\n",
      "2020-07-20 18:12:58,515 : INFO : EPOCH 3 - PROGRESS: at 74.16% examples, 292579 words/s, in_qsize 15, out_qsize 0\n",
      "2020-07-20 18:12:59,617 : INFO : EPOCH 3 - PROGRESS: at 78.40% examples, 293710 words/s, in_qsize 13, out_qsize 2\n",
      "2020-07-20 18:13:00,656 : INFO : EPOCH 3 - PROGRESS: at 82.74% examples, 295927 words/s, in_qsize 15, out_qsize 1\n",
      "2020-07-20 18:13:01,703 : INFO : EPOCH 3 - PROGRESS: at 86.64% examples, 296379 words/s, in_qsize 15, out_qsize 0\n",
      "2020-07-20 18:13:02,721 : INFO : EPOCH 3 - PROGRESS: at 89.56% examples, 293932 words/s, in_qsize 14, out_qsize 0\n",
      "2020-07-20 18:13:03,723 : INFO : EPOCH 3 - PROGRESS: at 92.83% examples, 292870 words/s, in_qsize 16, out_qsize 0\n",
      "2020-07-20 18:13:04,748 : INFO : EPOCH 3 - PROGRESS: at 95.88% examples, 290996 words/s, in_qsize 15, out_qsize 0\n",
      "2020-07-20 18:13:05,523 : INFO : worker thread finished; awaiting finish of 7 more threads\n",
      "2020-07-20 18:13:05,537 : INFO : worker thread finished; awaiting finish of 6 more threads\n",
      "2020-07-20 18:13:05,546 : INFO : worker thread finished; awaiting finish of 5 more threads\n",
      "2020-07-20 18:13:05,552 : INFO : worker thread finished; awaiting finish of 4 more threads\n",
      "2020-07-20 18:13:05,562 : INFO : worker thread finished; awaiting finish of 3 more threads\n",
      "2020-07-20 18:13:05,586 : INFO : worker thread finished; awaiting finish of 2 more threads\n",
      "2020-07-20 18:13:05,604 : INFO : worker thread finished; awaiting finish of 1 more threads\n",
      "2020-07-20 18:13:05,615 : INFO : worker thread finished; awaiting finish of 0 more threads\n",
      "2020-07-20 18:13:05,615 : INFO : EPOCH - 3 : training on 9227204 raw words (8221374 effective words) took 28.0s, 294119 effective words/s\n",
      "2020-07-20 18:13:06,641 : INFO : EPOCH 4 - PROGRESS: at 3.69% examples, 298243 words/s, in_qsize 15, out_qsize 0\n",
      "2020-07-20 18:13:07,675 : INFO : EPOCH 4 - PROGRESS: at 7.49% examples, 304633 words/s, in_qsize 16, out_qsize 4\n",
      "2020-07-20 18:13:08,698 : INFO : EPOCH 4 - PROGRESS: at 11.84% examples, 316102 words/s, in_qsize 14, out_qsize 1\n",
      "2020-07-20 18:13:09,706 : INFO : EPOCH 4 - PROGRESS: at 15.84% examples, 318745 words/s, in_qsize 15, out_qsize 0\n",
      "2020-07-20 18:13:10,826 : INFO : EPOCH 4 - PROGRESS: at 20.59% examples, 325459 words/s, in_qsize 15, out_qsize 0\n",
      "2020-07-20 18:13:11,877 : INFO : EPOCH 4 - PROGRESS: at 24.94% examples, 327747 words/s, in_qsize 15, out_qsize 0\n",
      "2020-07-20 18:13:12,946 : INFO : EPOCH 4 - PROGRESS: at 29.48% examples, 331028 words/s, in_qsize 14, out_qsize 1\n",
      "2020-07-20 18:13:13,966 : INFO : EPOCH 4 - PROGRESS: at 32.52% examples, 320440 words/s, in_qsize 15, out_qsize 0\n",
      "2020-07-20 18:13:15,012 : INFO : EPOCH 4 - PROGRESS: at 35.32% examples, 309396 words/s, in_qsize 14, out_qsize 6\n",
      "2020-07-20 18:13:16,105 : INFO : EPOCH 4 - PROGRESS: at 39.54% examples, 311291 words/s, in_qsize 15, out_qsize 2\n",
      "2020-07-20 18:13:17,079 : INFO : EPOCH 4 - PROGRESS: at 43.64% examples, 313433 words/s, in_qsize 12, out_qsize 3\n",
      "2020-07-20 18:13:18,098 : INFO : EPOCH 4 - PROGRESS: at 48.19% examples, 317824 words/s, in_qsize 14, out_qsize 1\n",
      "2020-07-20 18:13:19,126 : INFO : EPOCH 4 - PROGRESS: at 52.40% examples, 319400 words/s, in_qsize 15, out_qsize 0\n",
      "2020-07-20 18:13:20,236 : INFO : EPOCH 4 - PROGRESS: at 56.40% examples, 317708 words/s, in_qsize 15, out_qsize 0\n",
      "2020-07-20 18:13:21,264 : INFO : EPOCH 4 - PROGRESS: at 61.07% examples, 321319 words/s, in_qsize 15, out_qsize 0\n",
      "2020-07-20 18:13:22,325 : INFO : EPOCH 4 - PROGRESS: at 65.06% examples, 320634 words/s, in_qsize 15, out_qsize 0\n",
      "2020-07-20 18:13:23,332 : INFO : EPOCH 4 - PROGRESS: at 69.50% examples, 323043 words/s, in_qsize 15, out_qsize 0\n",
      "2020-07-20 18:13:24,367 : INFO : EPOCH 4 - PROGRESS: at 73.08% examples, 320884 words/s, in_qsize 14, out_qsize 0\n",
      "2020-07-20 18:13:25,371 : INFO : EPOCH 4 - PROGRESS: at 76.44% examples, 318535 words/s, in_qsize 15, out_qsize 0\n",
      "2020-07-20 18:13:26,389 : INFO : EPOCH 4 - PROGRESS: at 79.38% examples, 314505 words/s, in_qsize 13, out_qsize 0\n",
      "2020-07-20 18:13:27,432 : INFO : EPOCH 4 - PROGRESS: at 83.29% examples, 314182 words/s, in_qsize 16, out_qsize 5\n",
      "2020-07-20 18:13:28,597 : INFO : EPOCH 4 - PROGRESS: at 87.94% examples, 315073 words/s, in_qsize 13, out_qsize 7\n",
      "2020-07-20 18:13:29,689 : INFO : EPOCH 4 - PROGRESS: at 92.28% examples, 315389 words/s, in_qsize 16, out_qsize 0\n",
      "2020-07-20 18:13:30,778 : INFO : EPOCH 4 - PROGRESS: at 96.85% examples, 316596 words/s, in_qsize 15, out_qsize 0\n",
      "2020-07-20 18:13:31,338 : INFO : worker thread finished; awaiting finish of 7 more threads\n",
      "2020-07-20 18:13:31,354 : INFO : worker thread finished; awaiting finish of 6 more threads\n",
      "2020-07-20 18:13:31,355 : INFO : worker thread finished; awaiting finish of 5 more threads\n",
      "2020-07-20 18:13:31,363 : INFO : worker thread finished; awaiting finish of 4 more threads\n",
      "2020-07-20 18:13:31,371 : INFO : worker thread finished; awaiting finish of 3 more threads\n",
      "2020-07-20 18:13:31,374 : INFO : worker thread finished; awaiting finish of 2 more threads\n",
      "2020-07-20 18:13:31,377 : INFO : worker thread finished; awaiting finish of 1 more threads\n",
      "2020-07-20 18:13:31,399 : INFO : worker thread finished; awaiting finish of 0 more threads\n",
      "2020-07-20 18:13:31,399 : INFO : EPOCH - 4 : training on 9227204 raw words (8222552 effective words) took 25.8s, 319029 effective words/s\n",
      "2020-07-20 18:13:32,435 : INFO : EPOCH 5 - PROGRESS: at 3.58% examples, 286775 words/s, in_qsize 12, out_qsize 0\n",
      "2020-07-20 18:13:33,512 : INFO : EPOCH 5 - PROGRESS: at 7.71% examples, 301021 words/s, in_qsize 15, out_qsize 0\n",
      "2020-07-20 18:13:34,574 : INFO : EPOCH 5 - PROGRESS: at 12.39% examples, 321037 words/s, in_qsize 15, out_qsize 0\n",
      "2020-07-20 18:13:35,599 : INFO : EPOCH 5 - PROGRESS: at 14.76% examples, 289284 words/s, in_qsize 13, out_qsize 2\n",
      "2020-07-20 18:13:36,691 : INFO : EPOCH 5 - PROGRESS: at 18.54% examples, 288470 words/s, in_qsize 15, out_qsize 1\n",
      "2020-07-20 18:13:37,709 : INFO : EPOCH 5 - PROGRESS: at 21.24% examples, 277220 words/s, in_qsize 12, out_qsize 4\n",
      "2020-07-20 18:13:38,780 : INFO : EPOCH 5 - PROGRESS: at 25.59% examples, 285324 words/s, in_qsize 15, out_qsize 0\n",
      "2020-07-20 18:13:39,793 : INFO : EPOCH 5 - PROGRESS: at 30.13% examples, 295511 words/s, in_qsize 15, out_qsize 0\n",
      "2020-07-20 18:13:40,848 : INFO : EPOCH 5 - PROGRESS: at 33.81% examples, 294546 words/s, in_qsize 13, out_qsize 2\n",
      "2020-07-20 18:13:41,875 : INFO : EPOCH 5 - PROGRESS: at 38.46% examples, 302241 words/s, in_qsize 13, out_qsize 1\n",
      "2020-07-20 18:13:42,879 : INFO : EPOCH 5 - PROGRESS: at 42.57% examples, 305278 words/s, in_qsize 14, out_qsize 0\n",
      "2020-07-20 18:13:43,953 : INFO : EPOCH 5 - PROGRESS: at 46.79% examples, 306855 words/s, in_qsize 14, out_qsize 1\n"
     ]
    },
    {
     "name": "stderr",
     "output_type": "stream",
     "text": [
      "2020-07-20 18:13:45,059 : INFO : EPOCH 5 - PROGRESS: at 51.21% examples, 309480 words/s, in_qsize 15, out_qsize 2\n",
      "2020-07-20 18:13:46,111 : INFO : EPOCH 5 - PROGRESS: at 55.64% examples, 311572 words/s, in_qsize 16, out_qsize 0\n",
      "2020-07-20 18:13:47,152 : INFO : EPOCH 5 - PROGRESS: at 59.23% examples, 309644 words/s, in_qsize 15, out_qsize 0\n",
      "2020-07-20 18:13:48,278 : INFO : EPOCH 5 - PROGRESS: at 61.71% examples, 301110 words/s, in_qsize 14, out_qsize 1\n",
      "2020-07-20 18:13:49,327 : INFO : EPOCH 5 - PROGRESS: at 64.73% examples, 297401 words/s, in_qsize 15, out_qsize 0\n",
      "2020-07-20 18:13:50,446 : INFO : EPOCH 5 - PROGRESS: at 68.21% examples, 294890 words/s, in_qsize 15, out_qsize 0\n",
      "2020-07-20 18:13:51,479 : INFO : EPOCH 5 - PROGRESS: at 72.21% examples, 296133 words/s, in_qsize 15, out_qsize 2\n",
      "2020-07-20 18:13:52,487 : INFO : EPOCH 5 - PROGRESS: at 75.78% examples, 295902 words/s, in_qsize 14, out_qsize 0\n",
      "2020-07-20 18:13:53,610 : INFO : EPOCH 5 - PROGRESS: at 78.84% examples, 292161 words/s, in_qsize 16, out_qsize 0\n",
      "2020-07-20 18:13:54,681 : INFO : EPOCH 5 - PROGRESS: at 83.18% examples, 294025 words/s, in_qsize 15, out_qsize 0\n",
      "2020-07-20 18:13:55,720 : INFO : EPOCH 5 - PROGRESS: at 87.62% examples, 296484 words/s, in_qsize 12, out_qsize 0\n",
      "2020-07-20 18:13:56,730 : INFO : EPOCH 5 - PROGRESS: at 91.52% examples, 297299 words/s, in_qsize 15, out_qsize 0\n",
      "2020-07-20 18:13:57,744 : INFO : EPOCH 5 - PROGRESS: at 94.58% examples, 295324 words/s, in_qsize 15, out_qsize 0\n",
      "2020-07-20 18:13:58,815 : INFO : EPOCH 5 - PROGRESS: at 97.82% examples, 293538 words/s, in_qsize 16, out_qsize 0\n",
      "2020-07-20 18:13:59,092 : INFO : worker thread finished; awaiting finish of 7 more threads\n",
      "2020-07-20 18:13:59,143 : INFO : worker thread finished; awaiting finish of 6 more threads\n",
      "2020-07-20 18:13:59,158 : INFO : worker thread finished; awaiting finish of 5 more threads\n",
      "2020-07-20 18:13:59,244 : INFO : worker thread finished; awaiting finish of 4 more threads\n",
      "2020-07-20 18:13:59,250 : INFO : worker thread finished; awaiting finish of 3 more threads\n",
      "2020-07-20 18:13:59,273 : INFO : worker thread finished; awaiting finish of 2 more threads\n",
      "2020-07-20 18:13:59,297 : INFO : worker thread finished; awaiting finish of 1 more threads\n",
      "2020-07-20 18:13:59,305 : INFO : worker thread finished; awaiting finish of 0 more threads\n",
      "2020-07-20 18:13:59,306 : INFO : EPOCH - 5 : training on 9227204 raw words (8223536 effective words) took 27.9s, 294794 effective words/s\n",
      "2020-07-20 18:14:00,333 : INFO : EPOCH 6 - PROGRESS: at 2.82% examples, 228013 words/s, in_qsize 12, out_qsize 1\n",
      "2020-07-20 18:14:01,378 : INFO : EPOCH 6 - PROGRESS: at 6.95% examples, 276598 words/s, in_qsize 15, out_qsize 0\n",
      "2020-07-20 18:14:02,393 : INFO : EPOCH 6 - PROGRESS: at 11.51% examples, 307020 words/s, in_qsize 14, out_qsize 0\n",
      "2020-07-20 18:14:03,406 : INFO : EPOCH 6 - PROGRESS: at 15.52% examples, 311507 words/s, in_qsize 15, out_qsize 0\n",
      "2020-07-20 18:14:04,413 : INFO : EPOCH 6 - PROGRESS: at 19.51% examples, 314591 words/s, in_qsize 14, out_qsize 1\n",
      "2020-07-20 18:14:05,520 : INFO : EPOCH 6 - PROGRESS: at 23.53% examples, 311672 words/s, in_qsize 13, out_qsize 4\n",
      "2020-07-20 18:14:06,600 : INFO : EPOCH 6 - PROGRESS: at 27.20% examples, 306990 words/s, in_qsize 15, out_qsize 0\n",
      "2020-07-20 18:14:07,601 : INFO : EPOCH 6 - PROGRESS: at 31.10% examples, 308640 words/s, in_qsize 15, out_qsize 0\n",
      "2020-07-20 18:14:08,649 : INFO : EPOCH 6 - PROGRESS: at 34.68% examples, 305498 words/s, in_qsize 15, out_qsize 1\n",
      "2020-07-20 18:14:09,672 : INFO : EPOCH 6 - PROGRESS: at 38.14% examples, 302836 words/s, in_qsize 13, out_qsize 0\n",
      "2020-07-20 18:14:10,691 : INFO : EPOCH 6 - PROGRESS: at 40.83% examples, 295323 words/s, in_qsize 14, out_qsize 1\n",
      "2020-07-20 18:14:11,699 : INFO : EPOCH 6 - PROGRESS: at 44.51% examples, 295723 words/s, in_qsize 15, out_qsize 1\n",
      "2020-07-20 18:14:12,713 : INFO : EPOCH 6 - PROGRESS: at 49.16% examples, 301949 words/s, in_qsize 13, out_qsize 0\n",
      "2020-07-20 18:14:13,747 : INFO : EPOCH 6 - PROGRESS: at 52.95% examples, 301944 words/s, in_qsize 15, out_qsize 0\n",
      "2020-07-20 18:14:14,806 : INFO : EPOCH 6 - PROGRESS: at 57.28% examples, 304319 words/s, in_qsize 11, out_qsize 4\n",
      "2020-07-20 18:14:15,833 : INFO : EPOCH 6 - PROGRESS: at 61.93% examples, 309090 words/s, in_qsize 12, out_qsize 1\n",
      "2020-07-20 18:14:16,820 : INFO : EPOCH 6 - PROGRESS: at 66.04% examples, 310510 words/s, in_qsize 12, out_qsize 3\n",
      "2020-07-20 18:14:17,851 : INFO : EPOCH 6 - PROGRESS: at 70.05% examples, 311026 words/s, in_qsize 15, out_qsize 1\n",
      "2020-07-20 18:14:18,907 : INFO : EPOCH 6 - PROGRESS: at 74.49% examples, 312881 words/s, in_qsize 13, out_qsize 3\n",
      "2020-07-20 18:14:19,933 : INFO : EPOCH 6 - PROGRESS: at 78.07% examples, 311579 words/s, in_qsize 15, out_qsize 0\n",
      "2020-07-20 18:14:20,973 : INFO : EPOCH 6 - PROGRESS: at 81.23% examples, 308543 words/s, in_qsize 15, out_qsize 0\n",
      "2020-07-20 18:14:21,984 : INFO : EPOCH 6 - PROGRESS: at 84.48% examples, 306556 words/s, in_qsize 15, out_qsize 0\n",
      "2020-07-20 18:14:22,985 : INFO : EPOCH 6 - PROGRESS: at 88.80% examples, 308639 words/s, in_qsize 15, out_qsize 0\n",
      "2020-07-20 18:14:24,082 : INFO : EPOCH 6 - PROGRESS: at 92.83% examples, 308265 words/s, in_qsize 14, out_qsize 5\n",
      "2020-07-20 18:14:25,094 : INFO : EPOCH 6 - PROGRESS: at 97.39% examples, 310665 words/s, in_qsize 15, out_qsize 0\n",
      "2020-07-20 18:14:25,479 : INFO : worker thread finished; awaiting finish of 7 more threads\n",
      "2020-07-20 18:14:25,488 : INFO : worker thread finished; awaiting finish of 6 more threads\n",
      "2020-07-20 18:14:25,525 : INFO : worker thread finished; awaiting finish of 5 more threads\n",
      "2020-07-20 18:14:25,527 : INFO : worker thread finished; awaiting finish of 4 more threads\n",
      "2020-07-20 18:14:25,534 : INFO : worker thread finished; awaiting finish of 3 more threads\n",
      "2020-07-20 18:14:25,552 : INFO : worker thread finished; awaiting finish of 2 more threads\n",
      "2020-07-20 18:14:25,558 : INFO : worker thread finished; awaiting finish of 1 more threads\n",
      "2020-07-20 18:14:25,567 : INFO : worker thread finished; awaiting finish of 0 more threads\n",
      "2020-07-20 18:14:25,567 : INFO : EPOCH - 6 : training on 9227204 raw words (8223077 effective words) took 26.3s, 313255 effective words/s\n",
      "2020-07-20 18:14:26,607 : INFO : EPOCH 7 - PROGRESS: at 3.69% examples, 294378 words/s, in_qsize 15, out_qsize 0\n",
      "2020-07-20 18:14:27,646 : INFO : EPOCH 7 - PROGRESS: at 8.04% examples, 318852 words/s, in_qsize 15, out_qsize 0\n",
      "2020-07-20 18:14:28,682 : INFO : EPOCH 7 - PROGRESS: at 12.17% examples, 321614 words/s, in_qsize 16, out_qsize 0\n",
      "2020-07-20 18:14:29,705 : INFO : EPOCH 7 - PROGRESS: at 16.16% examples, 321645 words/s, in_qsize 13, out_qsize 2\n",
      "2020-07-20 18:14:30,721 : INFO : EPOCH 7 - PROGRESS: at 20.05% examples, 320434 words/s, in_qsize 13, out_qsize 0\n",
      "2020-07-20 18:14:31,784 : INFO : EPOCH 7 - PROGRESS: at 23.31% examples, 308625 words/s, in_qsize 13, out_qsize 2\n",
      "2020-07-20 18:14:32,808 : INFO : EPOCH 7 - PROGRESS: at 26.12% examples, 296957 words/s, in_qsize 15, out_qsize 4\n",
      "2020-07-20 18:14:33,832 : INFO : EPOCH 7 - PROGRESS: at 29.80% examples, 296796 words/s, in_qsize 15, out_qsize 0\n",
      "2020-07-20 18:14:34,845 : INFO : EPOCH 7 - PROGRESS: at 33.70% examples, 298918 words/s, in_qsize 15, out_qsize 0\n",
      "2020-07-20 18:14:35,888 : INFO : EPOCH 7 - PROGRESS: at 38.02% examples, 303247 words/s, in_qsize 13, out_qsize 2\n",
      "2020-07-20 18:14:36,926 : INFO : EPOCH 7 - PROGRESS: at 41.70% examples, 302182 words/s, in_qsize 14, out_qsize 1\n",
      "2020-07-20 18:14:37,979 : INFO : EPOCH 7 - PROGRESS: at 45.05% examples, 298790 words/s, in_qsize 16, out_qsize 0\n",
      "2020-07-20 18:14:39,002 : INFO : EPOCH 7 - PROGRESS: at 49.16% examples, 301258 words/s, in_qsize 15, out_qsize 0\n",
      "2020-07-20 18:14:40,002 : INFO : EPOCH 7 - PROGRESS: at 53.27% examples, 303843 words/s, in_qsize 14, out_qsize 0\n",
      "2020-07-20 18:14:41,034 : INFO : EPOCH 7 - PROGRESS: at 57.27% examples, 304903 words/s, in_qsize 15, out_qsize 1\n",
      "2020-07-20 18:14:42,122 : INFO : EPOCH 7 - PROGRESS: at 60.63% examples, 301539 words/s, in_qsize 16, out_qsize 0\n",
      "2020-07-20 18:14:43,157 : INFO : EPOCH 7 - PROGRESS: at 63.87% examples, 298982 words/s, in_qsize 15, out_qsize 0\n",
      "2020-07-20 18:14:44,241 : INFO : EPOCH 7 - PROGRESS: at 67.23% examples, 296412 words/s, in_qsize 15, out_qsize 0\n"
     ]
    },
    {
     "name": "stderr",
     "output_type": "stream",
     "text": [
      "2020-07-20 18:14:45,313 : INFO : EPOCH 7 - PROGRESS: at 71.46% examples, 297922 words/s, in_qsize 15, out_qsize 0\n",
      "2020-07-20 18:14:46,350 : INFO : EPOCH 7 - PROGRESS: at 75.79% examples, 300186 words/s, in_qsize 16, out_qsize 0\n",
      "2020-07-20 18:14:47,456 : INFO : EPOCH 7 - PROGRESS: at 80.03% examples, 300891 words/s, in_qsize 16, out_qsize 0\n",
      "2020-07-20 18:14:48,513 : INFO : EPOCH 7 - PROGRESS: at 82.53% examples, 295951 words/s, in_qsize 15, out_qsize 0\n",
      "2020-07-20 18:14:49,670 : INFO : EPOCH 7 - PROGRESS: at 85.88% examples, 293192 words/s, in_qsize 16, out_qsize 2\n",
      "2020-07-20 18:14:50,723 : INFO : EPOCH 7 - PROGRESS: at 88.91% examples, 290840 words/s, in_qsize 15, out_qsize 0\n",
      "2020-07-20 18:14:51,750 : INFO : EPOCH 7 - PROGRESS: at 92.94% examples, 292001 words/s, in_qsize 16, out_qsize 0\n",
      "2020-07-20 18:14:52,760 : INFO : EPOCH 7 - PROGRESS: at 96.42% examples, 291638 words/s, in_qsize 13, out_qsize 1\n",
      "2020-07-20 18:14:53,649 : INFO : worker thread finished; awaiting finish of 7 more threads\n",
      "2020-07-20 18:14:53,693 : INFO : worker thread finished; awaiting finish of 6 more threads\n",
      "2020-07-20 18:14:53,715 : INFO : worker thread finished; awaiting finish of 5 more threads\n",
      "2020-07-20 18:14:53,718 : INFO : worker thread finished; awaiting finish of 4 more threads\n",
      "2020-07-20 18:14:53,729 : INFO : worker thread finished; awaiting finish of 3 more threads\n",
      "2020-07-20 18:14:53,750 : INFO : worker thread finished; awaiting finish of 2 more threads\n",
      "2020-07-20 18:14:53,776 : INFO : EPOCH 7 - PROGRESS: at 99.89% examples, 291278 words/s, in_qsize 1, out_qsize 1\n",
      "2020-07-20 18:14:53,780 : INFO : worker thread finished; awaiting finish of 1 more threads\n",
      "2020-07-20 18:14:53,781 : INFO : worker thread finished; awaiting finish of 0 more threads\n",
      "2020-07-20 18:14:53,784 : INFO : EPOCH - 7 : training on 9227204 raw words (8222306 effective words) took 28.2s, 291509 effective words/s\n",
      "2020-07-20 18:14:54,910 : INFO : EPOCH 8 - PROGRESS: at 2.06% examples, 153036 words/s, in_qsize 2, out_qsize 3\n",
      "2020-07-20 18:14:55,941 : INFO : EPOCH 8 - PROGRESS: at 5.86% examples, 224882 words/s, in_qsize 15, out_qsize 0\n",
      "2020-07-20 18:14:56,979 : INFO : EPOCH 8 - PROGRESS: at 9.77% examples, 252577 words/s, in_qsize 11, out_qsize 4\n",
      "2020-07-20 18:14:57,986 : INFO : EPOCH 8 - PROGRESS: at 14.33% examples, 281129 words/s, in_qsize 13, out_qsize 0\n",
      "2020-07-20 18:14:58,989 : INFO : EPOCH 8 - PROGRESS: at 18.54% examples, 293714 words/s, in_qsize 16, out_qsize 0\n",
      "2020-07-20 18:15:00,007 : INFO : EPOCH 8 - PROGRESS: at 22.33% examples, 295830 words/s, in_qsize 13, out_qsize 1\n",
      "2020-07-20 18:15:01,060 : INFO : EPOCH 8 - PROGRESS: at 26.56% examples, 300820 words/s, in_qsize 16, out_qsize 0\n",
      "2020-07-20 18:15:02,087 : INFO : EPOCH 8 - PROGRESS: at 30.45% examples, 302257 words/s, in_qsize 15, out_qsize 0\n",
      "2020-07-20 18:15:03,164 : INFO : EPOCH 8 - PROGRESS: at 34.67% examples, 304577 words/s, in_qsize 15, out_qsize 2\n",
      "2020-07-20 18:15:04,194 : INFO : EPOCH 8 - PROGRESS: at 38.13% examples, 301793 words/s, in_qsize 15, out_qsize 0\n",
      "2020-07-20 18:15:05,197 : INFO : EPOCH 8 - PROGRESS: at 41.26% examples, 297882 words/s, in_qsize 15, out_qsize 0\n",
      "2020-07-20 18:15:06,206 : INFO : EPOCH 8 - PROGRESS: at 44.83% examples, 297340 words/s, in_qsize 13, out_qsize 1\n",
      "2020-07-20 18:15:07,309 : INFO : EPOCH 8 - PROGRESS: at 49.27% examples, 300104 words/s, in_qsize 15, out_qsize 0\n",
      "2020-07-20 18:15:08,358 : INFO : EPOCH 8 - PROGRESS: at 53.70% examples, 303594 words/s, in_qsize 15, out_qsize 0\n",
      "2020-07-20 18:15:09,419 : INFO : EPOCH 8 - PROGRESS: at 56.84% examples, 299527 words/s, in_qsize 15, out_qsize 0\n",
      "2020-07-20 18:15:10,423 : INFO : EPOCH 8 - PROGRESS: at 61.28% examples, 303420 words/s, in_qsize 16, out_qsize 0\n",
      "2020-07-20 18:15:11,530 : INFO : EPOCH 8 - PROGRESS: at 65.28% examples, 303041 words/s, in_qsize 15, out_qsize 0\n",
      "2020-07-20 18:15:12,545 : INFO : EPOCH 8 - PROGRESS: at 69.50% examples, 305339 words/s, in_qsize 15, out_qsize 2\n",
      "2020-07-20 18:15:13,586 : INFO : EPOCH 8 - PROGRESS: at 73.62% examples, 306220 words/s, in_qsize 15, out_qsize 0\n",
      "2020-07-20 18:15:14,589 : INFO : EPOCH 8 - PROGRESS: at 77.53% examples, 306858 words/s, in_qsize 13, out_qsize 0\n",
      "2020-07-20 18:15:15,692 : INFO : EPOCH 8 - PROGRESS: at 80.58% examples, 302798 words/s, in_qsize 13, out_qsize 3\n",
      "2020-07-20 18:15:16,771 : INFO : EPOCH 8 - PROGRESS: at 83.28% examples, 298270 words/s, in_qsize 13, out_qsize 2\n",
      "2020-07-20 18:15:17,798 : INFO : EPOCH 8 - PROGRESS: at 87.29% examples, 299234 words/s, in_qsize 15, out_qsize 3\n",
      "2020-07-20 18:15:18,924 : INFO : EPOCH 8 - PROGRESS: at 91.85% examples, 300691 words/s, in_qsize 16, out_qsize 1\n",
      "2020-07-20 18:15:19,928 : INFO : EPOCH 8 - PROGRESS: at 96.20% examples, 302780 words/s, in_qsize 13, out_qsize 0\n",
      "2020-07-20 18:15:20,705 : INFO : worker thread finished; awaiting finish of 7 more threads\n",
      "2020-07-20 18:15:20,711 : INFO : worker thread finished; awaiting finish of 6 more threads\n",
      "2020-07-20 18:15:20,716 : INFO : worker thread finished; awaiting finish of 5 more threads\n",
      "2020-07-20 18:15:20,773 : INFO : worker thread finished; awaiting finish of 4 more threads\n",
      "2020-07-20 18:15:20,787 : INFO : worker thread finished; awaiting finish of 3 more threads\n",
      "2020-07-20 18:15:20,793 : INFO : worker thread finished; awaiting finish of 2 more threads\n",
      "2020-07-20 18:15:20,797 : INFO : worker thread finished; awaiting finish of 1 more threads\n",
      "2020-07-20 18:15:20,798 : INFO : worker thread finished; awaiting finish of 0 more threads\n",
      "2020-07-20 18:15:20,801 : INFO : EPOCH - 8 : training on 9227204 raw words (8222560 effective words) took 27.0s, 304574 effective words/s\n",
      "2020-07-20 18:15:21,852 : INFO : EPOCH 9 - PROGRESS: at 3.58% examples, 282320 words/s, in_qsize 14, out_qsize 2\n",
      "2020-07-20 18:15:22,949 : INFO : EPOCH 9 - PROGRESS: at 7.60% examples, 294801 words/s, in_qsize 15, out_qsize 2\n",
      "2020-07-20 18:15:23,999 : INFO : EPOCH 9 - PROGRESS: at 11.95% examples, 307391 words/s, in_qsize 14, out_qsize 1\n",
      "2020-07-20 18:15:25,000 : INFO : EPOCH 9 - PROGRESS: at 15.94% examples, 312622 words/s, in_qsize 13, out_qsize 4\n",
      "2020-07-20 18:15:26,017 : INFO : EPOCH 9 - PROGRESS: at 19.62% examples, 309681 words/s, in_qsize 15, out_qsize 1\n",
      "2020-07-20 18:15:27,024 : INFO : EPOCH 9 - PROGRESS: at 23.09% examples, 305366 words/s, in_qsize 15, out_qsize 0\n",
      "2020-07-20 18:15:28,041 : INFO : EPOCH 9 - PROGRESS: at 25.80% examples, 293217 words/s, in_qsize 14, out_qsize 2\n",
      "2020-07-20 18:15:29,062 : INFO : EPOCH 9 - PROGRESS: at 29.80% examples, 296908 words/s, in_qsize 16, out_qsize 0\n",
      "2020-07-20 18:15:30,126 : INFO : EPOCH 9 - PROGRESS: at 33.92% examples, 299301 words/s, in_qsize 16, out_qsize 1\n",
      "2020-07-20 18:15:31,262 : INFO : EPOCH 9 - PROGRESS: at 38.13% examples, 300738 words/s, in_qsize 15, out_qsize 5\n",
      "2020-07-20 18:15:32,244 : INFO : EPOCH 9 - PROGRESS: at 42.68% examples, 306998 words/s, in_qsize 15, out_qsize 0\n",
      "2020-07-20 18:15:33,245 : INFO : EPOCH 9 - PROGRESS: at 46.89% examples, 310200 words/s, in_qsize 15, out_qsize 0\n",
      "2020-07-20 18:15:34,275 : INFO : EPOCH 9 - PROGRESS: at 50.99% examples, 311645 words/s, in_qsize 14, out_qsize 1\n",
      "2020-07-20 18:15:35,376 : INFO : EPOCH 9 - PROGRESS: at 55.00% examples, 310744 words/s, in_qsize 15, out_qsize 0\n",
      "2020-07-20 18:15:36,684 : INFO : EPOCH 9 - PROGRESS: at 59.66% examples, 310774 words/s, in_qsize 15, out_qsize 4\n",
      "2020-07-20 18:15:37,642 : INFO : EPOCH 9 - PROGRESS: at 63.11% examples, 308625 words/s, in_qsize 14, out_qsize 1\n",
      "2020-07-20 18:15:38,944 : INFO : EPOCH 9 - PROGRESS: at 66.58% examples, 302159 words/s, in_qsize 14, out_qsize 6\n",
      "2020-07-20 18:15:40,051 : INFO : EPOCH 9 - PROGRESS: at 71.02% examples, 303751 words/s, in_qsize 15, out_qsize 0\n",
      "2020-07-20 18:15:41,151 : INFO : EPOCH 9 - PROGRESS: at 74.27% examples, 300458 words/s, in_qsize 15, out_qsize 0\n",
      "2020-07-20 18:15:42,154 : INFO : EPOCH 9 - PROGRESS: at 78.18% examples, 301360 words/s, in_qsize 16, out_qsize 1\n",
      "2020-07-20 18:15:43,187 : INFO : EPOCH 9 - PROGRESS: at 82.53% examples, 303371 words/s, in_qsize 15, out_qsize 0\n",
      "2020-07-20 18:15:44,239 : INFO : EPOCH 9 - PROGRESS: at 86.42% examples, 303431 words/s, in_qsize 11, out_qsize 5\n",
      "2020-07-20 18:15:45,243 : INFO : EPOCH 9 - PROGRESS: at 90.76% examples, 305538 words/s, in_qsize 9, out_qsize 6\n"
     ]
    },
    {
     "name": "stderr",
     "output_type": "stream",
     "text": [
      "2020-07-20 18:15:46,264 : INFO : EPOCH 9 - PROGRESS: at 95.01% examples, 306916 words/s, in_qsize 14, out_qsize 1\n",
      "2020-07-20 18:15:47,206 : INFO : worker thread finished; awaiting finish of 7 more threads\n",
      "2020-07-20 18:15:47,221 : INFO : worker thread finished; awaiting finish of 6 more threads\n",
      "2020-07-20 18:15:47,223 : INFO : worker thread finished; awaiting finish of 5 more threads\n",
      "2020-07-20 18:15:47,230 : INFO : worker thread finished; awaiting finish of 4 more threads\n",
      "2020-07-20 18:15:47,275 : INFO : EPOCH 9 - PROGRESS: at 99.67% examples, 309710 words/s, in_qsize 3, out_qsize 1\n",
      "2020-07-20 18:15:47,280 : INFO : worker thread finished; awaiting finish of 3 more threads\n",
      "2020-07-20 18:15:47,291 : INFO : worker thread finished; awaiting finish of 2 more threads\n",
      "2020-07-20 18:15:47,298 : INFO : worker thread finished; awaiting finish of 1 more threads\n",
      "2020-07-20 18:15:47,306 : INFO : worker thread finished; awaiting finish of 0 more threads\n",
      "2020-07-20 18:15:47,307 : INFO : EPOCH - 9 : training on 9227204 raw words (8222705 effective words) took 26.5s, 310345 effective words/s\n",
      "2020-07-20 18:15:48,333 : INFO : EPOCH 10 - PROGRESS: at 1.51% examples, 122796 words/s, in_qsize 11, out_qsize 0\n",
      "2020-07-20 18:15:49,439 : INFO : EPOCH 10 - PROGRESS: at 4.67% examples, 180546 words/s, in_qsize 15, out_qsize 0\n",
      "2020-07-20 18:15:50,751 : INFO : EPOCH 10 - PROGRESS: at 8.04% examples, 191985 words/s, in_qsize 16, out_qsize 2\n",
      "2020-07-20 18:15:51,762 : INFO : EPOCH 10 - PROGRESS: at 12.49% examples, 230523 words/s, in_qsize 14, out_qsize 0\n",
      "2020-07-20 18:15:52,766 : INFO : EPOCH 10 - PROGRESS: at 16.48% examples, 248489 words/s, in_qsize 12, out_qsize 0\n",
      "2020-07-20 18:15:53,784 : INFO : EPOCH 10 - PROGRESS: at 18.76% examples, 238272 words/s, in_qsize 14, out_qsize 0\n",
      "2020-07-20 18:15:54,798 : INFO : EPOCH 10 - PROGRESS: at 22.01% examples, 241744 words/s, in_qsize 15, out_qsize 0\n",
      "2020-07-20 18:15:55,804 : INFO : EPOCH 10 - PROGRESS: at 26.02% examples, 251929 words/s, in_qsize 15, out_qsize 0\n",
      "2020-07-20 18:15:56,809 : INFO : EPOCH 10 - PROGRESS: at 30.02% examples, 260001 words/s, in_qsize 15, out_qsize 0\n",
      "2020-07-20 18:15:57,934 : INFO : EPOCH 10 - PROGRESS: at 34.02% examples, 263517 words/s, in_qsize 16, out_qsize 0\n",
      "2020-07-20 18:15:58,960 : INFO : EPOCH 10 - PROGRESS: at 37.48% examples, 264753 words/s, in_qsize 14, out_qsize 1\n",
      "2020-07-20 18:16:00,003 : INFO : EPOCH 10 - PROGRESS: at 40.83% examples, 264744 words/s, in_qsize 15, out_qsize 0\n",
      "2020-07-20 18:16:01,295 : INFO : EPOCH 10 - PROGRESS: at 44.29% examples, 260685 words/s, in_qsize 11, out_qsize 4\n",
      "2020-07-20 18:16:02,333 : INFO : EPOCH 10 - PROGRESS: at 48.84% examples, 267592 words/s, in_qsize 15, out_qsize 0\n",
      "2020-07-20 18:16:03,360 : INFO : EPOCH 10 - PROGRESS: at 52.84% examples, 271028 words/s, in_qsize 15, out_qsize 1\n",
      "2020-07-20 18:16:04,420 : INFO : EPOCH 10 - PROGRESS: at 56.84% examples, 273523 words/s, in_qsize 12, out_qsize 3\n",
      "2020-07-20 18:16:05,442 : INFO : EPOCH 10 - PROGRESS: at 61.39% examples, 278746 words/s, in_qsize 15, out_qsize 0\n",
      "2020-07-20 18:16:06,480 : INFO : EPOCH 10 - PROGRESS: at 65.50% examples, 281310 words/s, in_qsize 16, out_qsize 0\n",
      "2020-07-20 18:16:07,490 : INFO : EPOCH 10 - PROGRESS: at 69.40% examples, 283127 words/s, in_qsize 15, out_qsize 0\n",
      "2020-07-20 18:16:08,520 : INFO : EPOCH 10 - PROGRESS: at 73.40% examples, 284906 words/s, in_qsize 14, out_qsize 1\n",
      "2020-07-20 18:16:09,567 : INFO : EPOCH 10 - PROGRESS: at 77.74% examples, 287520 words/s, in_qsize 12, out_qsize 3\n",
      "2020-07-20 18:16:10,572 : INFO : EPOCH 10 - PROGRESS: at 80.90% examples, 286195 words/s, in_qsize 14, out_qsize 1\n",
      "2020-07-20 18:16:11,732 : INFO : EPOCH 10 - PROGRESS: at 83.94% examples, 282809 words/s, in_qsize 15, out_qsize 0\n",
      "2020-07-20 18:16:12,734 : INFO : EPOCH 10 - PROGRESS: at 86.75% examples, 280782 words/s, in_qsize 12, out_qsize 0\n",
      "2020-07-20 18:16:13,807 : INFO : EPOCH 10 - PROGRESS: at 90.76% examples, 281834 words/s, in_qsize 15, out_qsize 0\n",
      "2020-07-20 18:16:14,876 : INFO : EPOCH 10 - PROGRESS: at 95.12% examples, 284093 words/s, in_qsize 14, out_qsize 3\n",
      "2020-07-20 18:16:15,830 : INFO : worker thread finished; awaiting finish of 7 more threads\n",
      "2020-07-20 18:16:15,835 : INFO : worker thread finished; awaiting finish of 6 more threads\n",
      "2020-07-20 18:16:15,844 : INFO : worker thread finished; awaiting finish of 5 more threads\n",
      "2020-07-20 18:16:15,848 : INFO : worker thread finished; awaiting finish of 4 more threads\n",
      "2020-07-20 18:16:15,856 : INFO : EPOCH 10 - PROGRESS: at 99.67% examples, 287216 words/s, in_qsize 3, out_qsize 1\n",
      "2020-07-20 18:16:15,857 : INFO : worker thread finished; awaiting finish of 3 more threads\n",
      "2020-07-20 18:16:15,880 : INFO : worker thread finished; awaiting finish of 2 more threads\n",
      "2020-07-20 18:16:15,894 : INFO : worker thread finished; awaiting finish of 1 more threads\n",
      "2020-07-20 18:16:15,904 : INFO : worker thread finished; awaiting finish of 0 more threads\n",
      "2020-07-20 18:16:15,905 : INFO : EPOCH - 10 : training on 9227204 raw words (8223361 effective words) took 28.6s, 287658 effective words/s\n",
      "2020-07-20 18:16:16,918 : INFO : EPOCH 11 - PROGRESS: at 3.80% examples, 310937 words/s, in_qsize 16, out_qsize 0\n",
      "2020-07-20 18:16:17,925 : INFO : EPOCH 11 - PROGRESS: at 7.38% examples, 301472 words/s, in_qsize 12, out_qsize 4\n",
      "2020-07-20 18:16:18,950 : INFO : EPOCH 11 - PROGRESS: at 11.95% examples, 322977 words/s, in_qsize 15, out_qsize 0\n",
      "2020-07-20 18:16:20,005 : INFO : EPOCH 11 - PROGRESS: at 15.73% examples, 315851 words/s, in_qsize 14, out_qsize 1\n",
      "2020-07-20 18:16:21,026 : INFO : EPOCH 11 - PROGRESS: at 19.51% examples, 313738 words/s, in_qsize 15, out_qsize 1\n",
      "2020-07-20 18:16:22,057 : INFO : EPOCH 11 - PROGRESS: at 22.87% examples, 306078 words/s, in_qsize 13, out_qsize 2\n",
      "2020-07-20 18:16:23,170 : INFO : EPOCH 11 - PROGRESS: at 26.02% examples, 294736 words/s, in_qsize 15, out_qsize 0\n",
      "2020-07-20 18:16:24,190 : INFO : EPOCH 11 - PROGRESS: at 30.02% examples, 298243 words/s, in_qsize 15, out_qsize 0\n",
      "2020-07-20 18:16:25,191 : INFO : EPOCH 11 - PROGRESS: at 34.02% examples, 301600 words/s, in_qsize 13, out_qsize 5\n",
      "2020-07-20 18:16:26,198 : INFO : EPOCH 11 - PROGRESS: at 38.25% examples, 305857 words/s, in_qsize 16, out_qsize 0\n",
      "2020-07-20 18:16:27,295 : INFO : EPOCH 11 - PROGRESS: at 42.57% examples, 307716 words/s, in_qsize 11, out_qsize 6\n",
      "2020-07-20 18:16:28,418 : INFO : EPOCH 11 - PROGRESS: at 47.32% examples, 311413 words/s, in_qsize 14, out_qsize 1\n",
      "2020-07-20 18:16:29,525 : INFO : EPOCH 11 - PROGRESS: at 51.86% examples, 313577 words/s, in_qsize 16, out_qsize 0\n",
      "2020-07-20 18:16:30,531 : INFO : EPOCH 11 - PROGRESS: at 55.97% examples, 315175 words/s, in_qsize 16, out_qsize 0\n",
      "2020-07-20 18:16:31,585 : INFO : EPOCH 11 - PROGRESS: at 59.34% examples, 311619 words/s, in_qsize 15, out_qsize 0\n",
      "2020-07-20 18:16:32,588 : INFO : EPOCH 11 - PROGRESS: at 62.57% examples, 308902 words/s, in_qsize 12, out_qsize 0\n",
      "2020-07-20 18:16:33,686 : INFO : EPOCH 11 - PROGRESS: at 66.04% examples, 305849 words/s, in_qsize 16, out_qsize 0\n",
      "2020-07-20 18:16:34,739 : INFO : EPOCH 11 - PROGRESS: at 70.70% examples, 309089 words/s, in_qsize 16, out_qsize 0\n",
      "2020-07-20 18:16:35,849 : INFO : EPOCH 11 - PROGRESS: at 75.13% examples, 310189 words/s, in_qsize 13, out_qsize 2\n",
      "2020-07-20 18:16:36,849 : INFO : EPOCH 11 - PROGRESS: at 79.38% examples, 311956 words/s, in_qsize 16, out_qsize 3\n",
      "2020-07-20 18:16:37,870 : INFO : EPOCH 11 - PROGRESS: at 83.29% examples, 312318 words/s, in_qsize 15, out_qsize 6\n",
      "2020-07-20 18:16:38,894 : INFO : EPOCH 11 - PROGRESS: at 87.83% examples, 314433 words/s, in_qsize 15, out_qsize 0\n",
      "2020-07-20 18:16:39,956 : INFO : EPOCH 11 - PROGRESS: at 92.18% examples, 315343 words/s, in_qsize 15, out_qsize 0\n",
      "2020-07-20 18:16:41,002 : INFO : EPOCH 11 - PROGRESS: at 96.53% examples, 316403 words/s, in_qsize 16, out_qsize 0\n",
      "2020-07-20 18:16:41,551 : INFO : worker thread finished; awaiting finish of 7 more threads\n",
      "2020-07-20 18:16:41,558 : INFO : worker thread finished; awaiting finish of 6 more threads\n",
      "2020-07-20 18:16:41,614 : INFO : worker thread finished; awaiting finish of 5 more threads\n",
      "2020-07-20 18:16:41,621 : INFO : worker thread finished; awaiting finish of 4 more threads\n",
      "2020-07-20 18:16:41,650 : INFO : worker thread finished; awaiting finish of 3 more threads\n"
     ]
    },
    {
     "name": "stderr",
     "output_type": "stream",
     "text": [
      "2020-07-20 18:16:41,664 : INFO : worker thread finished; awaiting finish of 2 more threads\n",
      "2020-07-20 18:16:41,675 : INFO : worker thread finished; awaiting finish of 1 more threads\n",
      "2020-07-20 18:16:41,686 : INFO : worker thread finished; awaiting finish of 0 more threads\n",
      "2020-07-20 18:16:41,688 : INFO : EPOCH - 11 : training on 9227204 raw words (8223592 effective words) took 25.8s, 319076 effective words/s\n",
      "2020-07-20 18:16:42,782 : INFO : EPOCH 12 - PROGRESS: at 2.93% examples, 223789 words/s, in_qsize 9, out_qsize 0\n",
      "2020-07-20 18:16:43,818 : INFO : EPOCH 12 - PROGRESS: at 6.08% examples, 236395 words/s, in_qsize 14, out_qsize 1\n",
      "2020-07-20 18:16:44,835 : INFO : EPOCH 12 - PROGRESS: at 9.45% examples, 247939 words/s, in_qsize 15, out_qsize 0\n",
      "2020-07-20 18:16:45,842 : INFO : EPOCH 12 - PROGRESS: at 13.14% examples, 260753 words/s, in_qsize 14, out_qsize 0\n",
      "2020-07-20 18:16:46,917 : INFO : EPOCH 12 - PROGRESS: at 17.02% examples, 268469 words/s, in_qsize 15, out_qsize 0\n",
      "2020-07-20 18:16:47,972 : INFO : EPOCH 12 - PROGRESS: at 20.27% examples, 265896 words/s, in_qsize 13, out_qsize 5\n",
      "2020-07-20 18:16:49,024 : INFO : EPOCH 12 - PROGRESS: at 23.30% examples, 261776 words/s, in_qsize 15, out_qsize 0\n",
      "2020-07-20 18:16:50,197 : INFO : EPOCH 12 - PROGRESS: at 27.75% examples, 268612 words/s, in_qsize 15, out_qsize 0\n",
      "2020-07-20 18:16:51,210 : INFO : EPOCH 12 - PROGRESS: at 30.67% examples, 265323 words/s, in_qsize 16, out_qsize 0\n",
      "2020-07-20 18:16:52,233 : INFO : EPOCH 12 - PROGRESS: at 34.46% examples, 269144 words/s, in_qsize 15, out_qsize 0\n",
      "2020-07-20 18:16:53,274 : INFO : EPOCH 12 - PROGRESS: at 37.37% examples, 265700 words/s, in_qsize 11, out_qsize 4\n",
      "2020-07-20 18:16:54,290 : INFO : EPOCH 12 - PROGRESS: at 40.83% examples, 266899 words/s, in_qsize 16, out_qsize 0\n",
      "2020-07-20 18:16:55,451 : INFO : EPOCH 12 - PROGRESS: at 43.86% examples, 262488 words/s, in_qsize 15, out_qsize 0\n",
      "2020-07-20 18:16:56,541 : INFO : EPOCH 12 - PROGRESS: at 47.65% examples, 264218 words/s, in_qsize 15, out_qsize 5\n",
      "2020-07-20 18:16:57,560 : INFO : EPOCH 12 - PROGRESS: at 52.07% examples, 270284 words/s, in_qsize 15, out_qsize 0\n",
      "2020-07-20 18:16:58,563 : INFO : EPOCH 12 - PROGRESS: at 55.97% examples, 273243 words/s, in_qsize 12, out_qsize 2\n",
      "2020-07-20 18:16:59,577 : INFO : EPOCH 12 - PROGRESS: at 60.41% examples, 278169 words/s, in_qsize 14, out_qsize 0\n",
      "2020-07-20 18:17:00,637 : INFO : EPOCH 12 - PROGRESS: at 63.87% examples, 277647 words/s, in_qsize 15, out_qsize 0\n",
      "2020-07-20 18:17:01,643 : INFO : EPOCH 12 - PROGRESS: at 68.32% examples, 281955 words/s, in_qsize 14, out_qsize 0\n",
      "2020-07-20 18:17:02,650 : INFO : EPOCH 12 - PROGRESS: at 72.43% examples, 284550 words/s, in_qsize 15, out_qsize 0\n",
      "2020-07-20 18:17:03,674 : INFO : EPOCH 12 - PROGRESS: at 76.33% examples, 285880 words/s, in_qsize 13, out_qsize 1\n",
      "2020-07-20 18:17:04,700 : INFO : EPOCH 12 - PROGRESS: at 79.27% examples, 283574 words/s, in_qsize 15, out_qsize 2\n",
      "2020-07-20 18:17:05,762 : INFO : EPOCH 12 - PROGRESS: at 82.74% examples, 282911 words/s, in_qsize 16, out_qsize 0\n",
      "2020-07-20 18:17:06,793 : INFO : EPOCH 12 - PROGRESS: at 86.42% examples, 283341 words/s, in_qsize 15, out_qsize 1\n",
      "2020-07-20 18:17:07,875 : INFO : EPOCH 12 - PROGRESS: at 90.87% examples, 285580 words/s, in_qsize 15, out_qsize 0\n",
      "2020-07-20 18:17:08,898 : INFO : EPOCH 12 - PROGRESS: at 95.12% examples, 287600 words/s, in_qsize 15, out_qsize 0\n",
      "2020-07-20 18:17:09,892 : INFO : worker thread finished; awaiting finish of 7 more threads\n",
      "2020-07-20 18:17:09,895 : INFO : worker thread finished; awaiting finish of 6 more threads\n",
      "2020-07-20 18:17:09,914 : INFO : EPOCH 12 - PROGRESS: at 99.55% examples, 290190 words/s, in_qsize 5, out_qsize 1\n",
      "2020-07-20 18:17:09,917 : INFO : worker thread finished; awaiting finish of 5 more threads\n",
      "2020-07-20 18:17:09,919 : INFO : worker thread finished; awaiting finish of 4 more threads\n",
      "2020-07-20 18:17:09,922 : INFO : worker thread finished; awaiting finish of 3 more threads\n",
      "2020-07-20 18:17:09,950 : INFO : worker thread finished; awaiting finish of 2 more threads\n",
      "2020-07-20 18:17:09,951 : INFO : worker thread finished; awaiting finish of 1 more threads\n",
      "2020-07-20 18:17:09,964 : INFO : worker thread finished; awaiting finish of 0 more threads\n",
      "2020-07-20 18:17:09,965 : INFO : EPOCH - 12 : training on 9227204 raw words (8222026 effective words) took 28.3s, 290968 effective words/s\n",
      "2020-07-20 18:17:11,009 : INFO : EPOCH 13 - PROGRESS: at 3.91% examples, 310492 words/s, in_qsize 15, out_qsize 0\n",
      "2020-07-20 18:17:12,017 : INFO : EPOCH 13 - PROGRESS: at 8.04% examples, 322810 words/s, in_qsize 15, out_qsize 0\n",
      "2020-07-20 18:17:13,037 : INFO : EPOCH 13 - PROGRESS: at 12.17% examples, 325892 words/s, in_qsize 14, out_qsize 2\n",
      "2020-07-20 18:17:14,060 : INFO : EPOCH 13 - PROGRESS: at 16.16% examples, 324933 words/s, in_qsize 15, out_qsize 0\n",
      "2020-07-20 18:17:15,120 : INFO : EPOCH 13 - PROGRESS: at 19.19% examples, 306435 words/s, in_qsize 14, out_qsize 3\n",
      "2020-07-20 18:17:16,144 : INFO : EPOCH 13 - PROGRESS: at 22.22% examples, 296030 words/s, in_qsize 13, out_qsize 2\n",
      "2020-07-20 18:17:17,182 : INFO : EPOCH 13 - PROGRESS: at 24.94% examples, 284331 words/s, in_qsize 16, out_qsize 3\n",
      "2020-07-20 18:17:18,191 : INFO : EPOCH 13 - PROGRESS: at 29.27% examples, 292780 words/s, in_qsize 15, out_qsize 0\n",
      "2020-07-20 18:17:19,224 : INFO : EPOCH 13 - PROGRESS: at 33.37% examples, 296661 words/s, in_qsize 15, out_qsize 0\n",
      "2020-07-20 18:17:20,316 : INFO : EPOCH 13 - PROGRESS: at 37.70% examples, 300764 words/s, in_qsize 15, out_qsize 0\n",
      "2020-07-20 18:17:21,329 : INFO : EPOCH 13 - PROGRESS: at 41.91% examples, 303660 words/s, in_qsize 14, out_qsize 1\n",
      "2020-07-20 18:17:22,340 : INFO : EPOCH 13 - PROGRESS: at 46.46% examples, 309084 words/s, in_qsize 14, out_qsize 1\n",
      "2020-07-20 18:17:23,375 : INFO : EPOCH 13 - PROGRESS: at 50.35% examples, 309157 words/s, in_qsize 15, out_qsize 0\n",
      "2020-07-20 18:17:24,387 : INFO : EPOCH 13 - PROGRESS: at 54.56% examples, 311564 words/s, in_qsize 13, out_qsize 2\n",
      "2020-07-20 18:17:25,412 : INFO : EPOCH 13 - PROGRESS: at 58.58% examples, 312256 words/s, in_qsize 15, out_qsize 0\n",
      "2020-07-20 18:17:26,491 : INFO : EPOCH 13 - PROGRESS: at 61.93% examples, 308586 words/s, in_qsize 14, out_qsize 1\n",
      "2020-07-20 18:17:27,509 : INFO : EPOCH 13 - PROGRESS: at 65.61% examples, 307932 words/s, in_qsize 15, out_qsize 0\n",
      "2020-07-20 18:17:28,683 : INFO : EPOCH 13 - PROGRESS: at 68.53% examples, 301478 words/s, in_qsize 15, out_qsize 1\n",
      "2020-07-20 18:17:29,741 : INFO : EPOCH 13 - PROGRESS: at 72.75% examples, 302906 words/s, in_qsize 15, out_qsize 0\n",
      "2020-07-20 18:17:30,751 : INFO : EPOCH 13 - PROGRESS: at 76.77% examples, 304032 words/s, in_qsize 16, out_qsize 1\n",
      "2020-07-20 18:17:31,788 : INFO : EPOCH 13 - PROGRESS: at 81.01% examples, 305510 words/s, in_qsize 13, out_qsize 2\n",
      "2020-07-20 18:17:32,792 : INFO : EPOCH 13 - PROGRESS: at 85.55% examples, 308464 words/s, in_qsize 12, out_qsize 0\n",
      "2020-07-20 18:17:33,798 : INFO : EPOCH 13 - PROGRESS: at 89.24% examples, 308138 words/s, in_qsize 16, out_qsize 0\n",
      "2020-07-20 18:17:34,809 : INFO : EPOCH 13 - PROGRESS: at 93.37% examples, 309207 words/s, in_qsize 13, out_qsize 2\n",
      "2020-07-20 18:17:35,866 : INFO : EPOCH 13 - PROGRESS: at 97.82% examples, 310697 words/s, in_qsize 14, out_qsize 1\n",
      "2020-07-20 18:17:36,171 : INFO : worker thread finished; awaiting finish of 7 more threads\n",
      "2020-07-20 18:17:36,178 : INFO : worker thread finished; awaiting finish of 6 more threads\n",
      "2020-07-20 18:17:36,179 : INFO : worker thread finished; awaiting finish of 5 more threads\n",
      "2020-07-20 18:17:36,187 : INFO : worker thread finished; awaiting finish of 4 more threads\n",
      "2020-07-20 18:17:36,188 : INFO : worker thread finished; awaiting finish of 3 more threads\n",
      "2020-07-20 18:17:36,234 : INFO : worker thread finished; awaiting finish of 2 more threads\n",
      "2020-07-20 18:17:36,237 : INFO : worker thread finished; awaiting finish of 1 more threads\n",
      "2020-07-20 18:17:36,242 : INFO : worker thread finished; awaiting finish of 0 more threads\n",
      "2020-07-20 18:17:36,243 : INFO : EPOCH - 13 : training on 9227204 raw words (8223318 effective words) took 26.3s, 313058 effective words/s\n",
      "2020-07-20 18:17:37,310 : INFO : EPOCH 14 - PROGRESS: at 2.93% examples, 227707 words/s, in_qsize 16, out_qsize 1\n"
     ]
    },
    {
     "name": "stderr",
     "output_type": "stream",
     "text": [
      "2020-07-20 18:17:38,342 : INFO : EPOCH 14 - PROGRESS: at 6.40% examples, 251556 words/s, in_qsize 15, out_qsize 0\n",
      "2020-07-20 18:17:39,361 : INFO : EPOCH 14 - PROGRESS: at 9.55% examples, 252315 words/s, in_qsize 13, out_qsize 2\n",
      "2020-07-20 18:17:40,474 : INFO : EPOCH 14 - PROGRESS: at 13.68% examples, 265948 words/s, in_qsize 15, out_qsize 2\n",
      "2020-07-20 18:17:41,483 : INFO : EPOCH 14 - PROGRESS: at 18.00% examples, 282683 words/s, in_qsize 15, out_qsize 0\n",
      "2020-07-20 18:17:42,484 : INFO : EPOCH 14 - PROGRESS: at 21.90% examples, 288758 words/s, in_qsize 16, out_qsize 0\n",
      "2020-07-20 18:17:43,532 : INFO : EPOCH 14 - PROGRESS: at 25.91% examples, 292457 words/s, in_qsize 13, out_qsize 2\n",
      "2020-07-20 18:17:44,540 : INFO : EPOCH 14 - PROGRESS: at 29.92% examples, 296683 words/s, in_qsize 15, out_qsize 0\n",
      "2020-07-20 18:17:45,592 : INFO : EPOCH 14 - PROGRESS: at 34.03% examples, 299507 words/s, in_qsize 14, out_qsize 1\n",
      "2020-07-20 18:17:46,594 : INFO : EPOCH 14 - PROGRESS: at 38.14% examples, 303214 words/s, in_qsize 15, out_qsize 0\n",
      "2020-07-20 18:17:47,771 : INFO : EPOCH 14 - PROGRESS: at 42.68% examples, 304695 words/s, in_qsize 15, out_qsize 0\n",
      "2020-07-20 18:17:48,909 : INFO : EPOCH 14 - PROGRESS: at 43.75% examples, 284333 words/s, in_qsize 15, out_qsize 0\n",
      "2020-07-20 18:17:49,948 : INFO : EPOCH 14 - PROGRESS: at 47.32% examples, 284225 words/s, in_qsize 15, out_qsize 0\n",
      "2020-07-20 18:17:51,084 : INFO : EPOCH 14 - PROGRESS: at 49.38% examples, 273867 words/s, in_qsize 15, out_qsize 0\n",
      "2020-07-20 18:17:52,125 : INFO : EPOCH 14 - PROGRESS: at 52.40% examples, 271651 words/s, in_qsize 15, out_qsize 2\n",
      "2020-07-20 18:17:53,148 : INFO : EPOCH 14 - PROGRESS: at 56.40% examples, 274709 words/s, in_qsize 16, out_qsize 0\n",
      "2020-07-20 18:17:54,159 : INFO : EPOCH 14 - PROGRESS: at 60.63% examples, 278610 words/s, in_qsize 12, out_qsize 0\n",
      "2020-07-20 18:17:55,220 : INFO : EPOCH 14 - PROGRESS: at 64.51% examples, 279929 words/s, in_qsize 15, out_qsize 0\n",
      "2020-07-20 18:17:56,251 : INFO : EPOCH 14 - PROGRESS: at 67.99% examples, 279755 words/s, in_qsize 12, out_qsize 3\n",
      "2020-07-20 18:17:57,302 : INFO : EPOCH 14 - PROGRESS: at 72.10% examples, 281874 words/s, in_qsize 15, out_qsize 0\n",
      "2020-07-20 18:17:58,321 : INFO : EPOCH 14 - PROGRESS: at 76.00% examples, 283373 words/s, in_qsize 15, out_qsize 2\n",
      "2020-07-20 18:17:59,324 : INFO : EPOCH 14 - PROGRESS: at 79.59% examples, 283784 words/s, in_qsize 15, out_qsize 2\n",
      "2020-07-20 18:18:00,400 : INFO : EPOCH 14 - PROGRESS: at 82.96% examples, 282584 words/s, in_qsize 16, out_qsize 1\n",
      "2020-07-20 18:18:01,441 : INFO : EPOCH 14 - PROGRESS: at 86.31% examples, 281857 words/s, in_qsize 15, out_qsize 0\n",
      "2020-07-20 18:18:02,448 : INFO : EPOCH 14 - PROGRESS: at 90.22% examples, 283269 words/s, in_qsize 14, out_qsize 0\n",
      "2020-07-20 18:18:03,482 : INFO : EPOCH 14 - PROGRESS: at 94.58% examples, 285575 words/s, in_qsize 15, out_qsize 0\n",
      "2020-07-20 18:18:04,546 : INFO : EPOCH 14 - PROGRESS: at 98.90% examples, 287419 words/s, in_qsize 10, out_qsize 1\n",
      "2020-07-20 18:18:04,667 : INFO : worker thread finished; awaiting finish of 7 more threads\n",
      "2020-07-20 18:18:04,675 : INFO : worker thread finished; awaiting finish of 6 more threads\n",
      "2020-07-20 18:18:04,733 : INFO : worker thread finished; awaiting finish of 5 more threads\n",
      "2020-07-20 18:18:04,738 : INFO : worker thread finished; awaiting finish of 4 more threads\n",
      "2020-07-20 18:18:04,741 : INFO : worker thread finished; awaiting finish of 3 more threads\n",
      "2020-07-20 18:18:04,745 : INFO : worker thread finished; awaiting finish of 2 more threads\n",
      "2020-07-20 18:18:04,746 : INFO : worker thread finished; awaiting finish of 1 more threads\n",
      "2020-07-20 18:18:04,754 : INFO : worker thread finished; awaiting finish of 0 more threads\n",
      "2020-07-20 18:18:04,755 : INFO : EPOCH - 14 : training on 9227204 raw words (8222021 effective words) took 28.5s, 288481 effective words/s\n",
      "2020-07-20 18:18:05,799 : INFO : EPOCH 15 - PROGRESS: at 3.80% examples, 302754 words/s, in_qsize 14, out_qsize 1\n",
      "2020-07-20 18:18:06,807 : INFO : EPOCH 15 - PROGRESS: at 7.71% examples, 310264 words/s, in_qsize 15, out_qsize 0\n",
      "2020-07-20 18:18:07,841 : INFO : EPOCH 15 - PROGRESS: at 11.51% examples, 307462 words/s, in_qsize 13, out_qsize 7\n",
      "2020-07-20 18:18:08,885 : INFO : EPOCH 15 - PROGRESS: at 16.16% examples, 322461 words/s, in_qsize 14, out_qsize 2\n",
      "2020-07-20 18:18:09,903 : INFO : EPOCH 15 - PROGRESS: at 20.49% examples, 327936 words/s, in_qsize 15, out_qsize 2\n",
      "2020-07-20 18:18:10,943 : INFO : EPOCH 15 - PROGRESS: at 23.63% examples, 314528 words/s, in_qsize 13, out_qsize 0\n",
      "2020-07-20 18:18:12,053 : INFO : EPOCH 15 - PROGRESS: at 27.21% examples, 306946 words/s, in_qsize 15, out_qsize 1\n",
      "2020-07-20 18:18:13,108 : INFO : EPOCH 15 - PROGRESS: at 31.10% examples, 306596 words/s, in_qsize 14, out_qsize 1\n",
      "2020-07-20 18:18:14,135 : INFO : EPOCH 15 - PROGRESS: at 35.10% examples, 308157 words/s, in_qsize 13, out_qsize 2\n",
      "2020-07-20 18:18:15,137 : INFO : EPOCH 15 - PROGRESS: at 39.54% examples, 313564 words/s, in_qsize 14, out_qsize 0\n",
      "2020-07-20 18:18:16,183 : INFO : EPOCH 15 - PROGRESS: at 43.43% examples, 312926 words/s, in_qsize 14, out_qsize 2\n",
      "2020-07-20 18:18:17,210 : INFO : EPOCH 15 - PROGRESS: at 47.97% examples, 317186 words/s, in_qsize 15, out_qsize 0\n",
      "2020-07-20 18:18:18,214 : INFO : EPOCH 15 - PROGRESS: at 52.18% examples, 319357 words/s, in_qsize 16, out_qsize 0\n",
      "2020-07-20 18:18:19,252 : INFO : EPOCH 15 - PROGRESS: at 55.97% examples, 318296 words/s, in_qsize 15, out_qsize 2\n",
      "2020-07-20 18:18:20,252 : INFO : EPOCH 15 - PROGRESS: at 58.69% examples, 311847 words/s, in_qsize 15, out_qsize 6\n",
      "2020-07-20 18:18:21,257 : INFO : EPOCH 15 - PROGRESS: at 62.68% examples, 312830 words/s, in_qsize 15, out_qsize 0\n",
      "2020-07-20 18:18:22,330 : INFO : EPOCH 15 - PROGRESS: at 66.15% examples, 309930 words/s, in_qsize 14, out_qsize 1\n",
      "2020-07-20 18:18:23,364 : INFO : EPOCH 15 - PROGRESS: at 69.61% examples, 308036 words/s, in_qsize 14, out_qsize 1\n",
      "2020-07-20 18:18:24,370 : INFO : EPOCH 15 - PROGRESS: at 73.52% examples, 308561 words/s, in_qsize 16, out_qsize 0\n",
      "2020-07-20 18:18:25,375 : INFO : EPOCH 15 - PROGRESS: at 77.85% examples, 310797 words/s, in_qsize 15, out_qsize 0\n",
      "2020-07-20 18:18:26,422 : INFO : EPOCH 15 - PROGRESS: at 81.99% examples, 311404 words/s, in_qsize 14, out_qsize 1\n",
      "2020-07-20 18:18:27,437 : INFO : EPOCH 15 - PROGRESS: at 86.21% examples, 312776 words/s, in_qsize 14, out_qsize 0\n",
      "2020-07-20 18:18:28,445 : INFO : EPOCH 15 - PROGRESS: at 90.32% examples, 313762 words/s, in_qsize 13, out_qsize 1\n",
      "2020-07-20 18:18:29,554 : INFO : EPOCH 15 - PROGRESS: at 94.69% examples, 314073 words/s, in_qsize 15, out_qsize 0\n",
      "2020-07-20 18:18:30,579 : INFO : EPOCH 15 - PROGRESS: at 99.24% examples, 316138 words/s, in_qsize 7, out_qsize 1\n",
      "2020-07-20 18:18:30,583 : INFO : worker thread finished; awaiting finish of 7 more threads\n",
      "2020-07-20 18:18:30,613 : INFO : worker thread finished; awaiting finish of 6 more threads\n",
      "2020-07-20 18:18:30,645 : INFO : worker thread finished; awaiting finish of 5 more threads\n",
      "2020-07-20 18:18:30,654 : INFO : worker thread finished; awaiting finish of 4 more threads\n",
      "2020-07-20 18:18:30,669 : INFO : worker thread finished; awaiting finish of 3 more threads\n",
      "2020-07-20 18:18:30,680 : INFO : worker thread finished; awaiting finish of 2 more threads\n",
      "2020-07-20 18:18:30,691 : INFO : worker thread finished; awaiting finish of 1 more threads\n",
      "2020-07-20 18:18:30,698 : INFO : worker thread finished; awaiting finish of 0 more threads\n",
      "2020-07-20 18:18:30,699 : INFO : EPOCH - 15 : training on 9227204 raw words (8221558 effective words) took 25.9s, 317082 effective words/s\n",
      "2020-07-20 18:18:31,730 : INFO : EPOCH 16 - PROGRESS: at 3.36% examples, 270553 words/s, in_qsize 16, out_qsize 1\n",
      "2020-07-20 18:18:32,780 : INFO : EPOCH 16 - PROGRESS: at 6.74% examples, 272068 words/s, in_qsize 16, out_qsize 2\n",
      "2020-07-20 18:18:33,768 : INFO : EPOCH 16 - PROGRESS: at 9.88% examples, 265170 words/s, in_qsize 14, out_qsize 0\n",
      "2020-07-20 18:18:34,787 : INFO : EPOCH 16 - PROGRESS: at 13.68% examples, 275323 words/s, in_qsize 15, out_qsize 0\n",
      "2020-07-20 18:18:35,833 : INFO : EPOCH 16 - PROGRESS: at 18.11% examples, 290283 words/s, in_qsize 15, out_qsize 0\n",
      "2020-07-20 18:18:36,865 : INFO : EPOCH 16 - PROGRESS: at 22.22% examples, 296640 words/s, in_qsize 15, out_qsize 0\n"
     ]
    },
    {
     "name": "stderr",
     "output_type": "stream",
     "text": [
      "2020-07-20 18:18:37,937 : INFO : EPOCH 16 - PROGRESS: at 26.23% examples, 298276 words/s, in_qsize 15, out_qsize 0\n",
      "2020-07-20 18:18:38,973 : INFO : EPOCH 16 - PROGRESS: at 30.78% examples, 306194 words/s, in_qsize 15, out_qsize 0\n",
      "2020-07-20 18:18:40,008 : INFO : EPOCH 16 - PROGRESS: at 34.78% examples, 307511 words/s, in_qsize 15, out_qsize 0\n",
      "2020-07-20 18:18:41,022 : INFO : EPOCH 16 - PROGRESS: at 39.00% examples, 310983 words/s, in_qsize 15, out_qsize 0\n",
      "2020-07-20 18:18:42,061 : INFO : EPOCH 16 - PROGRESS: at 43.10% examples, 312342 words/s, in_qsize 16, out_qsize 0\n",
      "2020-07-20 18:18:43,105 : INFO : EPOCH 16 - PROGRESS: at 47.21% examples, 313329 words/s, in_qsize 13, out_qsize 0\n",
      "2020-07-20 18:18:44,109 : INFO : EPOCH 16 - PROGRESS: at 50.45% examples, 309810 words/s, in_qsize 14, out_qsize 1\n",
      "2020-07-20 18:18:45,186 : INFO : EPOCH 16 - PROGRESS: at 53.92% examples, 306479 words/s, in_qsize 15, out_qsize 0\n",
      "2020-07-20 18:18:46,189 : INFO : EPOCH 16 - PROGRESS: at 57.16% examples, 303895 words/s, in_qsize 15, out_qsize 0\n",
      "2020-07-20 18:18:47,202 : INFO : EPOCH 16 - PROGRESS: at 61.60% examples, 307383 words/s, in_qsize 15, out_qsize 0\n",
      "2020-07-20 18:18:48,310 : INFO : EPOCH 16 - PROGRESS: at 64.73% examples, 302717 words/s, in_qsize 16, out_qsize 0\n",
      "2020-07-20 18:18:49,342 : INFO : EPOCH 16 - PROGRESS: at 67.99% examples, 300277 words/s, in_qsize 15, out_qsize 0\n",
      "2020-07-20 18:18:50,396 : INFO : EPOCH 16 - PROGRESS: at 72.42% examples, 302745 words/s, in_qsize 15, out_qsize 1\n",
      "2020-07-20 18:18:51,452 : INFO : EPOCH 16 - PROGRESS: at 75.02% examples, 297642 words/s, in_qsize 13, out_qsize 2\n",
      "2020-07-20 18:18:52,534 : INFO : EPOCH 16 - PROGRESS: at 78.73% examples, 296746 words/s, in_qsize 15, out_qsize 2\n",
      "2020-07-20 18:18:53,576 : INFO : EPOCH 16 - PROGRESS: at 81.67% examples, 293739 words/s, in_qsize 12, out_qsize 2\n",
      "2020-07-20 18:18:54,683 : INFO : EPOCH 16 - PROGRESS: at 85.23% examples, 292437 words/s, in_qsize 13, out_qsize 3\n",
      "2020-07-20 18:18:55,735 : INFO : EPOCH 16 - PROGRESS: at 88.80% examples, 292467 words/s, in_qsize 15, out_qsize 0\n",
      "2020-07-20 18:18:56,743 : INFO : EPOCH 16 - PROGRESS: at 91.63% examples, 289454 words/s, in_qsize 15, out_qsize 0\n",
      "2020-07-20 18:18:57,769 : INFO : EPOCH 16 - PROGRESS: at 95.67% examples, 290653 words/s, in_qsize 15, out_qsize 1\n",
      "2020-07-20 18:18:58,659 : INFO : worker thread finished; awaiting finish of 7 more threads\n",
      "2020-07-20 18:18:58,665 : INFO : worker thread finished; awaiting finish of 6 more threads\n",
      "2020-07-20 18:18:58,680 : INFO : worker thread finished; awaiting finish of 5 more threads\n",
      "2020-07-20 18:18:58,713 : INFO : worker thread finished; awaiting finish of 4 more threads\n",
      "2020-07-20 18:18:58,722 : INFO : worker thread finished; awaiting finish of 3 more threads\n",
      "2020-07-20 18:18:58,736 : INFO : worker thread finished; awaiting finish of 2 more threads\n",
      "2020-07-20 18:18:58,741 : INFO : worker thread finished; awaiting finish of 1 more threads\n",
      "2020-07-20 18:18:58,749 : INFO : worker thread finished; awaiting finish of 0 more threads\n",
      "2020-07-20 18:18:58,750 : INFO : EPOCH - 16 : training on 9227204 raw words (8222379 effective words) took 28.0s, 293237 effective words/s\n",
      "2020-07-20 18:18:59,871 : INFO : EPOCH 17 - PROGRESS: at 3.69% examples, 273167 words/s, in_qsize 16, out_qsize 1\n",
      "2020-07-20 18:19:00,975 : INFO : EPOCH 17 - PROGRESS: at 8.25% examples, 305905 words/s, in_qsize 15, out_qsize 0\n",
      "2020-07-20 18:19:02,042 : INFO : EPOCH 17 - PROGRESS: at 12.71% examples, 317777 words/s, in_qsize 15, out_qsize 0\n",
      "2020-07-20 18:19:03,048 : INFO : EPOCH 17 - PROGRESS: at 17.35% examples, 332398 words/s, in_qsize 16, out_qsize 0\n",
      "2020-07-20 18:19:04,108 : INFO : EPOCH 17 - PROGRESS: at 21.13% examples, 325839 words/s, in_qsize 13, out_qsize 5\n",
      "2020-07-20 18:19:05,239 : INFO : EPOCH 17 - PROGRESS: at 25.70% examples, 325880 words/s, in_qsize 15, out_qsize 2\n",
      "2020-07-20 18:19:06,283 : INFO : EPOCH 17 - PROGRESS: at 28.94% examples, 316182 words/s, in_qsize 15, out_qsize 2\n",
      "2020-07-20 18:19:07,294 : INFO : EPOCH 17 - PROGRESS: at 32.08% examples, 308983 words/s, in_qsize 13, out_qsize 1\n",
      "2020-07-20 18:19:08,298 : INFO : EPOCH 17 - PROGRESS: at 35.54% examples, 306368 words/s, in_qsize 16, out_qsize 1\n",
      "2020-07-20 18:19:09,313 : INFO : EPOCH 17 - PROGRESS: at 39.22% examples, 305577 words/s, in_qsize 15, out_qsize 0\n",
      "2020-07-20 18:19:10,320 : INFO : EPOCH 17 - PROGRESS: at 43.65% examples, 310548 words/s, in_qsize 14, out_qsize 0\n",
      "2020-07-20 18:19:11,350 : INFO : EPOCH 17 - PROGRESS: at 47.54% examples, 310619 words/s, in_qsize 16, out_qsize 0\n",
      "2020-07-20 18:19:12,475 : INFO : EPOCH 17 - PROGRESS: at 52.07% examples, 312432 words/s, in_qsize 13, out_qsize 2\n",
      "2020-07-20 18:19:13,476 : INFO : EPOCH 17 - PROGRESS: at 56.40% examples, 315405 words/s, in_qsize 15, out_qsize 1\n",
      "2020-07-20 18:19:14,571 : INFO : EPOCH 17 - PROGRESS: at 60.74% examples, 316111 words/s, in_qsize 15, out_qsize 0\n",
      "2020-07-20 18:19:15,622 : INFO : EPOCH 17 - PROGRESS: at 65.28% examples, 318588 words/s, in_qsize 15, out_qsize 0\n",
      "2020-07-20 18:19:16,650 : INFO : EPOCH 17 - PROGRESS: at 68.64% examples, 315728 words/s, in_qsize 16, out_qsize 1\n",
      "2020-07-20 18:19:17,654 : INFO : EPOCH 17 - PROGRESS: at 71.99% examples, 313554 words/s, in_qsize 14, out_qsize 3\n",
      "2020-07-20 18:19:18,667 : INFO : EPOCH 17 - PROGRESS: at 75.24% examples, 311008 words/s, in_qsize 11, out_qsize 2\n",
      "2020-07-20 18:19:19,690 : INFO : EPOCH 17 - PROGRESS: at 79.38% examples, 311987 words/s, in_qsize 15, out_qsize 2\n",
      "2020-07-20 18:19:20,691 : INFO : EPOCH 17 - PROGRESS: at 83.62% examples, 313603 words/s, in_qsize 13, out_qsize 1\n",
      "2020-07-20 18:19:21,703 : INFO : EPOCH 17 - PROGRESS: at 87.72% examples, 314509 words/s, in_qsize 14, out_qsize 1\n",
      "2020-07-20 18:19:22,704 : INFO : EPOCH 17 - PROGRESS: at 90.87% examples, 312157 words/s, in_qsize 12, out_qsize 5\n",
      "2020-07-20 18:19:23,709 : INFO : EPOCH 17 - PROGRESS: at 95.12% examples, 313484 words/s, in_qsize 15, out_qsize 0\n",
      "2020-07-20 18:19:24,704 : INFO : worker thread finished; awaiting finish of 7 more threads\n",
      "2020-07-20 18:19:24,714 : INFO : EPOCH 17 - PROGRESS: at 99.34% examples, 314779 words/s, in_qsize 6, out_qsize 1\n",
      "2020-07-20 18:19:24,715 : INFO : worker thread finished; awaiting finish of 6 more threads\n",
      "2020-07-20 18:19:24,750 : INFO : worker thread finished; awaiting finish of 5 more threads\n",
      "2020-07-20 18:19:24,764 : INFO : worker thread finished; awaiting finish of 4 more threads\n",
      "2020-07-20 18:19:24,777 : INFO : worker thread finished; awaiting finish of 3 more threads\n",
      "2020-07-20 18:19:24,780 : INFO : worker thread finished; awaiting finish of 2 more threads\n",
      "2020-07-20 18:19:24,789 : INFO : worker thread finished; awaiting finish of 1 more threads\n",
      "2020-07-20 18:19:24,796 : INFO : worker thread finished; awaiting finish of 0 more threads\n",
      "2020-07-20 18:19:24,797 : INFO : EPOCH - 17 : training on 9227204 raw words (8222623 effective words) took 26.0s, 315831 effective words/s\n",
      "2020-07-20 18:19:25,829 : INFO : EPOCH 18 - PROGRESS: at 3.69% examples, 296656 words/s, in_qsize 15, out_qsize 0\n",
      "2020-07-20 18:19:26,833 : INFO : EPOCH 18 - PROGRESS: at 8.04% examples, 325442 words/s, in_qsize 14, out_qsize 1\n",
      "2020-07-20 18:19:27,863 : INFO : EPOCH 18 - PROGRESS: at 11.19% examples, 300474 words/s, in_qsize 14, out_qsize 1\n",
      "2020-07-20 18:19:28,867 : INFO : EPOCH 18 - PROGRESS: at 14.54% examples, 294064 words/s, in_qsize 14, out_qsize 2\n",
      "2020-07-20 18:19:30,003 : INFO : EPOCH 18 - PROGRESS: at 17.68% examples, 279464 words/s, in_qsize 15, out_qsize 0\n",
      "2020-07-20 18:19:31,029 : INFO : EPOCH 18 - PROGRESS: at 21.79% examples, 287785 words/s, in_qsize 13, out_qsize 2\n",
      "2020-07-20 18:19:32,061 : INFO : EPOCH 18 - PROGRESS: at 25.80% examples, 292338 words/s, in_qsize 12, out_qsize 3\n",
      "2020-07-20 18:19:33,174 : INFO : EPOCH 18 - PROGRESS: at 30.46% examples, 299225 words/s, in_qsize 15, out_qsize 0\n",
      "2020-07-20 18:19:34,180 : INFO : EPOCH 18 - PROGRESS: at 35.00% examples, 307034 words/s, in_qsize 15, out_qsize 0\n",
      "2020-07-20 18:19:35,224 : INFO : EPOCH 18 - PROGRESS: at 39.00% examples, 307885 words/s, in_qsize 15, out_qsize 0\n",
      "2020-07-20 18:19:36,289 : INFO : EPOCH 18 - PROGRESS: at 43.64% examples, 312714 words/s, in_qsize 15, out_qsize 0\n",
      "2020-07-20 18:19:37,293 : INFO : EPOCH 18 - PROGRESS: at 47.65% examples, 313964 words/s, in_qsize 13, out_qsize 4\n"
     ]
    },
    {
     "name": "stderr",
     "output_type": "stream",
     "text": [
      "2020-07-20 18:19:38,308 : INFO : EPOCH 18 - PROGRESS: at 51.75% examples, 315445 words/s, in_qsize 10, out_qsize 2\n",
      "2020-07-20 18:19:39,376 : INFO : EPOCH 18 - PROGRESS: at 55.32% examples, 312528 words/s, in_qsize 15, out_qsize 0\n",
      "2020-07-20 18:19:40,596 : INFO : EPOCH 18 - PROGRESS: at 58.58% examples, 305315 words/s, in_qsize 11, out_qsize 6\n",
      "2020-07-20 18:19:41,679 : INFO : EPOCH 18 - PROGRESS: at 63.00% examples, 307371 words/s, in_qsize 15, out_qsize 0\n",
      "2020-07-20 18:19:42,684 : INFO : EPOCH 18 - PROGRESS: at 67.45% examples, 310500 words/s, in_qsize 14, out_qsize 0\n",
      "2020-07-20 18:19:43,769 : INFO : EPOCH 18 - PROGRESS: at 71.56% examples, 310588 words/s, in_qsize 14, out_qsize 2\n",
      "2020-07-20 18:19:44,793 : INFO : EPOCH 18 - PROGRESS: at 76.11% examples, 313396 words/s, in_qsize 16, out_qsize 1\n",
      "2020-07-20 18:19:45,799 : INFO : EPOCH 18 - PROGRESS: at 79.81% examples, 312786 words/s, in_qsize 13, out_qsize 5\n",
      "2020-07-20 18:19:46,842 : INFO : EPOCH 18 - PROGRESS: at 84.26% examples, 314574 words/s, in_qsize 15, out_qsize 0\n",
      "2020-07-20 18:19:48,045 : INFO : EPOCH 18 - PROGRESS: at 88.05% examples, 311689 words/s, in_qsize 16, out_qsize 0\n",
      "2020-07-20 18:19:49,106 : INFO : EPOCH 18 - PROGRESS: at 91.20% examples, 308681 words/s, in_qsize 15, out_qsize 2\n",
      "2020-07-20 18:19:50,207 : INFO : EPOCH 18 - PROGRESS: at 94.58% examples, 306170 words/s, in_qsize 15, out_qsize 0\n",
      "2020-07-20 18:19:51,235 : INFO : EPOCH 18 - PROGRESS: at 98.47% examples, 306391 words/s, in_qsize 15, out_qsize 0\n",
      "2020-07-20 18:19:51,590 : INFO : worker thread finished; awaiting finish of 7 more threads\n",
      "2020-07-20 18:19:51,593 : INFO : worker thread finished; awaiting finish of 6 more threads\n",
      "2020-07-20 18:19:51,617 : INFO : worker thread finished; awaiting finish of 5 more threads\n",
      "2020-07-20 18:19:51,623 : INFO : worker thread finished; awaiting finish of 4 more threads\n",
      "2020-07-20 18:19:51,631 : INFO : worker thread finished; awaiting finish of 3 more threads\n",
      "2020-07-20 18:19:51,634 : INFO : worker thread finished; awaiting finish of 2 more threads\n",
      "2020-07-20 18:19:51,659 : INFO : worker thread finished; awaiting finish of 1 more threads\n",
      "2020-07-20 18:19:51,672 : INFO : worker thread finished; awaiting finish of 0 more threads\n",
      "2020-07-20 18:19:51,675 : INFO : EPOCH - 18 : training on 9227204 raw words (8222963 effective words) took 26.9s, 306052 effective words/s\n",
      "2020-07-20 18:19:52,699 : INFO : EPOCH 19 - PROGRESS: at 2.71% examples, 220521 words/s, in_qsize 14, out_qsize 1\n",
      "2020-07-20 18:19:53,757 : INFO : EPOCH 19 - PROGRESS: at 6.29% examples, 249815 words/s, in_qsize 15, out_qsize 0\n",
      "2020-07-20 18:19:54,806 : INFO : EPOCH 19 - PROGRESS: at 8.26% examples, 217226 words/s, in_qsize 16, out_qsize 2\n",
      "2020-07-20 18:19:55,827 : INFO : EPOCH 19 - PROGRESS: at 12.17% examples, 241177 words/s, in_qsize 14, out_qsize 1\n",
      "2020-07-20 18:19:56,855 : INFO : EPOCH 19 - PROGRESS: at 16.27% examples, 258940 words/s, in_qsize 14, out_qsize 0\n",
      "2020-07-20 18:19:57,905 : INFO : EPOCH 19 - PROGRESS: at 20.48% examples, 270840 words/s, in_qsize 15, out_qsize 0\n",
      "2020-07-20 18:19:58,915 : INFO : EPOCH 19 - PROGRESS: at 24.28% examples, 276184 words/s, in_qsize 15, out_qsize 0\n",
      "2020-07-20 18:19:59,939 : INFO : EPOCH 19 - PROGRESS: at 27.96% examples, 278616 words/s, in_qsize 13, out_qsize 2\n",
      "2020-07-20 18:20:01,003 : INFO : EPOCH 19 - PROGRESS: at 31.32% examples, 276436 words/s, in_qsize 12, out_qsize 3\n",
      "2020-07-20 18:20:02,044 : INFO : EPOCH 19 - PROGRESS: at 34.78% examples, 276190 words/s, in_qsize 15, out_qsize 0\n",
      "2020-07-20 18:20:03,062 : INFO : EPOCH 19 - PROGRESS: at 38.25% examples, 276517 words/s, in_qsize 15, out_qsize 0\n",
      "2020-07-20 18:20:04,172 : INFO : EPOCH 19 - PROGRESS: at 42.57% examples, 280835 words/s, in_qsize 15, out_qsize 5\n",
      "2020-07-20 18:20:05,169 : INFO : EPOCH 19 - PROGRESS: at 46.99% examples, 286789 words/s, in_qsize 15, out_qsize 1\n",
      "2020-07-20 18:20:06,198 : INFO : EPOCH 19 - PROGRESS: at 50.89% examples, 288559 words/s, in_qsize 15, out_qsize 1\n",
      "2020-07-20 18:20:07,200 : INFO : EPOCH 19 - PROGRESS: at 54.99% examples, 291771 words/s, in_qsize 15, out_qsize 0\n",
      "2020-07-20 18:20:08,207 : INFO : EPOCH 19 - PROGRESS: at 59.44% examples, 296107 words/s, in_qsize 15, out_qsize 0\n",
      "2020-07-20 18:20:09,209 : INFO : EPOCH 19 - PROGRESS: at 63.54% examples, 298505 words/s, in_qsize 13, out_qsize 0\n",
      "2020-07-20 18:20:10,210 : INFO : EPOCH 19 - PROGRESS: at 67.23% examples, 298717 words/s, in_qsize 15, out_qsize 0\n",
      "2020-07-20 18:20:11,288 : INFO : EPOCH 19 - PROGRESS: at 71.45% examples, 300013 words/s, in_qsize 16, out_qsize 0\n",
      "2020-07-20 18:20:12,299 : INFO : EPOCH 19 - PROGRESS: at 74.92% examples, 299107 words/s, in_qsize 14, out_qsize 0\n",
      "2020-07-20 18:20:13,423 : INFO : EPOCH 19 - PROGRESS: at 78.51% examples, 297168 words/s, in_qsize 15, out_qsize 0\n",
      "2020-07-20 18:20:14,447 : INFO : EPOCH 19 - PROGRESS: at 81.99% examples, 296322 words/s, in_qsize 15, out_qsize 0\n",
      "2020-07-20 18:20:15,491 : INFO : EPOCH 19 - PROGRESS: at 86.64% examples, 299422 words/s, in_qsize 15, out_qsize 0\n",
      "2020-07-20 18:20:16,582 : INFO : EPOCH 19 - PROGRESS: at 90.76% examples, 299887 words/s, in_qsize 15, out_qsize 3\n",
      "2020-07-20 18:20:17,633 : INFO : EPOCH 19 - PROGRESS: at 95.12% examples, 301458 words/s, in_qsize 16, out_qsize 1\n",
      "2020-07-20 18:20:18,575 : INFO : worker thread finished; awaiting finish of 7 more threads\n",
      "2020-07-20 18:20:18,576 : INFO : worker thread finished; awaiting finish of 6 more threads\n",
      "2020-07-20 18:20:18,588 : INFO : worker thread finished; awaiting finish of 5 more threads\n",
      "2020-07-20 18:20:18,609 : INFO : worker thread finished; awaiting finish of 4 more threads\n",
      "2020-07-20 18:20:18,612 : INFO : worker thread finished; awaiting finish of 3 more threads\n",
      "2020-07-20 18:20:18,614 : INFO : worker thread finished; awaiting finish of 2 more threads\n",
      "2020-07-20 18:20:18,619 : INFO : worker thread finished; awaiting finish of 1 more threads\n",
      "2020-07-20 18:20:18,620 : INFO : worker thread finished; awaiting finish of 0 more threads\n",
      "2020-07-20 18:20:18,622 : INFO : EPOCH - 19 : training on 9227204 raw words (8222929 effective words) took 26.9s, 305322 effective words/s\n",
      "2020-07-20 18:20:19,640 : INFO : EPOCH 20 - PROGRESS: at 3.80% examples, 309827 words/s, in_qsize 15, out_qsize 0\n",
      "2020-07-20 18:20:20,654 : INFO : EPOCH 20 - PROGRESS: at 7.82% examples, 317455 words/s, in_qsize 12, out_qsize 3\n",
      "2020-07-20 18:20:21,697 : INFO : EPOCH 20 - PROGRESS: at 11.95% examples, 319964 words/s, in_qsize 15, out_qsize 0\n",
      "2020-07-20 18:20:22,728 : INFO : EPOCH 20 - PROGRESS: at 15.73% examples, 315436 words/s, in_qsize 14, out_qsize 1\n",
      "2020-07-20 18:20:23,770 : INFO : EPOCH 20 - PROGRESS: at 19.51% examples, 314001 words/s, in_qsize 14, out_qsize 1\n",
      "2020-07-20 18:20:24,806 : INFO : EPOCH 20 - PROGRESS: at 21.90% examples, 291506 words/s, in_qsize 15, out_qsize 0\n",
      "2020-07-20 18:20:25,828 : INFO : EPOCH 20 - PROGRESS: at 26.02% examples, 297171 words/s, in_qsize 13, out_qsize 0\n",
      "2020-07-20 18:20:26,833 : INFO : EPOCH 20 - PROGRESS: at 29.16% examples, 292252 words/s, in_qsize 14, out_qsize 0\n",
      "2020-07-20 18:20:27,881 : INFO : EPOCH 20 - PROGRESS: at 33.06% examples, 293786 words/s, in_qsize 15, out_qsize 0\n",
      "2020-07-20 18:20:28,923 : INFO : EPOCH 20 - PROGRESS: at 37.27% examples, 297807 words/s, in_qsize 15, out_qsize 2\n",
      "2020-07-20 18:20:29,966 : INFO : EPOCH 20 - PROGRESS: at 41.26% examples, 299494 words/s, in_qsize 15, out_qsize 1\n",
      "2020-07-20 18:20:30,978 : INFO : EPOCH 20 - PROGRESS: at 45.37% examples, 302348 words/s, in_qsize 16, out_qsize 0\n",
      "2020-07-20 18:20:31,996 : INFO : EPOCH 20 - PROGRESS: at 49.59% examples, 305354 words/s, in_qsize 14, out_qsize 0\n",
      "2020-07-20 18:20:33,005 : INFO : EPOCH 20 - PROGRESS: at 53.48% examples, 306231 words/s, in_qsize 13, out_qsize 0\n",
      "2020-07-20 18:20:34,038 : INFO : EPOCH 20 - PROGRESS: at 56.73% examples, 303058 words/s, in_qsize 15, out_qsize 0\n",
      "2020-07-20 18:20:35,238 : INFO : EPOCH 20 - PROGRESS: at 60.41% examples, 299409 words/s, in_qsize 15, out_qsize 0\n",
      "2020-07-20 18:20:36,281 : INFO : EPOCH 20 - PROGRESS: at 63.76% examples, 297368 words/s, in_qsize 15, out_qsize 1\n",
      "2020-07-20 18:20:37,281 : INFO : EPOCH 20 - PROGRESS: at 68.10% examples, 300517 words/s, in_qsize 15, out_qsize 0\n",
      "2020-07-20 18:20:38,290 : INFO : EPOCH 20 - PROGRESS: at 72.21% examples, 302310 words/s, in_qsize 16, out_qsize 2\n"
     ]
    },
    {
     "name": "stderr",
     "output_type": "stream",
     "text": [
      "2020-07-20 18:20:39,291 : INFO : EPOCH 20 - PROGRESS: at 76.00% examples, 302753 words/s, in_qsize 14, out_qsize 1\n",
      "2020-07-20 18:20:40,319 : INFO : EPOCH 20 - PROGRESS: at 80.03% examples, 303600 words/s, in_qsize 15, out_qsize 1\n",
      "2020-07-20 18:20:41,333 : INFO : EPOCH 20 - PROGRESS: at 84.26% examples, 305348 words/s, in_qsize 13, out_qsize 2\n",
      "2020-07-20 18:20:42,375 : INFO : EPOCH 20 - PROGRESS: at 88.59% examples, 306935 words/s, in_qsize 16, out_qsize 0\n",
      "2020-07-20 18:20:43,402 : INFO : EPOCH 20 - PROGRESS: at 92.83% examples, 308474 words/s, in_qsize 12, out_qsize 2\n",
      "2020-07-20 18:20:44,498 : INFO : EPOCH 20 - PROGRESS: at 96.96% examples, 308242 words/s, in_qsize 13, out_qsize 0\n",
      "2020-07-20 18:20:45,174 : INFO : worker thread finished; awaiting finish of 7 more threads\n",
      "2020-07-20 18:20:45,179 : INFO : worker thread finished; awaiting finish of 6 more threads\n",
      "2020-07-20 18:20:45,228 : INFO : worker thread finished; awaiting finish of 5 more threads\n",
      "2020-07-20 18:20:45,234 : INFO : worker thread finished; awaiting finish of 4 more threads\n",
      "2020-07-20 18:20:45,272 : INFO : worker thread finished; awaiting finish of 3 more threads\n",
      "2020-07-20 18:20:45,284 : INFO : worker thread finished; awaiting finish of 2 more threads\n",
      "2020-07-20 18:20:45,290 : INFO : worker thread finished; awaiting finish of 1 more threads\n",
      "2020-07-20 18:20:45,304 : INFO : worker thread finished; awaiting finish of 0 more threads\n",
      "2020-07-20 18:20:45,307 : INFO : EPOCH - 20 : training on 9227204 raw words (8222910 effective words) took 26.7s, 308290 effective words/s\n",
      "2020-07-20 18:20:46,362 : INFO : EPOCH 21 - PROGRESS: at 2.60% examples, 205585 words/s, in_qsize 9, out_qsize 2\n",
      "2020-07-20 18:20:47,384 : INFO : EPOCH 21 - PROGRESS: at 6.19% examples, 246138 words/s, in_qsize 15, out_qsize 0\n",
      "2020-07-20 18:20:48,438 : INFO : EPOCH 21 - PROGRESS: at 8.58% examples, 225817 words/s, in_qsize 14, out_qsize 1\n",
      "2020-07-20 18:20:49,482 : INFO : EPOCH 21 - PROGRESS: at 12.38% examples, 244199 words/s, in_qsize 15, out_qsize 0\n",
      "2020-07-20 18:20:50,570 : INFO : EPOCH 21 - PROGRESS: at 16.59% examples, 259700 words/s, in_qsize 14, out_qsize 3\n",
      "2020-07-20 18:20:51,608 : INFO : EPOCH 21 - PROGRESS: at 20.81% examples, 272095 words/s, in_qsize 14, out_qsize 1\n",
      "2020-07-20 18:20:52,654 : INFO : EPOCH 21 - PROGRESS: at 24.94% examples, 279478 words/s, in_qsize 16, out_qsize 1\n",
      "2020-07-20 18:20:53,715 : INFO : EPOCH 21 - PROGRESS: at 27.96% examples, 273882 words/s, in_qsize 15, out_qsize 0\n",
      "2020-07-20 18:20:54,737 : INFO : EPOCH 21 - PROGRESS: at 31.32% examples, 273477 words/s, in_qsize 14, out_qsize 1\n",
      "2020-07-20 18:20:55,796 : INFO : EPOCH 21 - PROGRESS: at 35.00% examples, 274720 words/s, in_qsize 15, out_qsize 0\n",
      "2020-07-20 18:20:56,902 : INFO : EPOCH 21 - PROGRESS: at 38.57% examples, 273848 words/s, in_qsize 15, out_qsize 0\n",
      "2020-07-20 18:20:57,931 : INFO : EPOCH 21 - PROGRESS: at 40.94% examples, 267056 words/s, in_qsize 13, out_qsize 2\n",
      "2020-07-20 18:20:58,967 : INFO : EPOCH 21 - PROGRESS: at 44.18% examples, 266387 words/s, in_qsize 13, out_qsize 6\n",
      "2020-07-20 18:20:59,969 : INFO : EPOCH 21 - PROGRESS: at 48.30% examples, 271265 words/s, in_qsize 12, out_qsize 0\n",
      "2020-07-20 18:21:00,981 : INFO : EPOCH 21 - PROGRESS: at 52.62% examples, 276513 words/s, in_qsize 16, out_qsize 0\n",
      "2020-07-20 18:21:02,017 : INFO : EPOCH 21 - PROGRESS: at 56.40% examples, 278042 words/s, in_qsize 16, out_qsize 0\n",
      "2020-07-20 18:21:03,023 : INFO : EPOCH 21 - PROGRESS: at 60.74% examples, 282367 words/s, in_qsize 15, out_qsize 0\n",
      "2020-07-20 18:21:04,065 : INFO : EPOCH 21 - PROGRESS: at 65.06% examples, 285675 words/s, in_qsize 16, out_qsize 0\n",
      "2020-07-20 18:21:05,068 : INFO : EPOCH 21 - PROGRESS: at 69.07% examples, 287855 words/s, in_qsize 15, out_qsize 2\n",
      "2020-07-20 18:21:06,109 : INFO : EPOCH 21 - PROGRESS: at 73.62% examples, 291421 words/s, in_qsize 15, out_qsize 0\n",
      "2020-07-20 18:21:07,213 : INFO : EPOCH 21 - PROGRESS: at 76.88% examples, 288943 words/s, in_qsize 12, out_qsize 5\n",
      "2020-07-20 18:21:08,236 : INFO : EPOCH 21 - PROGRESS: at 80.68% examples, 289645 words/s, in_qsize 15, out_qsize 0\n",
      "2020-07-20 18:21:09,248 : INFO : EPOCH 21 - PROGRESS: at 83.72% examples, 287814 words/s, in_qsize 15, out_qsize 0\n",
      "2020-07-20 18:21:10,306 : INFO : EPOCH 21 - PROGRESS: at 88.05% examples, 289884 words/s, in_qsize 14, out_qsize 1\n",
      "2020-07-20 18:21:11,314 : INFO : EPOCH 21 - PROGRESS: at 92.07% examples, 291313 words/s, in_qsize 15, out_qsize 0\n",
      "2020-07-20 18:21:12,382 : INFO : EPOCH 21 - PROGRESS: at 96.53% examples, 293310 words/s, in_qsize 14, out_qsize 1\n",
      "2020-07-20 18:21:13,012 : INFO : worker thread finished; awaiting finish of 7 more threads\n",
      "2020-07-20 18:21:13,022 : INFO : worker thread finished; awaiting finish of 6 more threads\n",
      "2020-07-20 18:21:13,030 : INFO : worker thread finished; awaiting finish of 5 more threads\n",
      "2020-07-20 18:21:13,038 : INFO : worker thread finished; awaiting finish of 4 more threads\n",
      "2020-07-20 18:21:13,051 : INFO : worker thread finished; awaiting finish of 3 more threads\n",
      "2020-07-20 18:21:13,053 : INFO : worker thread finished; awaiting finish of 2 more threads\n",
      "2020-07-20 18:21:13,054 : INFO : worker thread finished; awaiting finish of 1 more threads\n",
      "2020-07-20 18:21:13,076 : INFO : worker thread finished; awaiting finish of 0 more threads\n",
      "2020-07-20 18:21:13,077 : INFO : EPOCH - 21 : training on 9227204 raw words (8222979 effective words) took 27.8s, 296276 effective words/s\n",
      "2020-07-20 18:21:14,089 : INFO : EPOCH 22 - PROGRESS: at 3.69% examples, 302353 words/s, in_qsize 15, out_qsize 0\n",
      "2020-07-20 18:21:15,101 : INFO : EPOCH 22 - PROGRESS: at 7.82% examples, 318507 words/s, in_qsize 15, out_qsize 0\n",
      "2020-07-20 18:21:16,132 : INFO : EPOCH 22 - PROGRESS: at 12.06% examples, 324792 words/s, in_qsize 15, out_qsize 0\n",
      "2020-07-20 18:21:17,232 : INFO : EPOCH 22 - PROGRESS: at 16.27% examples, 322282 words/s, in_qsize 15, out_qsize 0\n",
      "2020-07-20 18:21:18,239 : INFO : EPOCH 22 - PROGRESS: at 19.84% examples, 316341 words/s, in_qsize 15, out_qsize 0\n",
      "2020-07-20 18:21:19,247 : INFO : EPOCH 22 - PROGRESS: at 23.42% examples, 312386 words/s, in_qsize 15, out_qsize 0\n",
      "2020-07-20 18:21:20,254 : INFO : EPOCH 22 - PROGRESS: at 26.34% examples, 301995 words/s, in_qsize 15, out_qsize 0\n",
      "2020-07-20 18:21:21,266 : INFO : EPOCH 22 - PROGRESS: at 30.24% examples, 303885 words/s, in_qsize 15, out_qsize 0\n",
      "2020-07-20 18:21:22,297 : INFO : EPOCH 22 - PROGRESS: at 34.35% examples, 306604 words/s, in_qsize 14, out_qsize 1\n",
      "2020-07-20 18:21:23,436 : INFO : EPOCH 22 - PROGRESS: at 38.89% examples, 309029 words/s, in_qsize 15, out_qsize 0\n",
      "2020-07-20 18:21:24,472 : INFO : EPOCH 22 - PROGRESS: at 43.43% examples, 314705 words/s, in_qsize 16, out_qsize 1\n",
      "2020-07-20 18:21:25,482 : INFO : EPOCH 22 - PROGRESS: at 47.32% examples, 314042 words/s, in_qsize 15, out_qsize 0\n",
      "2020-07-20 18:21:26,503 : INFO : EPOCH 22 - PROGRESS: at 51.42% examples, 315396 words/s, in_qsize 13, out_qsize 4\n",
      "2020-07-20 18:21:27,524 : INFO : EPOCH 22 - PROGRESS: at 55.32% examples, 315331 words/s, in_qsize 15, out_qsize 0\n",
      "2020-07-20 18:21:28,527 : INFO : EPOCH 22 - PROGRESS: at 59.55% examples, 317380 words/s, in_qsize 10, out_qsize 3\n",
      "2020-07-20 18:21:29,725 : INFO : EPOCH 22 - PROGRESS: at 62.03% examples, 306831 words/s, in_qsize 16, out_qsize 0\n",
      "2020-07-20 18:21:30,820 : INFO : EPOCH 22 - PROGRESS: at 65.28% examples, 302928 words/s, in_qsize 11, out_qsize 4\n",
      "2020-07-20 18:21:31,823 : INFO : EPOCH 22 - PROGRESS: at 69.07% examples, 303374 words/s, in_qsize 13, out_qsize 0\n",
      "2020-07-20 18:21:32,987 : INFO : EPOCH 22 - PROGRESS: at 73.30% examples, 303250 words/s, in_qsize 15, out_qsize 2\n",
      "2020-07-20 18:21:34,022 : INFO : EPOCH 22 - PROGRESS: at 77.63% examples, 305112 words/s, in_qsize 15, out_qsize 0\n",
      "2020-07-20 18:21:35,066 : INFO : EPOCH 22 - PROGRESS: at 81.99% examples, 306829 words/s, in_qsize 15, out_qsize 2\n",
      "2020-07-20 18:21:36,082 : INFO : EPOCH 22 - PROGRESS: at 86.75% examples, 310307 words/s, in_qsize 15, out_qsize 0\n",
      "2020-07-20 18:21:37,104 : INFO : EPOCH 22 - PROGRESS: at 91.09% examples, 311924 words/s, in_qsize 15, out_qsize 0\n",
      "2020-07-20 18:21:38,123 : INFO : EPOCH 22 - PROGRESS: at 95.34% examples, 313095 words/s, in_qsize 16, out_qsize 1\n",
      "2020-07-20 18:21:39,048 : INFO : worker thread finished; awaiting finish of 7 more threads\n"
     ]
    },
    {
     "name": "stderr",
     "output_type": "stream",
     "text": [
      "2020-07-20 18:21:39,065 : INFO : worker thread finished; awaiting finish of 6 more threads\n",
      "2020-07-20 18:21:39,082 : INFO : worker thread finished; awaiting finish of 5 more threads\n",
      "2020-07-20 18:21:39,121 : INFO : worker thread finished; awaiting finish of 4 more threads\n",
      "2020-07-20 18:21:39,123 : INFO : worker thread finished; awaiting finish of 3 more threads\n",
      "2020-07-20 18:21:39,125 : INFO : EPOCH 22 - PROGRESS: at 99.78% examples, 315123 words/s, in_qsize 2, out_qsize 1\n",
      "2020-07-20 18:21:39,126 : INFO : worker thread finished; awaiting finish of 2 more threads\n",
      "2020-07-20 18:21:39,137 : INFO : worker thread finished; awaiting finish of 1 more threads\n",
      "2020-07-20 18:21:39,144 : INFO : worker thread finished; awaiting finish of 0 more threads\n",
      "2020-07-20 18:21:39,145 : INFO : EPOCH - 22 : training on 9227204 raw words (8222754 effective words) took 26.1s, 315562 effective words/s\n",
      "2020-07-20 18:21:40,251 : INFO : EPOCH 23 - PROGRESS: at 3.14% examples, 242194 words/s, in_qsize 15, out_qsize 3\n",
      "2020-07-20 18:21:41,289 : INFO : EPOCH 23 - PROGRESS: at 6.84% examples, 263376 words/s, in_qsize 15, out_qsize 0\n",
      "2020-07-20 18:21:42,341 : INFO : EPOCH 23 - PROGRESS: at 10.10% examples, 260297 words/s, in_qsize 16, out_qsize 0\n",
      "2020-07-20 18:21:43,478 : INFO : EPOCH 23 - PROGRESS: at 14.65% examples, 278293 words/s, in_qsize 13, out_qsize 5\n",
      "2020-07-20 18:21:44,564 : INFO : EPOCH 23 - PROGRESS: at 19.08% examples, 289906 words/s, in_qsize 13, out_qsize 4\n",
      "2020-07-20 18:21:45,568 : INFO : EPOCH 23 - PROGRESS: at 23.74% examples, 304283 words/s, in_qsize 16, out_qsize 0\n",
      "2020-07-20 18:21:46,657 : INFO : EPOCH 23 - PROGRESS: at 27.75% examples, 304064 words/s, in_qsize 15, out_qsize 2\n",
      "2020-07-20 18:21:47,679 : INFO : EPOCH 23 - PROGRESS: at 32.19% examples, 310430 words/s, in_qsize 14, out_qsize 1\n",
      "2020-07-20 18:21:48,694 : INFO : EPOCH 23 - PROGRESS: at 34.35% examples, 296063 words/s, in_qsize 15, out_qsize 0\n",
      "2020-07-20 18:21:49,736 : INFO : EPOCH 23 - PROGRESS: at 38.46% examples, 298895 words/s, in_qsize 14, out_qsize 3\n",
      "2020-07-20 18:21:50,832 : INFO : EPOCH 23 - PROGRESS: at 42.57% examples, 300822 words/s, in_qsize 15, out_qsize 1\n",
      "2020-07-20 18:21:51,808 : INFO : EPOCH 23 - PROGRESS: at 46.02% examples, 299234 words/s, in_qsize 16, out_qsize 0\n",
      "2020-07-20 18:21:53,268 : INFO : EPOCH 23 - PROGRESS: at 48.51% examples, 282814 words/s, in_qsize 16, out_qsize 1\n",
      "2020-07-20 18:21:54,291 : INFO : EPOCH 23 - PROGRESS: at 52.62% examples, 286078 words/s, in_qsize 15, out_qsize 0\n",
      "2020-07-20 18:21:55,334 : INFO : EPOCH 23 - PROGRESS: at 56.40% examples, 286908 words/s, in_qsize 15, out_qsize 0\n",
      "2020-07-20 18:21:56,450 : INFO : EPOCH 23 - PROGRESS: at 60.63% examples, 289108 words/s, in_qsize 15, out_qsize 1\n",
      "2020-07-20 18:21:57,493 : INFO : EPOCH 23 - PROGRESS: at 64.73% examples, 290523 words/s, in_qsize 14, out_qsize 1\n",
      "2020-07-20 18:21:58,514 : INFO : EPOCH 23 - PROGRESS: at 68.75% examples, 292231 words/s, in_qsize 16, out_qsize 0\n",
      "2020-07-20 18:21:59,537 : INFO : EPOCH 23 - PROGRESS: at 72.43% examples, 292428 words/s, in_qsize 15, out_qsize 0\n",
      "2020-07-20 18:22:00,646 : INFO : EPOCH 23 - PROGRESS: at 76.22% examples, 291837 words/s, in_qsize 15, out_qsize 0\n",
      "2020-07-20 18:22:01,735 : INFO : EPOCH 23 - PROGRESS: at 79.05% examples, 288013 words/s, in_qsize 12, out_qsize 5\n",
      "2020-07-20 18:22:02,809 : INFO : EPOCH 23 - PROGRESS: at 82.53% examples, 286993 words/s, in_qsize 15, out_qsize 0\n",
      "2020-07-20 18:22:03,848 : INFO : EPOCH 23 - PROGRESS: at 86.21% examples, 287168 words/s, in_qsize 11, out_qsize 0\n",
      "2020-07-20 18:22:04,962 : INFO : EPOCH 23 - PROGRESS: at 90.44% examples, 288577 words/s, in_qsize 15, out_qsize 2\n",
      "2020-07-20 18:22:05,942 : INFO : EPOCH 23 - PROGRESS: at 94.58% examples, 290300 words/s, in_qsize 13, out_qsize 2\n",
      "2020-07-20 18:22:07,007 : INFO : EPOCH 23 - PROGRESS: at 99.00% examples, 292323 words/s, in_qsize 9, out_qsize 1\n",
      "2020-07-20 18:22:07,043 : INFO : worker thread finished; awaiting finish of 7 more threads\n",
      "2020-07-20 18:22:07,063 : INFO : worker thread finished; awaiting finish of 6 more threads\n",
      "2020-07-20 18:22:07,073 : INFO : worker thread finished; awaiting finish of 5 more threads\n",
      "2020-07-20 18:22:07,080 : INFO : worker thread finished; awaiting finish of 4 more threads\n",
      "2020-07-20 18:22:07,089 : INFO : worker thread finished; awaiting finish of 3 more threads\n",
      "2020-07-20 18:22:07,096 : INFO : worker thread finished; awaiting finish of 2 more threads\n",
      "2020-07-20 18:22:07,105 : INFO : worker thread finished; awaiting finish of 1 more threads\n",
      "2020-07-20 18:22:07,114 : INFO : worker thread finished; awaiting finish of 0 more threads\n",
      "2020-07-20 18:22:07,115 : INFO : EPOCH - 23 : training on 9227204 raw words (8222054 effective words) took 28.0s, 294095 effective words/s\n",
      "2020-07-20 18:22:08,146 : INFO : EPOCH 24 - PROGRESS: at 3.80% examples, 305831 words/s, in_qsize 15, out_qsize 0\n",
      "2020-07-20 18:22:09,300 : INFO : EPOCH 24 - PROGRESS: at 8.25% examples, 311376 words/s, in_qsize 15, out_qsize 0\n",
      "2020-07-20 18:22:10,301 : INFO : EPOCH 24 - PROGRESS: at 12.50% examples, 322693 words/s, in_qsize 13, out_qsize 3\n",
      "2020-07-20 18:22:11,335 : INFO : EPOCH 24 - PROGRESS: at 16.81% examples, 328030 words/s, in_qsize 12, out_qsize 3\n",
      "2020-07-20 18:22:12,386 : INFO : EPOCH 24 - PROGRESS: at 20.16% examples, 314960 words/s, in_qsize 16, out_qsize 0\n",
      "2020-07-20 18:22:13,428 : INFO : EPOCH 24 - PROGRESS: at 23.31% examples, 303905 words/s, in_qsize 15, out_qsize 1\n",
      "2020-07-20 18:22:14,430 : INFO : EPOCH 24 - PROGRESS: at 26.78% examples, 301239 words/s, in_qsize 16, out_qsize 0\n",
      "2020-07-20 18:22:15,436 : INFO : EPOCH 24 - PROGRESS: at 31.21% examples, 308700 words/s, in_qsize 15, out_qsize 0\n",
      "2020-07-20 18:22:16,471 : INFO : EPOCH 24 - PROGRESS: at 35.42% examples, 311658 words/s, in_qsize 15, out_qsize 1\n",
      "2020-07-20 18:22:17,537 : INFO : EPOCH 24 - PROGRESS: at 39.43% examples, 311411 words/s, in_qsize 15, out_qsize 0\n",
      "2020-07-20 18:22:18,594 : INFO : EPOCH 24 - PROGRESS: at 43.75% examples, 314559 words/s, in_qsize 15, out_qsize 2\n",
      "2020-07-20 18:22:19,679 : INFO : EPOCH 24 - PROGRESS: at 48.08% examples, 315039 words/s, in_qsize 12, out_qsize 4\n",
      "2020-07-20 18:22:20,715 : INFO : EPOCH 24 - PROGRESS: at 52.84% examples, 319883 words/s, in_qsize 16, out_qsize 0\n",
      "2020-07-20 18:22:21,720 : INFO : EPOCH 24 - PROGRESS: at 56.62% examples, 319228 words/s, in_qsize 11, out_qsize 4\n",
      "2020-07-20 18:22:22,731 : INFO : EPOCH 24 - PROGRESS: at 61.17% examples, 322526 words/s, in_qsize 15, out_qsize 0\n",
      "2020-07-20 18:22:23,740 : INFO : EPOCH 24 - PROGRESS: at 64.40% examples, 319007 words/s, in_qsize 16, out_qsize 1\n",
      "2020-07-20 18:22:24,752 : INFO : EPOCH 24 - PROGRESS: at 67.99% examples, 317366 words/s, in_qsize 12, out_qsize 0\n",
      "2020-07-20 18:22:25,899 : INFO : EPOCH 24 - PROGRESS: at 71.24% examples, 312329 words/s, in_qsize 15, out_qsize 1\n",
      "2020-07-20 18:22:26,905 : INFO : EPOCH 24 - PROGRESS: at 75.89% examples, 315696 words/s, in_qsize 15, out_qsize 0\n",
      "2020-07-20 18:22:27,970 : INFO : EPOCH 24 - PROGRESS: at 80.14% examples, 316246 words/s, in_qsize 15, out_qsize 0\n",
      "2020-07-20 18:22:28,989 : INFO : EPOCH 24 - PROGRESS: at 84.58% examples, 318204 words/s, in_qsize 16, out_qsize 1\n",
      "2020-07-20 18:22:30,025 : INFO : EPOCH 24 - PROGRESS: at 88.70% examples, 318579 words/s, in_qsize 16, out_qsize 0\n",
      "2020-07-20 18:22:31,036 : INFO : EPOCH 24 - PROGRESS: at 92.72% examples, 318875 words/s, in_qsize 13, out_qsize 2\n",
      "2020-07-20 18:22:32,064 : INFO : EPOCH 24 - PROGRESS: at 96.10% examples, 316794 words/s, in_qsize 15, out_qsize 0\n",
      "2020-07-20 18:22:32,845 : INFO : worker thread finished; awaiting finish of 7 more threads\n",
      "2020-07-20 18:22:32,856 : INFO : worker thread finished; awaiting finish of 6 more threads\n",
      "2020-07-20 18:22:32,897 : INFO : worker thread finished; awaiting finish of 5 more threads\n",
      "2020-07-20 18:22:32,902 : INFO : worker thread finished; awaiting finish of 4 more threads\n",
      "2020-07-20 18:22:32,926 : INFO : worker thread finished; awaiting finish of 3 more threads\n",
      "2020-07-20 18:22:32,946 : INFO : worker thread finished; awaiting finish of 2 more threads\n",
      "2020-07-20 18:22:32,968 : INFO : worker thread finished; awaiting finish of 1 more threads\n",
      "2020-07-20 18:22:32,972 : INFO : worker thread finished; awaiting finish of 0 more threads\n"
     ]
    },
    {
     "name": "stderr",
     "output_type": "stream",
     "text": [
      "2020-07-20 18:22:32,973 : INFO : EPOCH - 24 : training on 9227204 raw words (8222187 effective words) took 25.8s, 318107 effective words/s\n",
      "2020-07-20 18:22:33,984 : INFO : EPOCH 25 - PROGRESS: at 3.36% examples, 276124 words/s, in_qsize 15, out_qsize 0\n",
      "2020-07-20 18:22:35,010 : INFO : EPOCH 25 - PROGRESS: at 6.84% examples, 276877 words/s, in_qsize 14, out_qsize 1\n",
      "2020-07-20 18:22:36,036 : INFO : EPOCH 25 - PROGRESS: at 10.31% examples, 277308 words/s, in_qsize 16, out_qsize 0\n",
      "2020-07-20 18:22:37,166 : INFO : EPOCH 25 - PROGRESS: at 13.79% examples, 271587 words/s, in_qsize 15, out_qsize 2\n",
      "2020-07-20 18:22:38,173 : INFO : EPOCH 25 - PROGRESS: at 18.32% examples, 290007 words/s, in_qsize 15, out_qsize 0\n",
      "2020-07-20 18:22:39,208 : INFO : EPOCH 25 - PROGRESS: at 22.22% examples, 293297 words/s, in_qsize 11, out_qsize 4\n",
      "2020-07-20 18:22:40,272 : INFO : EPOCH 25 - PROGRESS: at 26.67% examples, 300619 words/s, in_qsize 15, out_qsize 0\n",
      "2020-07-20 18:22:41,283 : INFO : EPOCH 25 - PROGRESS: at 31.10% examples, 308024 words/s, in_qsize 15, out_qsize 1\n",
      "2020-07-20 18:22:42,306 : INFO : EPOCH 25 - PROGRESS: at 35.42% examples, 312398 words/s, in_qsize 14, out_qsize 0\n",
      "2020-07-20 18:22:43,322 : INFO : EPOCH 25 - PROGRESS: at 39.54% examples, 314430 words/s, in_qsize 14, out_qsize 0\n",
      "2020-07-20 18:22:44,356 : INFO : EPOCH 25 - PROGRESS: at 43.43% examples, 314032 words/s, in_qsize 14, out_qsize 1\n",
      "2020-07-20 18:22:45,362 : INFO : EPOCH 25 - PROGRESS: at 46.67% examples, 310094 words/s, in_qsize 16, out_qsize 0\n",
      "2020-07-20 18:22:46,442 : INFO : EPOCH 25 - PROGRESS: at 50.35% examples, 307750 words/s, in_qsize 14, out_qsize 1\n",
      "2020-07-20 18:22:47,478 : INFO : EPOCH 25 - PROGRESS: at 52.84% examples, 299887 words/s, in_qsize 13, out_qsize 6\n",
      "2020-07-20 18:22:48,484 : INFO : EPOCH 25 - PROGRESS: at 55.75% examples, 295964 words/s, in_qsize 15, out_qsize 0\n",
      "2020-07-20 18:22:49,493 : INFO : EPOCH 25 - PROGRESS: at 59.44% examples, 296209 words/s, in_qsize 16, out_qsize 0\n",
      "2020-07-20 18:22:50,496 : INFO : EPOCH 25 - PROGRESS: at 63.65% examples, 299077 words/s, in_qsize 15, out_qsize 0\n",
      "2020-07-20 18:22:51,528 : INFO : EPOCH 25 - PROGRESS: at 65.93% examples, 292525 words/s, in_qsize 14, out_qsize 1\n",
      "2020-07-20 18:22:52,554 : INFO : EPOCH 25 - PROGRESS: at 69.61% examples, 292667 words/s, in_qsize 16, out_qsize 0\n",
      "2020-07-20 18:22:53,573 : INFO : EPOCH 25 - PROGRESS: at 73.73% examples, 294606 words/s, in_qsize 13, out_qsize 0\n",
      "2020-07-20 18:22:54,733 : INFO : EPOCH 25 - PROGRESS: at 77.85% examples, 294447 words/s, in_qsize 14, out_qsize 1\n",
      "2020-07-20 18:22:55,776 : INFO : EPOCH 25 - PROGRESS: at 81.99% examples, 295841 words/s, in_qsize 16, out_qsize 4\n",
      "2020-07-20 18:22:56,839 : INFO : EPOCH 25 - PROGRESS: at 85.13% examples, 293485 words/s, in_qsize 16, out_qsize 1\n",
      "2020-07-20 18:22:57,912 : INFO : EPOCH 25 - PROGRESS: at 88.59% examples, 292281 words/s, in_qsize 13, out_qsize 0\n",
      "2020-07-20 18:22:58,956 : INFO : EPOCH 25 - PROGRESS: at 91.74% examples, 290464 words/s, in_qsize 15, out_qsize 2\n",
      "2020-07-20 18:22:59,959 : INFO : EPOCH 25 - PROGRESS: at 95.34% examples, 290563 words/s, in_qsize 13, out_qsize 4\n",
      "2020-07-20 18:23:00,775 : INFO : worker thread finished; awaiting finish of 7 more threads\n",
      "2020-07-20 18:23:00,815 : INFO : worker thread finished; awaiting finish of 6 more threads\n",
      "2020-07-20 18:23:00,847 : INFO : worker thread finished; awaiting finish of 5 more threads\n",
      "2020-07-20 18:23:00,860 : INFO : worker thread finished; awaiting finish of 4 more threads\n",
      "2020-07-20 18:23:00,865 : INFO : worker thread finished; awaiting finish of 3 more threads\n",
      "2020-07-20 18:23:00,889 : INFO : worker thread finished; awaiting finish of 2 more threads\n",
      "2020-07-20 18:23:00,894 : INFO : worker thread finished; awaiting finish of 1 more threads\n",
      "2020-07-20 18:23:00,901 : INFO : worker thread finished; awaiting finish of 0 more threads\n",
      "2020-07-20 18:23:00,902 : INFO : EPOCH - 25 : training on 9227204 raw words (8222056 effective words) took 27.9s, 294508 effective words/s\n",
      "2020-07-20 18:23:01,976 : INFO : EPOCH 26 - PROGRESS: at 3.47% examples, 268143 words/s, in_qsize 15, out_qsize 0\n",
      "2020-07-20 18:23:02,991 : INFO : EPOCH 26 - PROGRESS: at 7.60% examples, 300052 words/s, in_qsize 14, out_qsize 0\n",
      "2020-07-20 18:23:03,999 : INFO : EPOCH 26 - PROGRESS: at 10.97% examples, 291640 words/s, in_qsize 14, out_qsize 0\n",
      "2020-07-20 18:23:05,004 : INFO : EPOCH 26 - PROGRESS: at 14.75% examples, 296127 words/s, in_qsize 15, out_qsize 0\n",
      "2020-07-20 18:23:06,017 : INFO : EPOCH 26 - PROGRESS: at 19.19% examples, 308884 words/s, in_qsize 14, out_qsize 0\n",
      "2020-07-20 18:23:07,047 : INFO : EPOCH 26 - PROGRESS: at 23.20% examples, 310789 words/s, in_qsize 16, out_qsize 0\n",
      "2020-07-20 18:23:08,054 : INFO : EPOCH 26 - PROGRESS: at 26.56% examples, 305652 words/s, in_qsize 15, out_qsize 0\n",
      "2020-07-20 18:23:09,204 : INFO : EPOCH 26 - PROGRESS: at 30.13% examples, 298736 words/s, in_qsize 15, out_qsize 0\n",
      "2020-07-20 18:23:10,217 : INFO : EPOCH 26 - PROGRESS: at 34.02% examples, 300664 words/s, in_qsize 16, out_qsize 0\n",
      "2020-07-20 18:23:11,235 : INFO : EPOCH 26 - PROGRESS: at 38.03% examples, 302934 words/s, in_qsize 15, out_qsize 0\n",
      "2020-07-20 18:23:12,301 : INFO : EPOCH 26 - PROGRESS: at 41.91% examples, 303251 words/s, in_qsize 14, out_qsize 5\n",
      "2020-07-20 18:23:13,291 : INFO : EPOCH 26 - PROGRESS: at 46.35% examples, 308038 words/s, in_qsize 12, out_qsize 3\n",
      "2020-07-20 18:23:14,296 : INFO : EPOCH 26 - PROGRESS: at 50.35% examples, 309547 words/s, in_qsize 15, out_qsize 2\n",
      "2020-07-20 18:23:15,316 : INFO : EPOCH 26 - PROGRESS: at 54.67% examples, 312391 words/s, in_qsize 13, out_qsize 2\n",
      "2020-07-20 18:23:16,323 : INFO : EPOCH 26 - PROGRESS: at 59.34% examples, 316840 words/s, in_qsize 16, out_qsize 0\n",
      "2020-07-20 18:23:17,327 : INFO : EPOCH 26 - PROGRESS: at 63.43% examples, 318085 words/s, in_qsize 15, out_qsize 0\n",
      "2020-07-20 18:23:18,371 : INFO : EPOCH 26 - PROGRESS: at 67.34% examples, 317425 words/s, in_qsize 16, out_qsize 0\n",
      "2020-07-20 18:23:19,496 : INFO : EPOCH 26 - PROGRESS: at 70.48% examples, 312116 words/s, in_qsize 12, out_qsize 4\n",
      "2020-07-20 18:23:20,510 : INFO : EPOCH 26 - PROGRESS: at 74.27% examples, 311852 words/s, in_qsize 13, out_qsize 0\n",
      "2020-07-20 18:23:21,538 : INFO : EPOCH 26 - PROGRESS: at 78.40% examples, 312720 words/s, in_qsize 14, out_qsize 1\n",
      "2020-07-20 18:23:22,597 : INFO : EPOCH 26 - PROGRESS: at 82.64% examples, 313454 words/s, in_qsize 16, out_qsize 0\n",
      "2020-07-20 18:23:23,637 : INFO : EPOCH 26 - PROGRESS: at 86.74% examples, 314003 words/s, in_qsize 14, out_qsize 3\n",
      "2020-07-20 18:23:24,671 : INFO : EPOCH 26 - PROGRESS: at 91.31% examples, 316067 words/s, in_qsize 12, out_qsize 3\n",
      "2020-07-20 18:23:25,676 : INFO : EPOCH 26 - PROGRESS: at 95.77% examples, 317988 words/s, in_qsize 16, out_qsize 0\n",
      "2020-07-20 18:23:26,552 : INFO : worker thread finished; awaiting finish of 7 more threads\n",
      "2020-07-20 18:23:26,556 : INFO : worker thread finished; awaiting finish of 6 more threads\n",
      "2020-07-20 18:23:26,578 : INFO : worker thread finished; awaiting finish of 5 more threads\n",
      "2020-07-20 18:23:26,585 : INFO : worker thread finished; awaiting finish of 4 more threads\n",
      "2020-07-20 18:23:26,608 : INFO : worker thread finished; awaiting finish of 3 more threads\n",
      "2020-07-20 18:23:26,627 : INFO : worker thread finished; awaiting finish of 2 more threads\n",
      "2020-07-20 18:23:26,642 : INFO : worker thread finished; awaiting finish of 1 more threads\n",
      "2020-07-20 18:23:26,643 : INFO : worker thread finished; awaiting finish of 0 more threads\n",
      "2020-07-20 18:23:26,645 : INFO : EPOCH - 26 : training on 9227204 raw words (8222834 effective words) took 25.7s, 319554 effective words/s\n",
      "2020-07-20 18:23:27,707 : INFO : EPOCH 27 - PROGRESS: at 3.80% examples, 296679 words/s, in_qsize 15, out_qsize 0\n",
      "2020-07-20 18:23:28,723 : INFO : EPOCH 27 - PROGRESS: at 7.93% examples, 314688 words/s, in_qsize 15, out_qsize 1\n",
      "2020-07-20 18:23:29,777 : INFO : EPOCH 27 - PROGRESS: at 11.40% examples, 299794 words/s, in_qsize 13, out_qsize 1\n",
      "2020-07-20 18:23:30,905 : INFO : EPOCH 27 - PROGRESS: at 15.08% examples, 291379 words/s, in_qsize 15, out_qsize 0\n",
      "2020-07-20 18:23:31,916 : INFO : EPOCH 27 - PROGRESS: at 18.43% examples, 287789 words/s, in_qsize 14, out_qsize 0\n",
      "2020-07-20 18:23:32,934 : INFO : EPOCH 27 - PROGRESS: at 22.33% examples, 292280 words/s, in_qsize 14, out_qsize 2\n"
     ]
    },
    {
     "name": "stderr",
     "output_type": "stream",
     "text": [
      "2020-07-20 18:23:33,950 : INFO : EPOCH 27 - PROGRESS: at 26.56% examples, 299199 words/s, in_qsize 15, out_qsize 0\n",
      "2020-07-20 18:23:35,002 : INFO : EPOCH 27 - PROGRESS: at 30.13% examples, 296725 words/s, in_qsize 15, out_qsize 0\n",
      "2020-07-20 18:23:36,006 : INFO : EPOCH 27 - PROGRESS: at 33.81% examples, 297273 words/s, in_qsize 15, out_qsize 1\n",
      "2020-07-20 18:23:37,007 : INFO : EPOCH 27 - PROGRESS: at 37.70% examples, 299491 words/s, in_qsize 14, out_qsize 3\n",
      "2020-07-20 18:23:38,046 : INFO : EPOCH 27 - PROGRESS: at 42.02% examples, 303466 words/s, in_qsize 15, out_qsize 0\n",
      "2020-07-20 18:23:39,151 : INFO : EPOCH 27 - PROGRESS: at 46.13% examples, 304105 words/s, in_qsize 15, out_qsize 3\n",
      "2020-07-20 18:23:40,197 : INFO : EPOCH 27 - PROGRESS: at 50.45% examples, 306583 words/s, in_qsize 14, out_qsize 2\n",
      "2020-07-20 18:23:41,206 : INFO : EPOCH 27 - PROGRESS: at 54.03% examples, 305551 words/s, in_qsize 13, out_qsize 0\n",
      "2020-07-20 18:23:42,243 : INFO : EPOCH 27 - PROGRESS: at 56.95% examples, 300662 words/s, in_qsize 15, out_qsize 0\n",
      "2020-07-20 18:23:43,308 : INFO : EPOCH 27 - PROGRESS: at 60.74% examples, 300881 words/s, in_qsize 15, out_qsize 4\n",
      "2020-07-20 18:23:44,390 : INFO : EPOCH 27 - PROGRESS: at 65.28% examples, 302925 words/s, in_qsize 16, out_qsize 0\n",
      "2020-07-20 18:23:45,502 : INFO : EPOCH 27 - PROGRESS: at 69.83% examples, 304897 words/s, in_qsize 14, out_qsize 1\n",
      "2020-07-20 18:23:46,538 : INFO : EPOCH 27 - PROGRESS: at 74.16% examples, 306928 words/s, in_qsize 16, out_qsize 1\n",
      "2020-07-20 18:23:47,568 : INFO : EPOCH 27 - PROGRESS: at 78.62% examples, 309259 words/s, in_qsize 16, out_qsize 0\n",
      "2020-07-20 18:23:48,579 : INFO : EPOCH 27 - PROGRESS: at 80.90% examples, 303530 words/s, in_qsize 15, out_qsize 0\n",
      "2020-07-20 18:23:49,582 : INFO : EPOCH 27 - PROGRESS: at 84.37% examples, 302694 words/s, in_qsize 15, out_qsize 3\n",
      "2020-07-20 18:23:50,587 : INFO : EPOCH 27 - PROGRESS: at 88.80% examples, 305230 words/s, in_qsize 14, out_qsize 1\n",
      "2020-07-20 18:23:51,689 : INFO : EPOCH 27 - PROGRESS: at 92.39% examples, 303511 words/s, in_qsize 13, out_qsize 4\n",
      "2020-07-20 18:23:52,714 : INFO : EPOCH 27 - PROGRESS: at 96.10% examples, 303193 words/s, in_qsize 15, out_qsize 0\n",
      "2020-07-20 18:23:53,793 : INFO : EPOCH 27 - PROGRESS: at 98.90% examples, 299668 words/s, in_qsize 9, out_qsize 2\n",
      "2020-07-20 18:23:53,844 : INFO : worker thread finished; awaiting finish of 7 more threads\n",
      "2020-07-20 18:23:53,867 : INFO : worker thread finished; awaiting finish of 6 more threads\n",
      "2020-07-20 18:23:53,972 : INFO : worker thread finished; awaiting finish of 5 more threads\n",
      "2020-07-20 18:23:53,995 : INFO : worker thread finished; awaiting finish of 4 more threads\n",
      "2020-07-20 18:23:54,018 : INFO : worker thread finished; awaiting finish of 3 more threads\n",
      "2020-07-20 18:23:54,123 : INFO : worker thread finished; awaiting finish of 2 more threads\n",
      "2020-07-20 18:23:54,135 : INFO : worker thread finished; awaiting finish of 1 more threads\n",
      "2020-07-20 18:23:54,152 : INFO : worker thread finished; awaiting finish of 0 more threads\n",
      "2020-07-20 18:23:54,153 : INFO : EPOCH - 27 : training on 9227204 raw words (8222319 effective words) took 27.5s, 299021 effective words/s\n",
      "2020-07-20 18:23:55,191 : INFO : EPOCH 28 - PROGRESS: at 3.03% examples, 243507 words/s, in_qsize 11, out_qsize 1\n",
      "2020-07-20 18:23:56,313 : INFO : EPOCH 28 - PROGRESS: at 7.38% examples, 282292 words/s, in_qsize 16, out_qsize 0\n",
      "2020-07-20 18:23:57,322 : INFO : EPOCH 28 - PROGRESS: at 11.62% examples, 302202 words/s, in_qsize 15, out_qsize 0\n",
      "2020-07-20 18:23:58,402 : INFO : EPOCH 28 - PROGRESS: at 15.73% examples, 306249 words/s, in_qsize 14, out_qsize 1\n",
      "2020-07-20 18:23:59,423 : INFO : EPOCH 28 - PROGRESS: at 19.62% examples, 306769 words/s, in_qsize 15, out_qsize 0\n",
      "2020-07-20 18:24:00,509 : INFO : EPOCH 28 - PROGRESS: at 24.06% examples, 311863 words/s, in_qsize 15, out_qsize 0\n",
      "2020-07-20 18:24:01,582 : INFO : EPOCH 28 - PROGRESS: at 28.50% examples, 316009 words/s, in_qsize 16, out_qsize 2\n",
      "2020-07-20 18:24:02,699 : INFO : EPOCH 28 - PROGRESS: at 32.41% examples, 312193 words/s, in_qsize 15, out_qsize 0\n",
      "2020-07-20 18:24:03,715 : INFO : EPOCH 28 - PROGRESS: at 35.86% examples, 308861 words/s, in_qsize 15, out_qsize 0\n",
      "2020-07-20 18:24:04,778 : INFO : EPOCH 28 - PROGRESS: at 38.89% examples, 301429 words/s, in_qsize 15, out_qsize 0\n",
      "2020-07-20 18:24:05,792 : INFO : EPOCH 28 - PROGRESS: at 43.10% examples, 304998 words/s, in_qsize 15, out_qsize 0\n",
      "2020-07-20 18:24:06,842 : INFO : EPOCH 28 - PROGRESS: at 46.02% examples, 298698 words/s, in_qsize 15, out_qsize 0\n",
      "2020-07-20 18:24:07,903 : INFO : EPOCH 28 - PROGRESS: at 50.02% examples, 299647 words/s, in_qsize 13, out_qsize 3\n",
      "2020-07-20 18:24:08,928 : INFO : EPOCH 28 - PROGRESS: at 54.56% examples, 304199 words/s, in_qsize 15, out_qsize 0\n",
      "2020-07-20 18:24:09,939 : INFO : EPOCH 28 - PROGRESS: at 58.36% examples, 304473 words/s, in_qsize 15, out_qsize 1\n",
      "2020-07-20 18:24:10,993 : INFO : EPOCH 28 - PROGRESS: at 62.68% examples, 307554 words/s, in_qsize 12, out_qsize 2\n",
      "2020-07-20 18:24:11,954 : INFO : EPOCH 28 - PROGRESS: at 66.69% examples, 308541 words/s, in_qsize 15, out_qsize 0\n",
      "2020-07-20 18:24:13,007 : INFO : EPOCH 28 - PROGRESS: at 71.34% examples, 311637 words/s, in_qsize 16, out_qsize 0\n",
      "2020-07-20 18:24:14,017 : INFO : EPOCH 28 - PROGRESS: at 74.59% examples, 309242 words/s, in_qsize 15, out_qsize 0\n",
      "2020-07-20 18:24:15,083 : INFO : EPOCH 28 - PROGRESS: at 77.96% examples, 306670 words/s, in_qsize 14, out_qsize 1\n",
      "2020-07-20 18:24:16,108 : INFO : EPOCH 28 - PROGRESS: at 81.67% examples, 306155 words/s, in_qsize 15, out_qsize 0\n",
      "2020-07-20 18:24:17,136 : INFO : EPOCH 28 - PROGRESS: at 85.56% examples, 306409 words/s, in_qsize 15, out_qsize 0\n",
      "2020-07-20 18:24:18,139 : INFO : EPOCH 28 - PROGRESS: at 90.22% examples, 309572 words/s, in_qsize 15, out_qsize 0\n",
      "2020-07-20 18:24:19,143 : INFO : EPOCH 28 - PROGRESS: at 94.36% examples, 310665 words/s, in_qsize 14, out_qsize 1\n",
      "2020-07-20 18:24:20,152 : INFO : EPOCH 28 - PROGRESS: at 98.68% examples, 312305 words/s, in_qsize 13, out_qsize 0\n",
      "2020-07-20 18:24:20,339 : INFO : worker thread finished; awaiting finish of 7 more threads\n",
      "2020-07-20 18:24:20,350 : INFO : worker thread finished; awaiting finish of 6 more threads\n",
      "2020-07-20 18:24:20,352 : INFO : worker thread finished; awaiting finish of 5 more threads\n",
      "2020-07-20 18:24:20,357 : INFO : worker thread finished; awaiting finish of 4 more threads\n",
      "2020-07-20 18:24:20,372 : INFO : worker thread finished; awaiting finish of 3 more threads\n",
      "2020-07-20 18:24:20,388 : INFO : worker thread finished; awaiting finish of 2 more threads\n",
      "2020-07-20 18:24:20,391 : INFO : worker thread finished; awaiting finish of 1 more threads\n",
      "2020-07-20 18:24:20,397 : INFO : worker thread finished; awaiting finish of 0 more threads\n",
      "2020-07-20 18:24:20,397 : INFO : EPOCH - 28 : training on 9227204 raw words (8223482 effective words) took 26.2s, 313502 effective words/s\n",
      "2020-07-20 18:24:21,411 : INFO : EPOCH 29 - PROGRESS: at 3.69% examples, 302121 words/s, in_qsize 14, out_qsize 1\n",
      "2020-07-20 18:24:22,414 : INFO : EPOCH 29 - PROGRESS: at 8.04% examples, 328805 words/s, in_qsize 15, out_qsize 0\n",
      "2020-07-20 18:24:23,491 : INFO : EPOCH 29 - PROGRESS: at 12.06% examples, 325643 words/s, in_qsize 16, out_qsize 6\n",
      "2020-07-20 18:24:24,503 : INFO : EPOCH 29 - PROGRESS: at 16.37% examples, 328473 words/s, in_qsize 15, out_qsize 0\n",
      "2020-07-20 18:24:25,537 : INFO : EPOCH 29 - PROGRESS: at 19.84% examples, 317886 words/s, in_qsize 13, out_qsize 5\n",
      "2020-07-20 18:24:26,742 : INFO : EPOCH 29 - PROGRESS: at 23.09% examples, 299603 words/s, in_qsize 15, out_qsize 7\n",
      "2020-07-20 18:24:27,781 : INFO : EPOCH 29 - PROGRESS: at 28.07% examples, 312978 words/s, in_qsize 15, out_qsize 0\n",
      "2020-07-20 18:24:28,801 : INFO : EPOCH 29 - PROGRESS: at 32.52% examples, 318445 words/s, in_qsize 15, out_qsize 0\n",
      "2020-07-20 18:24:29,804 : INFO : EPOCH 29 - PROGRESS: at 36.29% examples, 317624 words/s, in_qsize 15, out_qsize 0\n",
      "2020-07-20 18:24:30,809 : INFO : EPOCH 29 - PROGRESS: at 40.19% examples, 317753 words/s, in_qsize 14, out_qsize 1\n",
      "2020-07-20 18:24:31,877 : INFO : EPOCH 29 - PROGRESS: at 44.40% examples, 319112 words/s, in_qsize 14, out_qsize 4\n",
      "2020-07-20 18:24:32,876 : INFO : EPOCH 29 - PROGRESS: at 48.73% examples, 321528 words/s, in_qsize 13, out_qsize 2\n"
     ]
    },
    {
     "name": "stderr",
     "output_type": "stream",
     "text": [
      "2020-07-20 18:24:33,901 : INFO : EPOCH 29 - PROGRESS: at 52.62% examples, 320884 words/s, in_qsize 14, out_qsize 1\n",
      "2020-07-20 18:24:34,973 : INFO : EPOCH 29 - PROGRESS: at 57.38% examples, 324196 words/s, in_qsize 16, out_qsize 0\n",
      "2020-07-20 18:24:36,064 : INFO : EPOCH 29 - PROGRESS: at 60.96% examples, 320396 words/s, in_qsize 15, out_qsize 0\n",
      "2020-07-20 18:24:37,151 : INFO : EPOCH 29 - PROGRESS: at 64.62% examples, 317651 words/s, in_qsize 16, out_qsize 0\n",
      "2020-07-20 18:24:38,174 : INFO : EPOCH 29 - PROGRESS: at 67.34% examples, 311898 words/s, in_qsize 15, out_qsize 0\n",
      "2020-07-20 18:24:39,176 : INFO : EPOCH 29 - PROGRESS: at 71.56% examples, 313756 words/s, in_qsize 13, out_qsize 1\n",
      "2020-07-20 18:24:40,182 : INFO : EPOCH 29 - PROGRESS: at 75.14% examples, 312647 words/s, in_qsize 15, out_qsize 1\n",
      "2020-07-20 18:24:41,186 : INFO : EPOCH 29 - PROGRESS: at 79.71% examples, 315541 words/s, in_qsize 16, out_qsize 0\n",
      "2020-07-20 18:24:42,274 : INFO : EPOCH 29 - PROGRESS: at 84.04% examples, 316131 words/s, in_qsize 14, out_qsize 1\n",
      "2020-07-20 18:24:43,293 : INFO : EPOCH 29 - PROGRESS: at 88.16% examples, 316848 words/s, in_qsize 13, out_qsize 4\n",
      "2020-07-20 18:24:44,315 : INFO : EPOCH 29 - PROGRESS: at 92.83% examples, 319283 words/s, in_qsize 16, out_qsize 0\n",
      "2020-07-20 18:24:45,331 : INFO : EPOCH 29 - PROGRESS: at 96.96% examples, 319838 words/s, in_qsize 15, out_qsize 0\n",
      "2020-07-20 18:24:45,887 : INFO : worker thread finished; awaiting finish of 7 more threads\n",
      "2020-07-20 18:24:45,914 : INFO : worker thread finished; awaiting finish of 6 more threads\n",
      "2020-07-20 18:24:45,931 : INFO : worker thread finished; awaiting finish of 5 more threads\n",
      "2020-07-20 18:24:45,966 : INFO : worker thread finished; awaiting finish of 4 more threads\n",
      "2020-07-20 18:24:45,969 : INFO : worker thread finished; awaiting finish of 3 more threads\n",
      "2020-07-20 18:24:45,975 : INFO : worker thread finished; awaiting finish of 2 more threads\n",
      "2020-07-20 18:24:45,992 : INFO : worker thread finished; awaiting finish of 1 more threads\n",
      "2020-07-20 18:24:46,002 : INFO : worker thread finished; awaiting finish of 0 more threads\n",
      "2020-07-20 18:24:46,002 : INFO : EPOCH - 29 : training on 9227204 raw words (8222141 effective words) took 25.6s, 321244 effective words/s\n",
      "2020-07-20 18:24:47,079 : INFO : EPOCH 30 - PROGRESS: at 2.82% examples, 217272 words/s, in_qsize 15, out_qsize 0\n",
      "2020-07-20 18:24:48,178 : INFO : EPOCH 30 - PROGRESS: at 5.54% examples, 209816 words/s, in_qsize 14, out_qsize 1\n",
      "2020-07-20 18:24:49,206 : INFO : EPOCH 30 - PROGRESS: at 7.93% examples, 203671 words/s, in_qsize 14, out_qsize 1\n",
      "2020-07-20 18:24:50,214 : INFO : EPOCH 30 - PROGRESS: at 11.62% examples, 226979 words/s, in_qsize 15, out_qsize 0\n",
      "2020-07-20 18:24:51,238 : INFO : EPOCH 30 - PROGRESS: at 15.62% examples, 245528 words/s, in_qsize 15, out_qsize 0\n",
      "2020-07-20 18:24:52,263 : INFO : EPOCH 30 - PROGRESS: at 18.43% examples, 242249 words/s, in_qsize 14, out_qsize 1\n",
      "2020-07-20 18:24:53,277 : INFO : EPOCH 30 - PROGRESS: at 21.68% examples, 245291 words/s, in_qsize 10, out_qsize 3\n",
      "2020-07-20 18:24:54,364 : INFO : EPOCH 30 - PROGRESS: at 25.80% examples, 253923 words/s, in_qsize 15, out_qsize 0\n",
      "2020-07-20 18:24:55,440 : INFO : EPOCH 30 - PROGRESS: at 30.02% examples, 261825 words/s, in_qsize 15, out_qsize 0\n",
      "2020-07-20 18:24:56,466 : INFO : EPOCH 30 - PROGRESS: at 34.57% examples, 271910 words/s, in_qsize 15, out_qsize 0\n",
      "2020-07-20 18:24:57,515 : INFO : EPOCH 30 - PROGRESS: at 38.25% examples, 273442 words/s, in_qsize 15, out_qsize 0\n",
      "2020-07-20 18:24:58,664 : INFO : EPOCH 30 - PROGRESS: at 41.59% examples, 270423 words/s, in_qsize 10, out_qsize 7\n",
      "2020-07-20 18:24:59,717 : INFO : EPOCH 30 - PROGRESS: at 44.62% examples, 267823 words/s, in_qsize 15, out_qsize 0\n",
      "2020-07-20 18:25:00,718 : INFO : EPOCH 30 - PROGRESS: at 48.40% examples, 270811 words/s, in_qsize 16, out_qsize 1\n",
      "2020-07-20 18:25:01,772 : INFO : EPOCH 30 - PROGRESS: at 52.62% examples, 274774 words/s, in_qsize 14, out_qsize 0\n",
      "2020-07-20 18:25:02,774 : INFO : EPOCH 30 - PROGRESS: at 56.51% examples, 277496 words/s, in_qsize 15, out_qsize 0\n",
      "2020-07-20 18:25:03,785 : INFO : EPOCH 30 - PROGRESS: at 60.74% examples, 281279 words/s, in_qsize 15, out_qsize 0\n",
      "2020-07-20 18:25:04,792 : INFO : EPOCH 30 - PROGRESS: at 65.06% examples, 285163 words/s, in_qsize 14, out_qsize 0\n",
      "2020-07-20 18:25:05,832 : INFO : EPOCH 30 - PROGRESS: at 69.07% examples, 287036 words/s, in_qsize 15, out_qsize 1\n",
      "2020-07-20 18:25:06,846 : INFO : EPOCH 30 - PROGRESS: at 73.52% examples, 290606 words/s, in_qsize 12, out_qsize 2\n",
      "2020-07-20 18:25:07,898 : INFO : EPOCH 30 - PROGRESS: at 77.74% examples, 292305 words/s, in_qsize 16, out_qsize 0\n",
      "2020-07-20 18:25:08,936 : INFO : EPOCH 30 - PROGRESS: at 81.45% examples, 292284 words/s, in_qsize 14, out_qsize 0\n",
      "2020-07-20 18:25:09,940 : INFO : EPOCH 30 - PROGRESS: at 83.83% examples, 288212 words/s, in_qsize 16, out_qsize 0\n",
      "2020-07-20 18:25:10,958 : INFO : EPOCH 30 - PROGRESS: at 86.42% examples, 285009 words/s, in_qsize 13, out_qsize 0\n",
      "2020-07-20 18:25:11,976 : INFO : EPOCH 30 - PROGRESS: at 90.43% examples, 286518 words/s, in_qsize 14, out_qsize 1\n",
      "2020-07-20 18:25:13,036 : INFO : EPOCH 30 - PROGRESS: at 94.80% examples, 288763 words/s, in_qsize 15, out_qsize 0\n",
      "2020-07-20 18:25:13,974 : INFO : worker thread finished; awaiting finish of 7 more threads\n",
      "2020-07-20 18:25:14,008 : INFO : EPOCH 30 - PROGRESS: at 99.34% examples, 291829 words/s, in_qsize 6, out_qsize 1\n",
      "2020-07-20 18:25:14,032 : INFO : worker thread finished; awaiting finish of 6 more threads\n",
      "2020-07-20 18:25:14,084 : INFO : worker thread finished; awaiting finish of 5 more threads\n",
      "2020-07-20 18:25:14,089 : INFO : worker thread finished; awaiting finish of 4 more threads\n",
      "2020-07-20 18:25:14,104 : INFO : worker thread finished; awaiting finish of 3 more threads\n",
      "2020-07-20 18:25:14,113 : INFO : worker thread finished; awaiting finish of 2 more threads\n",
      "2020-07-20 18:25:14,124 : INFO : worker thread finished; awaiting finish of 1 more threads\n",
      "2020-07-20 18:25:14,128 : INFO : worker thread finished; awaiting finish of 0 more threads\n",
      "2020-07-20 18:25:14,128 : INFO : EPOCH - 30 : training on 9227204 raw words (8223116 effective words) took 28.1s, 292484 effective words/s\n",
      "2020-07-20 18:25:15,163 : INFO : EPOCH 31 - PROGRESS: at 3.47% examples, 279741 words/s, in_qsize 15, out_qsize 0\n",
      "2020-07-20 18:25:16,170 : INFO : EPOCH 31 - PROGRESS: at 7.82% examples, 316518 words/s, in_qsize 15, out_qsize 1\n",
      "2020-07-20 18:25:17,180 : INFO : EPOCH 31 - PROGRESS: at 12.17% examples, 328700 words/s, in_qsize 12, out_qsize 0\n",
      "2020-07-20 18:25:18,212 : INFO : EPOCH 31 - PROGRESS: at 16.38% examples, 330629 words/s, in_qsize 16, out_qsize 0\n",
      "2020-07-20 18:25:19,228 : INFO : EPOCH 31 - PROGRESS: at 20.16% examples, 325879 words/s, in_qsize 14, out_qsize 1\n",
      "2020-07-20 18:25:20,279 : INFO : EPOCH 31 - PROGRESS: at 23.52% examples, 315129 words/s, in_qsize 15, out_qsize 0\n",
      "2020-07-20 18:25:21,460 : INFO : EPOCH 31 - PROGRESS: at 26.78% examples, 300760 words/s, in_qsize 12, out_qsize 3\n",
      "2020-07-20 18:25:22,466 : INFO : EPOCH 31 - PROGRESS: at 30.99% examples, 306158 words/s, in_qsize 13, out_qsize 2\n",
      "2020-07-20 18:25:23,519 : INFO : EPOCH 31 - PROGRESS: at 35.21% examples, 308833 words/s, in_qsize 15, out_qsize 0\n",
      "2020-07-20 18:25:24,525 : INFO : EPOCH 31 - PROGRESS: at 39.43% examples, 312372 words/s, in_qsize 15, out_qsize 0\n",
      "2020-07-20 18:25:25,553 : INFO : EPOCH 31 - PROGRESS: at 43.43% examples, 313122 words/s, in_qsize 15, out_qsize 1\n",
      "2020-07-20 18:25:26,608 : INFO : EPOCH 31 - PROGRESS: at 47.65% examples, 314481 words/s, in_qsize 16, out_qsize 0\n",
      "2020-07-20 18:25:27,613 : INFO : EPOCH 31 - PROGRESS: at 51.75% examples, 316169 words/s, in_qsize 16, out_qsize 0\n",
      "2020-07-20 18:25:28,636 : INFO : EPOCH 31 - PROGRESS: at 56.08% examples, 318457 words/s, in_qsize 16, out_qsize 0\n",
      "2020-07-20 18:25:29,679 : INFO : EPOCH 31 - PROGRESS: at 59.87% examples, 317154 words/s, in_qsize 14, out_qsize 3\n",
      "2020-07-20 18:25:30,761 : INFO : EPOCH 31 - PROGRESS: at 64.08% examples, 317399 words/s, in_qsize 12, out_qsize 3\n",
      "2020-07-20 18:25:31,774 : INFO : EPOCH 31 - PROGRESS: at 67.77% examples, 316330 words/s, in_qsize 15, out_qsize 0\n",
      "2020-07-20 18:25:32,783 : INFO : EPOCH 31 - PROGRESS: at 70.91% examples, 313075 words/s, in_qsize 14, out_qsize 1\n"
     ]
    },
    {
     "name": "stderr",
     "output_type": "stream",
     "text": [
      "2020-07-20 18:25:33,819 : INFO : EPOCH 31 - PROGRESS: at 75.24% examples, 314680 words/s, in_qsize 10, out_qsize 0\n",
      "2020-07-20 18:25:34,823 : INFO : EPOCH 31 - PROGRESS: at 79.38% examples, 315759 words/s, in_qsize 14, out_qsize 0\n",
      "2020-07-20 18:25:35,836 : INFO : EPOCH 31 - PROGRESS: at 83.62% examples, 317036 words/s, in_qsize 14, out_qsize 0\n",
      "2020-07-20 18:25:36,843 : INFO : EPOCH 31 - PROGRESS: at 87.61% examples, 317489 words/s, in_qsize 15, out_qsize 0\n",
      "2020-07-20 18:25:37,882 : INFO : EPOCH 31 - PROGRESS: at 91.85% examples, 318202 words/s, in_qsize 15, out_qsize 0\n",
      "2020-07-20 18:25:38,891 : INFO : EPOCH 31 - PROGRESS: at 96.21% examples, 319627 words/s, in_qsize 14, out_qsize 1\n",
      "2020-07-20 18:25:39,679 : INFO : worker thread finished; awaiting finish of 7 more threads\n",
      "2020-07-20 18:25:39,697 : INFO : worker thread finished; awaiting finish of 6 more threads\n",
      "2020-07-20 18:25:39,710 : INFO : worker thread finished; awaiting finish of 5 more threads\n",
      "2020-07-20 18:25:39,711 : INFO : worker thread finished; awaiting finish of 4 more threads\n",
      "2020-07-20 18:25:39,746 : INFO : worker thread finished; awaiting finish of 3 more threads\n",
      "2020-07-20 18:25:39,761 : INFO : worker thread finished; awaiting finish of 2 more threads\n",
      "2020-07-20 18:25:39,763 : INFO : worker thread finished; awaiting finish of 1 more threads\n",
      "2020-07-20 18:25:39,770 : INFO : worker thread finished; awaiting finish of 0 more threads\n",
      "2020-07-20 18:25:39,771 : INFO : EPOCH - 31 : training on 9227204 raw words (8223028 effective words) took 25.6s, 320864 effective words/s\n",
      "2020-07-20 18:25:40,921 : INFO : EPOCH 32 - PROGRESS: at 3.91% examples, 281429 words/s, in_qsize 15, out_qsize 0\n",
      "2020-07-20 18:25:42,020 : INFO : EPOCH 32 - PROGRESS: at 6.95% examples, 254626 words/s, in_qsize 14, out_qsize 1\n",
      "2020-07-20 18:25:43,098 : INFO : EPOCH 32 - PROGRESS: at 10.64% examples, 263208 words/s, in_qsize 16, out_qsize 0\n",
      "2020-07-20 18:25:44,128 : INFO : EPOCH 32 - PROGRESS: at 13.57% examples, 256214 words/s, in_qsize 14, out_qsize 1\n",
      "2020-07-20 18:25:45,196 : INFO : EPOCH 32 - PROGRESS: at 17.68% examples, 268139 words/s, in_qsize 15, out_qsize 0\n",
      "2020-07-20 18:25:46,207 : INFO : EPOCH 32 - PROGRESS: at 22.33% examples, 285617 words/s, in_qsize 16, out_qsize 0\n",
      "2020-07-20 18:25:47,213 : INFO : EPOCH 32 - PROGRESS: at 26.45% examples, 292529 words/s, in_qsize 12, out_qsize 1\n",
      "2020-07-20 18:25:48,252 : INFO : EPOCH 32 - PROGRESS: at 29.16% examples, 282966 words/s, in_qsize 15, out_qsize 0\n",
      "2020-07-20 18:25:49,258 : INFO : EPOCH 32 - PROGRESS: at 33.05% examples, 286747 words/s, in_qsize 15, out_qsize 1\n",
      "2020-07-20 18:25:50,281 : INFO : EPOCH 32 - PROGRESS: at 36.94% examples, 289341 words/s, in_qsize 16, out_qsize 0\n",
      "2020-07-20 18:25:51,310 : INFO : EPOCH 32 - PROGRESS: at 41.05% examples, 292895 words/s, in_qsize 14, out_qsize 4\n",
      "2020-07-20 18:25:52,343 : INFO : EPOCH 32 - PROGRESS: at 45.27% examples, 296449 words/s, in_qsize 16, out_qsize 0\n",
      "2020-07-20 18:25:53,402 : INFO : EPOCH 32 - PROGRESS: at 48.08% examples, 290434 words/s, in_qsize 15, out_qsize 0\n",
      "2020-07-20 18:25:54,403 : INFO : EPOCH 32 - PROGRESS: at 50.78% examples, 285786 words/s, in_qsize 15, out_qsize 0\n",
      "2020-07-20 18:25:55,413 : INFO : EPOCH 32 - PROGRESS: at 53.92% examples, 283856 words/s, in_qsize 15, out_qsize 0\n",
      "2020-07-20 18:25:56,416 : INFO : EPOCH 32 - PROGRESS: at 57.49% examples, 284422 words/s, in_qsize 15, out_qsize 0\n",
      "2020-07-20 18:25:57,448 : INFO : EPOCH 32 - PROGRESS: at 62.03% examples, 288975 words/s, in_qsize 16, out_qsize 0\n",
      "2020-07-20 18:25:58,485 : INFO : EPOCH 32 - PROGRESS: at 65.93% examples, 290104 words/s, in_qsize 14, out_qsize 1\n",
      "2020-07-20 18:25:59,640 : INFO : EPOCH 32 - PROGRESS: at 70.16% examples, 290718 words/s, in_qsize 15, out_qsize 0\n",
      "2020-07-20 18:26:00,666 : INFO : EPOCH 32 - PROGRESS: at 74.37% examples, 293070 words/s, in_qsize 14, out_qsize 2\n",
      "2020-07-20 18:26:01,694 : INFO : EPOCH 32 - PROGRESS: at 78.73% examples, 295577 words/s, in_qsize 13, out_qsize 1\n",
      "2020-07-20 18:26:02,714 : INFO : EPOCH 32 - PROGRESS: at 82.96% examples, 297580 words/s, in_qsize 12, out_qsize 0\n",
      "2020-07-20 18:26:03,750 : INFO : EPOCH 32 - PROGRESS: at 86.21% examples, 295855 words/s, in_qsize 15, out_qsize 0\n",
      "2020-07-20 18:26:04,836 : INFO : EPOCH 32 - PROGRESS: at 89.34% examples, 293348 words/s, in_qsize 15, out_qsize 0\n",
      "2020-07-20 18:26:05,866 : INFO : EPOCH 32 - PROGRESS: at 93.05% examples, 293367 words/s, in_qsize 15, out_qsize 0\n",
      "2020-07-20 18:26:06,869 : INFO : EPOCH 32 - PROGRESS: at 97.50% examples, 295975 words/s, in_qsize 14, out_qsize 1\n",
      "2020-07-20 18:26:07,330 : INFO : worker thread finished; awaiting finish of 7 more threads\n",
      "2020-07-20 18:26:07,338 : INFO : worker thread finished; awaiting finish of 6 more threads\n",
      "2020-07-20 18:26:07,341 : INFO : worker thread finished; awaiting finish of 5 more threads\n",
      "2020-07-20 18:26:07,344 : INFO : worker thread finished; awaiting finish of 4 more threads\n",
      "2020-07-20 18:26:07,345 : INFO : worker thread finished; awaiting finish of 3 more threads\n",
      "2020-07-20 18:26:07,363 : INFO : worker thread finished; awaiting finish of 2 more threads\n",
      "2020-07-20 18:26:07,379 : INFO : worker thread finished; awaiting finish of 1 more threads\n",
      "2020-07-20 18:26:07,384 : INFO : worker thread finished; awaiting finish of 0 more threads\n",
      "2020-07-20 18:26:07,385 : INFO : EPOCH - 32 : training on 9227204 raw words (8222804 effective words) took 27.6s, 297899 effective words/s\n",
      "2020-07-20 18:26:07,386 : INFO : training on a 295270528 raw words (263123719 effective words) took 863.6s, 304689 effective words/s\n"
     ]
    },
    {
     "name": "stdout",
     "output_type": "stream",
     "text": [
      "CPU times: user 25min 4s, sys: 8.8 s, total: 25min 13s\n",
      "Wall time: 14min 23s\n"
     ]
    },
    {
     "data": {
      "text/plain": [
       "(263123719, 295270528)"
      ]
     },
     "execution_count": 84,
     "metadata": {},
     "output_type": "execute_result"
    }
   ],
   "source": [
    "%%time\n",
    "w2v_model.train(documents, total_examples=len(documents), epochs=W2V_EPOCH)"
   ]
  },
  {
   "cell_type": "code",
   "execution_count": 85,
   "metadata": {
    "_uuid": "27cc2651c74227115d8bfd8c40e5618048e05edd"
   },
   "outputs": [
    {
     "name": "stderr",
     "output_type": "stream",
     "text": [
      "/opt/conda/lib/python3.6/site-packages/ipykernel_launcher.py:1: DeprecationWarning: Call to deprecated `most_similar` (Method will be removed in 4.0.0, use self.wv.most_similar() instead).\n",
      "  \"\"\"Entry point for launching an IPython kernel.\n",
      "2020-07-20 18:26:07,398 : INFO : precomputing L2-norms of word weight vectors\n",
      "/opt/conda/lib/python3.6/site-packages/gensim/matutils.py:737: FutureWarning: Conversion of the second argument of issubdtype from `int` to `np.signedinteger` is deprecated. In future, it will be treated as `np.int64 == np.dtype(int).type`.\n",
      "  if np.issubdtype(vec.dtype, np.int):\n"
     ]
    },
    {
     "data": {
      "text/plain": [
       "[('luv', 0.5786606669425964),\n",
       " ('loves', 0.5568316578865051),\n",
       " ('loved', 0.5540191531181335),\n",
       " ('adore', 0.5240697860717773),\n",
       " ('amazing', 0.510637104511261),\n",
       " ('looove', 0.49301809072494507),\n",
       " ('lovee', 0.4603871703147888),\n",
       " ('awesome', 0.45846691727638245),\n",
       " ('loveee', 0.45386624336242676),\n",
       " ('loooove', 0.4489929676055908)]"
      ]
     },
     "execution_count": 85,
     "metadata": {},
     "output_type": "execute_result"
    }
   ],
   "source": [
    "w2v_model.most_similar(\"love\")"
   ]
  },
  {
   "cell_type": "markdown",
   "metadata": {
    "_uuid": "e13563644468037258598637b49373ca96b9b879"
   },
   "source": [
    "### Tokenize Text"
   ]
  },
  {
   "cell_type": "code",
   "execution_count": 86,
   "metadata": {
    "_uuid": "6852bc709a7cd20173cbeeb218505078f8f37c57"
   },
   "outputs": [
    {
     "name": "stdout",
     "output_type": "stream",
     "text": [
      "Total words 290419\n",
      "CPU times: user 30.2 s, sys: 173 ms, total: 30.4 s\n",
      "Wall time: 30.4 s\n"
     ]
    }
   ],
   "source": [
    "%%time\n",
    "tokenizer = Tokenizer()\n",
    "tokenizer.fit_on_texts(df_train.text)\n",
    "\n",
    "vocab_size = len(tokenizer.word_index) + 1\n",
    "print(\"Total words\", vocab_size)"
   ]
  },
  {
   "cell_type": "code",
   "execution_count": 87,
   "metadata": {
    "_uuid": "45de439df3015030c71f84c2d170346936a1d68f"
   },
   "outputs": [
    {
     "name": "stdout",
     "output_type": "stream",
     "text": [
      "CPU times: user 48.4 s, sys: 1.03 s, total: 49.4 s\n",
      "Wall time: 50 s\n"
     ]
    }
   ],
   "source": [
    "%%time\n",
    "x_train = pad_sequences(tokenizer.texts_to_sequences(df_train.text), maxlen=SEQUENCE_LENGTH)\n",
    "x_test = pad_sequences(tokenizer.texts_to_sequences(df_test.text), maxlen=SEQUENCE_LENGTH)"
   ]
  },
  {
   "cell_type": "code",
   "execution_count": 88,
   "metadata": {},
   "outputs": [],
   "source": [
    "x_main = pad_sequences(tokenizer.texts_to_sequences(main.text), maxlen=SEQUENCE_LENGTH)"
   ]
  },
  {
   "cell_type": "markdown",
   "metadata": {
    "_uuid": "03b35903fc6260e190d6928d240ef7432de117fc"
   },
   "source": [
    "### Label Encoder "
   ]
  },
  {
   "cell_type": "code",
   "execution_count": 89,
   "metadata": {
    "_uuid": "33676e0efa39e97d89bd650b8b4eae933a22fbf0"
   },
   "outputs": [
    {
     "data": {
      "text/plain": [
       "['POSITIVE', 'NEGATIVE', 'NEUTRAL']"
      ]
     },
     "execution_count": 89,
     "metadata": {},
     "output_type": "execute_result"
    }
   ],
   "source": [
    "labels = df_train.target.unique().tolist()\n",
    "labels.append(NEUTRAL)\n",
    "labels"
   ]
  },
  {
   "cell_type": "code",
   "execution_count": 90,
   "metadata": {
    "_uuid": "04239a9bef76e7922fd86098a5601dfde8ee4665"
   },
   "outputs": [
    {
     "name": "stdout",
     "output_type": "stream",
     "text": [
      "y_train (1280000, 1)\n",
      "y_test (320000, 1)\n"
     ]
    }
   ],
   "source": [
    "encoder = LabelEncoder()\n",
    "encoder.fit(df_train.target.tolist())\n",
    "\n",
    "y_train = encoder.transform(df_train.target.tolist())\n",
    "y_test = encoder.transform(df_test.target.tolist())\n",
    "\n",
    "y_train = y_train.reshape(-1,1)\n",
    "y_test = y_test.reshape(-1,1)\n",
    "\n",
    "print(\"y_train\",y_train.shape)\n",
    "print(\"y_test\",y_test.shape)"
   ]
  },
  {
   "cell_type": "code",
   "execution_count": 91,
   "metadata": {
    "_uuid": "04299c886911ca135583ab64878f213939a2990c"
   },
   "outputs": [
    {
     "name": "stdout",
     "output_type": "stream",
     "text": [
      "x_train (1280000, 300)\n",
      "y_train (1280000, 1)\n",
      "\n",
      "x_test (320000, 300)\n",
      "y_test (320000, 1)\n"
     ]
    }
   ],
   "source": [
    "print(\"x_train\", x_train.shape)\n",
    "print(\"y_train\", y_train.shape)\n",
    "print()\n",
    "print(\"x_test\", x_test.shape)\n",
    "print(\"y_test\", y_test.shape)"
   ]
  },
  {
   "cell_type": "code",
   "execution_count": 92,
   "metadata": {},
   "outputs": [
    {
     "name": "stdout",
     "output_type": "stream",
     "text": [
      "(239, 300)\n"
     ]
    }
   ],
   "source": [
    "print(x_main.shape)"
   ]
  },
  {
   "cell_type": "code",
   "execution_count": 93,
   "metadata": {
    "_uuid": "232533fb27b7be99d9b8c2f8fb22c9c6bf121a6f"
   },
   "outputs": [
    {
     "data": {
      "text/plain": [
       "array([[1],\n",
       "       [1],\n",
       "       [1],\n",
       "       [0],\n",
       "       [1],\n",
       "       [1],\n",
       "       [1],\n",
       "       [1],\n",
       "       [1],\n",
       "       [1]])"
      ]
     },
     "execution_count": 93,
     "metadata": {},
     "output_type": "execute_result"
    }
   ],
   "source": [
    "y_train[:10]"
   ]
  },
  {
   "cell_type": "markdown",
   "metadata": {
    "_uuid": "233c0ea94055a03e2e7df3e2a13d036ec963484f"
   },
   "source": [
    "### Embedding layer"
   ]
  },
  {
   "cell_type": "code",
   "execution_count": 94,
   "metadata": {
    "_uuid": "9ab488374b59e3f30f8b1ea92767d853c4846bac"
   },
   "outputs": [
    {
     "name": "stdout",
     "output_type": "stream",
     "text": [
      "(290419, 300)\n"
     ]
    }
   ],
   "source": [
    "embedding_matrix = np.zeros((vocab_size, W2V_SIZE))\n",
    "for word, i in tokenizer.word_index.items():\n",
    "  if word in w2v_model.wv:\n",
    "    embedding_matrix[i] = w2v_model.wv[word]\n",
    "print(embedding_matrix.shape)"
   ]
  },
  {
   "cell_type": "code",
   "execution_count": 95,
   "metadata": {
    "_uuid": "833279d91e4286065968237fb5f2a0c2dd4d246c"
   },
   "outputs": [],
   "source": [
    "embedding_layer = Embedding(vocab_size, W2V_SIZE, weights=[embedding_matrix], input_length=SEQUENCE_LENGTH, trainable=False)"
   ]
  },
  {
   "cell_type": "markdown",
   "metadata": {
    "_uuid": "b299ef78f94c2085942c993a2d58753a7476305a"
   },
   "source": [
    "### Build Model"
   ]
  },
  {
   "cell_type": "code",
   "execution_count": 96,
   "metadata": {
    "_uuid": "e775ef4f1b74e6412457181383c39f2df554ef3f"
   },
   "outputs": [
    {
     "name": "stdout",
     "output_type": "stream",
     "text": [
      "_________________________________________________________________\n",
      "Layer (type)                 Output Shape              Param #   \n",
      "=================================================================\n",
      "embedding_1 (Embedding)      (None, 300, 300)          87125700  \n",
      "_________________________________________________________________\n",
      "dropout_1 (Dropout)          (None, 300, 300)          0         \n",
      "_________________________________________________________________\n",
      "lstm_1 (LSTM)                (None, 100)               160400    \n",
      "_________________________________________________________________\n",
      "dense_1 (Dense)              (None, 1)                 101       \n",
      "=================================================================\n",
      "Total params: 87,286,201\n",
      "Trainable params: 160,501\n",
      "Non-trainable params: 87,125,700\n",
      "_________________________________________________________________\n"
     ]
    }
   ],
   "source": [
    "model = Sequential()\n",
    "model.add(embedding_layer)\n",
    "model.add(Dropout(0.5))\n",
    "model.add(LSTM(100, dropout=0.2, recurrent_dropout=0.2))\n",
    "model.add(Dense(1, activation='sigmoid'))\n",
    "\n",
    "model.summary()"
   ]
  },
  {
   "cell_type": "markdown",
   "metadata": {
    "_uuid": "28d22eafd0c7d798dcf3d742bc92fb8577939e6c"
   },
   "source": [
    "### Compile model"
   ]
  },
  {
   "cell_type": "code",
   "execution_count": 97,
   "metadata": {
    "_uuid": "1331e08d590bb2aa2033706c8faca217afc0f1c3"
   },
   "outputs": [],
   "source": [
    "model.compile(loss='binary_crossentropy',\n",
    "              optimizer=\"adam\",\n",
    "              metrics=['accuracy'])"
   ]
  },
  {
   "cell_type": "markdown",
   "metadata": {
    "_uuid": "c7733127cb8b380e0c807268903bf4d03ef92542"
   },
   "source": [
    "### Callbacks"
   ]
  },
  {
   "cell_type": "code",
   "execution_count": 98,
   "metadata": {
    "_uuid": "a688df590386f5748da6fe00b01904fe6c71619e"
   },
   "outputs": [],
   "source": [
    "callbacks = [ ReduceLROnPlateau(monitor='val_loss', patience=5, cooldown=0),\n",
    "              EarlyStopping(monitor='val_acc', min_delta=1e-4, patience=5)]"
   ]
  },
  {
   "cell_type": "markdown",
   "metadata": {
    "_uuid": "8d0873633dd49179c8cae17377641b97d323ef3b"
   },
   "source": [
    "### Train"
   ]
  },
  {
   "cell_type": "code",
   "execution_count": 99,
   "metadata": {
    "_uuid": "2b659d390c6577dc5cdb6b6297934279b4e801d5"
   },
   "outputs": [
    {
     "name": "stdout",
     "output_type": "stream",
     "text": [
      "Train on 1152000 samples, validate on 128000 samples\n",
      "Epoch 1/8\n",
      "1152000/1152000 [==============================] - 692s 600us/step - loss: 0.5048 - acc: 0.7502 - val_loss: 0.4651 - val_acc: 0.7786\n",
      "Epoch 2/8\n",
      "1152000/1152000 [==============================] - 701s 609us/step - loss: 0.4802 - acc: 0.7666 - val_loss: 0.4589 - val_acc: 0.7826\n",
      "Epoch 3/8\n",
      "1152000/1152000 [==============================] - 694s 603us/step - loss: 0.4744 - acc: 0.7706 - val_loss: 0.4541 - val_acc: 0.7848\n",
      "Epoch 4/8\n",
      "1152000/1152000 [==============================] - 690s 599us/step - loss: 0.4705 - acc: 0.7726 - val_loss: 0.4521 - val_acc: 0.7864\n",
      "Epoch 5/8\n",
      "1152000/1152000 [==============================] - 683s 593us/step - loss: 0.4675 - acc: 0.7750 - val_loss: 0.4509 - val_acc: 0.7879\n",
      "Epoch 6/8\n",
      "1152000/1152000 [==============================] - 653s 567us/step - loss: 0.4656 - acc: 0.7759 - val_loss: 0.4495 - val_acc: 0.7884\n",
      "Epoch 7/8\n",
      "1152000/1152000 [==============================] - 645s 560us/step - loss: 0.4642 - acc: 0.7771 - val_loss: 0.4474 - val_acc: 0.7898\n",
      "Epoch 8/8\n",
      "1152000/1152000 [==============================] - 659s 572us/step - loss: 0.4673 - acc: 0.7749 - val_loss: 0.4501 - val_acc: 0.7886\n",
      "CPU times: user 1h 59min 55s, sys: 7min 5s, total: 2h 7min\n",
      "Wall time: 1h 30min 18s\n"
     ]
    }
   ],
   "source": [
    "%%time\n",
    "history = model.fit(x_train, y_train,\n",
    "                    batch_size=BATCH_SIZE,\n",
    "                    epochs=EPOCHS,\n",
    "                    validation_split=0.1,\n",
    "                    verbose=1,\n",
    "                    callbacks=callbacks)"
   ]
  },
  {
   "cell_type": "markdown",
   "metadata": {
    "_uuid": "267258196d96796ac69a7b8c466314bcf5d6ee42"
   },
   "source": [
    "### Evaluate"
   ]
  },
  {
   "cell_type": "code",
   "execution_count": 100,
   "metadata": {
    "_uuid": "98ecd8f1b8b74594c3ea775dd68a094e92458022"
   },
   "outputs": [
    {
     "name": "stdout",
     "output_type": "stream",
     "text": [
      "320000/320000 [==============================] - 67s 209us/step\n",
      "\n",
      "ACCURACY: 0.789121875\n",
      "LOSS: 0.44831198053359983\n",
      "CPU times: user 1min 30s, sys: 7.23 s, total: 1min 37s\n",
      "Wall time: 1min 6s\n"
     ]
    }
   ],
   "source": [
    "%%time\n",
    "score = model.evaluate(x_test, y_test, batch_size=BATCH_SIZE)\n",
    "print()\n",
    "print(\"ACCURACY:\",score[1])\n",
    "print(\"LOSS:\",score[0])"
   ]
  },
  {
   "cell_type": "markdown",
   "metadata": {
    "_uuid": "6bdfc0f6a6af5bebc0271d83dd7432c91001409b"
   },
   "source": [
    "### Predict"
   ]
  },
  {
   "cell_type": "code",
   "execution_count": 116,
   "metadata": {
    "_uuid": "f0b0fa3d4b1bb14b3f5e3d169a369f3ebef29ae1"
   },
   "outputs": [],
   "source": [
    "def decode_sentiment(score, include_neutral=True):\n",
    "    if include_neutral:        \n",
    "        label = 'Random'\n",
    "        if score <= SENTIMENT_THRESHOLDS[0]:\n",
    "            label = 'Negative'\n",
    "        elif score >= SENTIMENT_THRESHOLDS[1]:\n",
    "            label = 'Positive'\n",
    "\n",
    "        return label\n",
    "    else:\n",
    "        return 'Negative' if score < 0.5 else 'Positive'"
   ]
  },
  {
   "cell_type": "code",
   "execution_count": 124,
   "metadata": {
    "_uuid": "ed4086d651f2f8cbed11d3c909a8873607d29a06"
   },
   "outputs": [],
   "source": [
    "def predict(text, include_neutral=True):\n",
    "    start_at = time.time()\n",
    "    # Tokenize text\n",
    "    x_test = pad_sequences(tokenizer.texts_to_sequences([text]), maxlen=SEQUENCE_LENGTH)\n",
    "    # Predict\n",
    "    score = model.predict([x_test])[0]\n",
    "    # Decode sentiment\n",
    "    label = decode_sentiment(score, include_neutral=include_neutral)\n",
    "\n",
    "    return {\"label\": label, \"score\": float(score),\n",
    "       \"elapsed_time\": time.time()-start_at}  "
   ]
  },
  {
   "cell_type": "code",
   "execution_count": 125,
   "metadata": {
    "_uuid": "ca38b1e6c9b5acfed7467de2cf02a78333108872"
   },
   "outputs": [
    {
     "data": {
      "text/plain": [
       "{'label': 'Random',\n",
       " 'score': 0.5537341237068176,\n",
       " 'elapsed_time': 0.18327713012695312}"
      ]
     },
     "execution_count": 125,
     "metadata": {},
     "output_type": "execute_result"
    }
   ],
   "source": [
    "predict(\"LGBT\")"
   ]
  },
  {
   "cell_type": "code",
   "execution_count": 128,
   "metadata": {},
   "outputs": [],
   "source": [
    "def predict(text, include_neutral=True):\n",
    "    start_at = time.time()\n",
    "    # Tokenize text\n",
    "    x_test = pad_sequences(tokenizer.texts_to_sequences([text]), maxlen=SEQUENCE_LENGTH)\n",
    "    # Predict\n",
    "    score = model.predict([x_test])[0]\n",
    "    # Decode sentiment\n",
    "    label = decode_sentiment(score, include_neutral=include_neutral)\n",
    "\n",
    "    return label"
   ]
  },
  {
   "cell_type": "code",
   "execution_count": 145,
   "metadata": {},
   "outputs": [],
   "source": [
    "SENTIMENT_THRESHOLDS = (0.49, 0.65)\n"
   ]
  },
  {
   "cell_type": "code",
   "execution_count": 146,
   "metadata": {},
   "outputs": [
    {
     "data": {
      "text/plain": [
       "['Positive',\n",
       " 'Positive',\n",
       " 'Positive',\n",
       " 'Positive',\n",
       " 'Random',\n",
       " 'Random',\n",
       " 'Positive',\n",
       " 'Random',\n",
       " 'Positive',\n",
       " 'Negative',\n",
       " 'Positive',\n",
       " 'Random',\n",
       " 'Random',\n",
       " 'Positive',\n",
       " 'Random',\n",
       " 'Negative',\n",
       " 'Positive',\n",
       " 'Random',\n",
       " 'Random',\n",
       " 'Random',\n",
       " 'Negative',\n",
       " 'Positive',\n",
       " 'Positive',\n",
       " 'Negative',\n",
       " 'Random',\n",
       " 'Positive',\n",
       " 'Random',\n",
       " 'Random',\n",
       " 'Random',\n",
       " 'Random',\n",
       " 'Random',\n",
       " 'Negative',\n",
       " 'Negative',\n",
       " 'Random',\n",
       " 'Random',\n",
       " 'Random',\n",
       " 'Random',\n",
       " 'Random',\n",
       " 'Random',\n",
       " 'Random',\n",
       " 'Random',\n",
       " 'Random',\n",
       " 'Random',\n",
       " 'Positive',\n",
       " 'Random',\n",
       " 'Random',\n",
       " 'Random',\n",
       " 'Negative',\n",
       " 'Random',\n",
       " 'Positive',\n",
       " 'Negative',\n",
       " 'Negative',\n",
       " 'Negative',\n",
       " 'Positive',\n",
       " 'Random',\n",
       " 'Random',\n",
       " 'Positive',\n",
       " 'Negative',\n",
       " 'Negative',\n",
       " 'Random',\n",
       " 'Positive',\n",
       " 'Random',\n",
       " 'Random',\n",
       " 'Positive',\n",
       " 'Negative',\n",
       " 'Negative',\n",
       " 'Random',\n",
       " 'Random',\n",
       " 'Random',\n",
       " 'Random',\n",
       " 'Random',\n",
       " 'Negative',\n",
       " 'Positive',\n",
       " 'Positive',\n",
       " 'Random',\n",
       " 'Positive',\n",
       " 'Random',\n",
       " 'Negative',\n",
       " 'Positive',\n",
       " 'Negative',\n",
       " 'Positive',\n",
       " 'Positive',\n",
       " 'Random',\n",
       " 'Positive',\n",
       " 'Positive',\n",
       " 'Random',\n",
       " 'Random',\n",
       " 'Negative',\n",
       " 'Positive',\n",
       " 'Random',\n",
       " 'Positive',\n",
       " 'Random',\n",
       " 'Random',\n",
       " 'Positive',\n",
       " 'Negative',\n",
       " 'Random',\n",
       " 'Random',\n",
       " 'Random',\n",
       " 'Random',\n",
       " 'Positive',\n",
       " 'Random',\n",
       " 'Negative',\n",
       " 'Random',\n",
       " 'Random',\n",
       " 'Positive',\n",
       " 'Random',\n",
       " 'Random',\n",
       " 'Random',\n",
       " 'Positive',\n",
       " 'Positive',\n",
       " 'Positive',\n",
       " 'Positive',\n",
       " 'Random',\n",
       " 'Random',\n",
       " 'Random',\n",
       " 'Random',\n",
       " 'Random',\n",
       " 'Positive',\n",
       " 'Random',\n",
       " 'Negative',\n",
       " 'Random',\n",
       " 'Positive',\n",
       " 'Negative',\n",
       " 'Negative',\n",
       " 'Negative',\n",
       " 'Random',\n",
       " 'Random',\n",
       " 'Positive',\n",
       " 'Positive',\n",
       " 'Random',\n",
       " 'Positive',\n",
       " 'Random',\n",
       " 'Negative',\n",
       " 'Random',\n",
       " 'Negative',\n",
       " 'Random',\n",
       " 'Random',\n",
       " 'Random',\n",
       " 'Positive',\n",
       " 'Positive',\n",
       " 'Positive',\n",
       " 'Positive',\n",
       " 'Positive',\n",
       " 'Negative',\n",
       " 'Positive',\n",
       " 'Positive',\n",
       " 'Positive',\n",
       " 'Positive',\n",
       " 'Positive',\n",
       " 'Positive',\n",
       " 'Random',\n",
       " 'Positive',\n",
       " 'Positive',\n",
       " 'Positive',\n",
       " 'Positive',\n",
       " 'Random',\n",
       " 'Positive',\n",
       " 'Positive',\n",
       " 'Negative',\n",
       " 'Positive',\n",
       " 'Positive',\n",
       " 'Negative',\n",
       " 'Positive',\n",
       " 'Positive',\n",
       " 'Random',\n",
       " 'Random',\n",
       " 'Random',\n",
       " 'Positive',\n",
       " 'Positive',\n",
       " 'Positive',\n",
       " 'Positive',\n",
       " 'Positive',\n",
       " 'Negative',\n",
       " 'Random',\n",
       " 'Random',\n",
       " 'Random',\n",
       " 'Positive',\n",
       " 'Positive',\n",
       " 'Negative',\n",
       " 'Negative',\n",
       " 'Negative',\n",
       " 'Positive',\n",
       " 'Negative',\n",
       " 'Positive',\n",
       " 'Positive',\n",
       " 'Negative',\n",
       " 'Positive',\n",
       " 'Positive',\n",
       " 'Positive',\n",
       " 'Negative',\n",
       " 'Positive',\n",
       " 'Negative',\n",
       " 'Positive',\n",
       " 'Positive',\n",
       " 'Positive',\n",
       " 'Positive',\n",
       " 'Negative',\n",
       " 'Negative',\n",
       " 'Random',\n",
       " 'Negative',\n",
       " 'Positive',\n",
       " 'Positive',\n",
       " 'Positive',\n",
       " 'Negative',\n",
       " 'Positive',\n",
       " 'Positive',\n",
       " 'Positive',\n",
       " 'Positive',\n",
       " 'Positive',\n",
       " 'Negative',\n",
       " 'Negative',\n",
       " 'Negative',\n",
       " 'Positive',\n",
       " 'Positive',\n",
       " 'Positive',\n",
       " 'Positive',\n",
       " 'Positive',\n",
       " 'Positive',\n",
       " 'Positive',\n",
       " 'Negative',\n",
       " 'Random',\n",
       " 'Negative',\n",
       " 'Positive',\n",
       " 'Positive',\n",
       " 'Random',\n",
       " 'Positive',\n",
       " 'Negative',\n",
       " 'Positive',\n",
       " 'Positive',\n",
       " 'Negative',\n",
       " 'Positive',\n",
       " 'Positive',\n",
       " 'Positive',\n",
       " 'Random',\n",
       " 'Negative',\n",
       " 'Positive',\n",
       " 'Positive',\n",
       " 'Positive',\n",
       " 'Positive']"
      ]
     },
     "execution_count": 146,
     "metadata": {},
     "output_type": "execute_result"
    }
   ],
   "source": [
    "response = []\n",
    "\n",
    "for t in texts:\n",
    "    response.append(predict(t))\n",
    "response"
   ]
  },
  {
   "cell_type": "code",
   "execution_count": 147,
   "metadata": {},
   "outputs": [],
   "source": [
    "with open('result.pkl', 'wb') as f:\n",
    "    pickle.dump(response, f)"
   ]
  },
  {
   "cell_type": "code",
   "execution_count": null,
   "metadata": {
    "_uuid": "3b2b3ad5b592977b404acfa1c9ad303a62837255"
   },
   "outputs": [],
   "source": [
    "model.save(KERAS_MODEL)\n",
    "w2v_model.save(WORD2VEC_MODEL)\n",
    "pickle.dump(tokenizer, open(TOKENIZER_MODEL, \"wb\"), protocol=0)\n",
    "pickle.dump(encoder, open(ENCODER_MODEL, \"wb\"), protocol=0)"
   ]
  }
 ],
 "metadata": {
  "kernelspec": {
   "display_name": "Python 3",
   "language": "python",
   "name": "python3"
  },
  "language_info": {
   "codemirror_mode": {
    "name": "ipython",
    "version": 3
   },
   "file_extension": ".py",
   "mimetype": "text/x-python",
   "name": "python",
   "nbconvert_exporter": "python",
   "pygments_lexer": "ipython3",
   "version": "3.7.4"
  }
 },
 "nbformat": 4,
 "nbformat_minor": 1
}
